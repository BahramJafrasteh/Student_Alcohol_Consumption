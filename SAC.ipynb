{
 "cells": [
  {
   "cell_type": "code",
   "execution_count": null,
   "metadata": {},
   "outputs": [],
   "source": [
    "# Author: Bahram Jafrasteh"
   ]
  },
  {
   "cell_type": "markdown",
   "metadata": {},
   "source": [
    "# Student Alcohol Consumption"
   ]
  },
  {
   "cell_type": "markdown",
   "metadata": {},
   "source": [
    "## Imports"
   ]
  },
  {
   "cell_type": "markdown",
   "metadata": {},
   "source": [
    "Useful python library"
   ]
  },
  {
   "cell_type": "code",
   "execution_count": 1,
   "metadata": {},
   "outputs": [],
   "source": [
    "import matplotlib.pyplot as plt\n",
    "import tensorflow as tf\n",
    "import numpy as np\n",
    "import time\n",
    "from datetime import timedelta\n",
    "import pandas as pd\n",
    "import seaborn as sns\n",
    "import os.path\n",
    "import math\n",
    "import os\n",
    "import csv\n",
    "from sklearn.neighbors import LocalOutlierFactor\n",
    "from sklearn.preprocessing import LabelEncoder\n",
    "from sklearn.preprocessing import OneHotEncoder\n",
    "from sklearn.preprocessing import StandardScaler\n",
    "from sklearn.model_selection import train_test_split\n",
    "# for K-fold cross validation in NN\n",
    "from sklearn.model_selection import KFold\n",
    "from sklearn.ensemble import RandomForestRegressor\n",
    "from sklearn.datasets import make_regression\n",
    "from sklearn import metrics\n",
    "from tabulate import tabulate\n",
    "from scipy import stats"
   ]
  },
  {
   "cell_type": "markdown",
   "metadata": {},
   "source": [
    "# Loading the data from data path"
   ]
  },
  {
   "cell_type": "code",
   "execution_count": 2,
   "metadata": {},
   "outputs": [],
   "source": [
    "data_path = \"Data/\"\n",
    "os.path.exists(data_path)\n",
    "raw_math = pd.read_csv(data_path + \"student-mat.csv\")\n",
    "raw_por = pd.read_csv(data_path + \"student-por.csv\")\n",
    "data_por = raw_por\n",
    "data_math = raw_math"
   ]
  },
  {
   "cell_type": "markdown",
   "metadata": {},
   "source": [
    "# About the data"
   ]
  },
  {
   "cell_type": "markdown",
   "metadata": {},
   "source": [
    "Attributes for both student-mat.csv (Math course) and student-por.csv (Portuguese language course) datasets:\n",
    "\n",
    "school - student's school (binary: 'GP' - Gabriel Pereira or 'MS' - Mousinho da Silveira)\n",
    "\n",
    "sex - student's sex (binary: 'F' - female or 'M' - male)\n",
    "\n",
    "age - student's age (numeric: from 15 to 22)\n",
    "\n",
    "address - student's home address type (binary: 'U' - urban or 'R' - rural)\n",
    "\n",
    "famsize - family size (binary: 'LE3' - less or equal to 3 or 'GT3' - greater than 3)\n",
    "\n",
    "Pstatus - parent's cohabitation status (binary: 'T' - living together or 'A' - apart)\n",
    "\n",
    "Medu - mother's education (numeric: 0 - none, 1 - primary education (4th grade), 2 – 5th to 9th grade, 3 – secondary education or 4 – \n",
    "higher education)\n",
    "\n",
    "Fedu - father's education (numeric: 0 - none, 1 - primary education (4th grade), 2 – 5th to 9th grade, 3 – secondary education or 4 – higher education)\n",
    "\n",
    "Mjob - mother's job (nominal: 'teacher', 'health' care related, civil 'services' (e.g. administrative or police), 'at_home' or 'other')\n",
    "\n",
    "Fjob - father's job (nominal: 'teacher', 'health' care related, civil 'services' (e.g. administrative or police), 'at_home' or 'other')\n",
    "\n",
    "reason - reason to choose this school (nominal: close to 'home', \n",
    "\n",
    "school 'reputation', 'course' preference or 'other')\n",
    "\n",
    "guardian - student's guardian (nominal: 'mother', 'father' or 'other')\n",
    "\n",
    "traveltime - home to school travel time (numeric: 1 - <15 min., 2 - 15 to 30 min., 3 - 30 min. to 1 hour, or 4 - >1 hour)\n",
    "\n",
    "studytime - weekly study time (numeric: 1 - <2 hours, 2 - 2 to 5 hours, 3 - 5 to 10 hours, or 4 - >10 hours)\n",
    "\n",
    "failures - number of past class failures (numeric: n if 1<=n<3, else 4)\n",
    "\n",
    "schoolsup - extra educational support (binary: yes or no)\n",
    "\n",
    "famsup - family educational support (binary: yes or no)\n",
    "\n",
    "paid - extra paid classes within the course subject (Math or Portuguese) (binary: yes or no)\n",
    "\n",
    "activities - extra-curricular activities (binary: yes or no)\n",
    "\n",
    "nursery - attended nursery school (binary: yes or no)\n",
    "\n",
    "higher - wants to take higher education (binary: yes or no)\n",
    "\n",
    "internet - Internet access at home (binary: yes or no)\n",
    "\n",
    "romantic - with a romantic relationship (binary: yes or no)\n",
    "\n",
    "famrel - quality of family relationships (numeric: from 1 - very bad \n",
    "to 5 - excellent)\n",
    "\n",
    "freetime - free time after school (numeric: from 1 - very low to 5 - very high)\n",
    "\n",
    "goout - going out with friends (numeric: from 1 - very low to 5 - very high)\n",
    "\n",
    "Dalc - workday alcohol consumption (numeric: from 1 - very low to 5 - very high)\n",
    "\n",
    "Walc - weekend alcohol consumption (numeric: from 1 - very low to 5 - very high)\n",
    "\n",
    "health - current health status (numeric: from 1 - very bad to 5 - very good)\n",
    "\n",
    "absences - number of school absences (numeric: from 0 to 93)\n",
    "These grades are related with the course subject, Math or Portuguese:\n",
    "\n",
    "G1 - first period grade (numeric: from 0 to 20)\n",
    "\n",
    "G2 - second period grade (numeric: from 0 to 20)\n",
    "\n",
    "G3 - final grade (numeric: from 0 to 20, output target)\n",
    "\n",
    "\n",
    "https://www.kaggle.com/uciml/student-alcohol-consumption"
   ]
  },
  {
   "cell_type": "markdown",
   "metadata": {},
   "source": [
    "# Data portuguese language courses"
   ]
  },
  {
   "cell_type": "markdown",
   "metadata": {},
   "source": [
    "# Check the data for missing values"
   ]
  },
  {
   "cell_type": "markdown",
   "metadata": {},
   "source": [
    "Check if there is any na or null values in the data set"
   ]
  },
  {
   "cell_type": "code",
   "execution_count": 4,
   "metadata": {},
   "outputs": [
    {
     "name": "stdout",
     "output_type": "stream",
     "text": [
      "school        0\n",
      "sex           0\n",
      "age           0\n",
      "address       0\n",
      "famsize       0\n",
      "Pstatus       0\n",
      "Medu          0\n",
      "Fedu          0\n",
      "Mjob          0\n",
      "Fjob          0\n",
      "reason        0\n",
      "guardian      0\n",
      "traveltime    0\n",
      "studytime     0\n",
      "failures      0\n",
      "schoolsup     0\n",
      "famsup        0\n",
      "paid          0\n",
      "activities    0\n",
      "nursery       0\n",
      "higher        0\n",
      "internet      0\n",
      "romantic      0\n",
      "famrel        0\n",
      "freetime      0\n",
      "goout         0\n",
      "Dalc          0\n",
      "Walc          0\n",
      "health        0\n",
      "absences      0\n",
      "G1            0\n",
      "G2            0\n",
      "G3            0\n",
      "dtype: int64\n"
     ]
    }
   ],
   "source": [
    "print(data_por.isna().sum())"
   ]
  },
  {
   "cell_type": "code",
   "execution_count": 5,
   "metadata": {},
   "outputs": [
    {
     "name": "stdout",
     "output_type": "stream",
     "text": [
      "school        0\n",
      "sex           0\n",
      "age           0\n",
      "address       0\n",
      "famsize       0\n",
      "Pstatus       0\n",
      "Medu          0\n",
      "Fedu          0\n",
      "Mjob          0\n",
      "Fjob          0\n",
      "reason        0\n",
      "guardian      0\n",
      "traveltime    0\n",
      "studytime     0\n",
      "failures      0\n",
      "schoolsup     0\n",
      "famsup        0\n",
      "paid          0\n",
      "activities    0\n",
      "nursery       0\n",
      "higher        0\n",
      "internet      0\n",
      "romantic      0\n",
      "famrel        0\n",
      "freetime      0\n",
      "goout         0\n",
      "Dalc          0\n",
      "Walc          0\n",
      "health        0\n",
      "absences      0\n",
      "G1            0\n",
      "G2            0\n",
      "G3            0\n",
      "dtype: int64\n"
     ]
    }
   ],
   "source": [
    "print(data_por.isnull().sum())"
   ]
  },
  {
   "cell_type": "markdown",
   "metadata": {},
   "source": [
    "As we do not have missing values in this data set we do not deal with that.\n",
    "But If we had missing values there are different methods for replacing them.\n",
    "one of the simplest one is SimpleImputer from Sklearn library\n",
    "that you can use mean, median, constant and other types of replacement for missing values."
   ]
  },
  {
   "cell_type": "markdown",
   "metadata": {},
   "source": [
    "# Describing the data"
   ]
  },
  {
   "cell_type": "markdown",
   "metadata": {},
   "source": [
    "Extract numerical and categorical columns in the data"
   ]
  },
  {
   "cell_type": "code",
   "execution_count": 6,
   "metadata": {},
   "outputs": [],
   "source": [
    "num_cols = data_por._get_numeric_data().columns\n",
    "cols = data_por.columns\n",
    "cat_cols = set(cols) - set(num_cols)"
   ]
  },
  {
   "cell_type": "markdown",
   "metadata": {},
   "source": [
    "Showing simple statistics of categorical data set"
   ]
  },
  {
   "cell_type": "code",
   "execution_count": 7,
   "metadata": {},
   "outputs": [
    {
     "name": "stdout",
     "output_type": "stream",
     "text": [
      "count     649\n",
      "unique      2\n",
      "top       yes\n",
      "freq      498\n",
      "Name: internet, dtype: object\n",
      "\n",
      "\n",
      "count     649\n",
      "unique      2\n",
      "top       yes\n",
      "freq      580\n",
      "Name: higher, dtype: object\n",
      "\n",
      "\n",
      "count     649\n",
      "unique      2\n",
      "top       yes\n",
      "freq      398\n",
      "Name: famsup, dtype: object\n",
      "\n",
      "\n",
      "count        649\n",
      "unique         3\n",
      "top       mother\n",
      "freq         455\n",
      "Name: guardian, dtype: object\n",
      "\n",
      "\n",
      "count     649\n",
      "unique      2\n",
      "top        no\n",
      "freq      334\n",
      "Name: activities, dtype: object\n",
      "\n",
      "\n",
      "count     649\n",
      "unique      2\n",
      "top        no\n",
      "freq      610\n",
      "Name: paid, dtype: object\n",
      "\n",
      "\n",
      "count     649\n",
      "unique      2\n",
      "top        no\n",
      "freq      410\n",
      "Name: romantic, dtype: object\n",
      "\n",
      "\n",
      "count       649\n",
      "unique        5\n",
      "top       other\n",
      "freq        367\n",
      "Name: Fjob, dtype: object\n",
      "\n",
      "\n",
      "count        649\n",
      "unique         4\n",
      "top       course\n",
      "freq         285\n",
      "Name: reason, dtype: object\n",
      "\n",
      "\n",
      "count     649\n",
      "unique      2\n",
      "top        GP\n",
      "freq      423\n",
      "Name: school, dtype: object\n",
      "\n",
      "\n",
      "count     649\n",
      "unique      2\n",
      "top         T\n",
      "freq      569\n",
      "Name: Pstatus, dtype: object\n",
      "\n",
      "\n",
      "count     649\n",
      "unique      2\n",
      "top       GT3\n",
      "freq      457\n",
      "Name: famsize, dtype: object\n",
      "\n",
      "\n",
      "count     649\n",
      "unique      2\n",
      "top         F\n",
      "freq      383\n",
      "Name: sex, dtype: object\n",
      "\n",
      "\n",
      "count     649\n",
      "unique      2\n",
      "top         U\n",
      "freq      452\n",
      "Name: address, dtype: object\n",
      "\n",
      "\n",
      "count       649\n",
      "unique        5\n",
      "top       other\n",
      "freq        258\n",
      "Name: Mjob, dtype: object\n",
      "\n",
      "\n",
      "count     649\n",
      "unique      2\n",
      "top       yes\n",
      "freq      521\n",
      "Name: nursery, dtype: object\n",
      "\n",
      "\n",
      "count     649\n",
      "unique      2\n",
      "top        no\n",
      "freq      581\n",
      "Name: schoolsup, dtype: object\n",
      "\n",
      "\n"
     ]
    }
   ],
   "source": [
    "for h in cat_cols:\n",
    "    print(data_por[h].describe())\n",
    "    print(\"\\n\")"
   ]
  },
  {
   "cell_type": "markdown",
   "metadata": {},
   "source": [
    "Describing statistics of numerical part of the data set"
   ]
  },
  {
   "cell_type": "code",
   "execution_count": 8,
   "metadata": {},
   "outputs": [
    {
     "data": {
      "text/plain": [
       "age         count    649.000000\n",
       "            mean      16.744222\n",
       "            std        1.218138\n",
       "            min       15.000000\n",
       "            25%       16.000000\n",
       "            50%       17.000000\n",
       "            75%       18.000000\n",
       "            max       22.000000\n",
       "Medu        count    649.000000\n",
       "            mean       2.514638\n",
       "            std        1.134552\n",
       "            min        0.000000\n",
       "            25%        2.000000\n",
       "            50%        2.000000\n",
       "            75%        4.000000\n",
       "            max        4.000000\n",
       "Fedu        count    649.000000\n",
       "            mean       2.306626\n",
       "            std        1.099931\n",
       "            min        0.000000\n",
       "            25%        1.000000\n",
       "            50%        2.000000\n",
       "            75%        3.000000\n",
       "            max        4.000000\n",
       "traveltime  count    649.000000\n",
       "            mean       1.568567\n",
       "            std        0.748660\n",
       "            min        1.000000\n",
       "            25%        1.000000\n",
       "            50%        1.000000\n",
       "                        ...    \n",
       "absences    std        4.640759\n",
       "            min        0.000000\n",
       "            25%        0.000000\n",
       "            50%        2.000000\n",
       "            75%        6.000000\n",
       "            max       32.000000\n",
       "G1          count    649.000000\n",
       "            mean      11.399076\n",
       "            std        2.745265\n",
       "            min        0.000000\n",
       "            25%       10.000000\n",
       "            50%       11.000000\n",
       "            75%       13.000000\n",
       "            max       19.000000\n",
       "G2          count    649.000000\n",
       "            mean      11.570108\n",
       "            std        2.913639\n",
       "            min        0.000000\n",
       "            25%       10.000000\n",
       "            50%       11.000000\n",
       "            75%       13.000000\n",
       "            max       19.000000\n",
       "G3          count    649.000000\n",
       "            mean      11.906009\n",
       "            std        3.230656\n",
       "            min        0.000000\n",
       "            25%       10.000000\n",
       "            50%       12.000000\n",
       "            75%       14.000000\n",
       "            max       19.000000\n",
       "Length: 128, dtype: float64"
      ]
     },
     "execution_count": 8,
     "metadata": {},
     "output_type": "execute_result"
    }
   ],
   "source": [
    "data_por[num_cols].describe().unstack()"
   ]
  },
  {
   "cell_type": "markdown",
   "metadata": {},
   "source": [
    "# Converting categorical data"
   ]
  },
  {
   "cell_type": "markdown",
   "metadata": {},
   "source": [
    "There are various method for using categorical data in the computation. \n",
    "Onehot encodig is one of the most commonly used method.\n",
    "We use this method here."
   ]
  },
  {
   "cell_type": "code",
   "execution_count": 9,
   "metadata": {},
   "outputs": [],
   "source": [
    "# conver categorical data to numerical one using onehot encoding method\n",
    "def ConvertToNum_dummies(data_in, cat_cols):\n",
    "    data_out = data_in\n",
    "    for num_cl in data_in.head():\n",
    "        # if the column is categorical then change it\n",
    "        if num_cl in cat_cols:\n",
    "            un = data_out[num_cl].unique()\n",
    "            for i in range(len(un)):\n",
    "                # index of the data that are equal to un[i]\n",
    "                indices = [j for j, s in enumerate(data_in[num_cl]) if un[i] in s]\n",
    "                # new name of the column\n",
    "                num_cl_new = num_cl+'_'+un[i]\n",
    "                # generate output data\n",
    "                data_out[num_cl_new] = np.zeros((np.shape(data_in[num_cl])), dtype=int)\n",
    "                data_out.loc[indices, num_cl_new] = 1\n",
    "            # remove the old column\n",
    "            data_out.__delitem__(num_cl)\n",
    "    return data_out"
   ]
  },
  {
   "cell_type": "code",
   "execution_count": 10,
   "metadata": {},
   "outputs": [],
   "source": [
    "data_por = ConvertToNum_dummies(data_por, cat_cols)\n",
    "cols = data_por.columns"
   ]
  },
  {
   "cell_type": "markdown",
   "metadata": {},
   "source": [
    "# Outlier Detection"
   ]
  },
  {
   "cell_type": "markdown",
   "metadata": {},
   "source": [
    "A methodology based on local density deviation of the data by considering the neighbour samples is considered to select\n",
    "outlier and remove them from the data set."
   ]
  },
  {
   "cell_type": "code",
   "execution_count": 11,
   "metadata": {},
   "outputs": [],
   "source": [
    "# The function inputs are data, num_cls: the header name of the column that is going to be checked for outiler\n",
    "# and the header names of categorical columns\n",
    "# The output is the output data after removing the outlier\n",
    "def Outlier_Detection(data_in):\n",
    "    data_out = data_in\n",
    "    clf = LocalOutlierFactor(n_neighbors=50, contamination=0.05)\n",
    "    y_pred = clf.fit_predict(data_out)\n",
    "    r = y_pred < 0\n",
    "    if sum(r) > 0:\n",
    "        print('{}'.format(\n",
    "            sum(r)) + \" rows from variables have been recognised as outlier and was removed\")\n",
    "        data_out.drop(data_out.index[r], inplace=True)\n",
    "    return data_out\n"
   ]
  },
  {
   "cell_type": "code",
   "execution_count": 12,
   "metadata": {},
   "outputs": [
    {
     "name": "stdout",
     "output_type": "stream",
     "text": [
      "33 rows from variables have been recognised as outlier and was removed\n"
     ]
    }
   ],
   "source": [
    "data_por = Outlier_Detection(data_por)"
   ]
  },
  {
   "cell_type": "markdown",
   "metadata": {},
   "source": [
    "# Pairplot"
   ]
  },
  {
   "cell_type": "markdown",
   "metadata": {},
   "source": [
    "Pairplot between average grade and dailay and weekend student alcohol consumption "
   ]
  },
  {
   "cell_type": "code",
   "execution_count": 13,
   "metadata": {},
   "outputs": [],
   "source": [
    "data_por['AG'] = (data_por['G1'] + data_por['G2'] + data_por['G3'])/3.0"
   ]
  },
  {
   "cell_type": "code",
   "execution_count": 14,
   "metadata": {},
   "outputs": [
    {
     "data": {
      "text/plain": [
       "<seaborn.axisgrid.PairGrid at 0x7fe814833e48>"
      ]
     },
     "execution_count": 14,
     "metadata": {},
     "output_type": "execute_result"
    },
    {
     "data": {
      "image/png": "[encoded data removed]",
      "text/plain": [
       "<Figure size 540x540 with 12 Axes>"
      ]
     },
     "metadata": {},
     "output_type": "display_data"
    }
   ],
   "source": [
    "sns.pairplot(data_por[['AG', 'Walc', 'Dalc']], diag_kind=\"kde\")"
   ]
  },
  {
   "cell_type": "markdown",
   "metadata": {},
   "source": [
    "From the plot it is clear that the student who their usage of alcohol during the week is high have lower average grade"
   ]
  },
  {
   "cell_type": "code",
   "execution_count": 15,
   "metadata": {},
   "outputs": [
    {
     "data": {
      "text/plain": [
       "<seaborn.axisgrid.JointGrid at 0x7fe8100b8390>"
      ]
     },
     "execution_count": 15,
     "metadata": {},
     "output_type": "execute_result"
    },
    {
     "data": {
      "image/png": "[encoded data removed]",
      "text/plain": [
       "<Figure size 432x432 with 3 Axes>"
      ]
     },
     "metadata": {},
     "output_type": "display_data"
    },
    {
     "data": {
      "image/png": "[encoded data removed]",
      "text/plain": [
       "<Figure size 432x432 with 3 Axes>"
      ]
     },
     "metadata": {},
     "output_type": "display_data"
    }
   ],
   "source": [
    "sns.jointplot(x=data_por['AG'], y=data_por['Walc'])\n",
    "sns.jointplot(x=data_por['AG'], y=data_por['Dalc'])"
   ]
  },
  {
   "cell_type": "markdown",
   "metadata": {},
   "source": [
    "From these plots one can conclude that some student that have low usage of alcohol during the week and or weekend have different ranges of average grade.\n",
    "The distribution of average grades for this students is probably comes from the mixed of two normal population."
   ]
  },
  {
   "cell_type": "markdown",
   "metadata": {},
   "source": [
    "# Data math courses"
   ]
  },
  {
   "cell_type": "markdown",
   "metadata": {},
   "source": [
    "# Check the data math for missing values"
   ]
  },
  {
   "cell_type": "markdown",
   "metadata": {},
   "source": [
    "Check if there is any na or null values in the data set"
   ]
  },
  {
   "cell_type": "code",
   "execution_count": 16,
   "metadata": {},
   "outputs": [
    {
     "name": "stdout",
     "output_type": "stream",
     "text": [
      "school        0\n",
      "sex           0\n",
      "age           0\n",
      "address       0\n",
      "famsize       0\n",
      "Pstatus       0\n",
      "Medu          0\n",
      "Fedu          0\n",
      "Mjob          0\n",
      "Fjob          0\n",
      "reason        0\n",
      "guardian      0\n",
      "traveltime    0\n",
      "studytime     0\n",
      "failures      0\n",
      "schoolsup     0\n",
      "famsup        0\n",
      "paid          0\n",
      "activities    0\n",
      "nursery       0\n",
      "higher        0\n",
      "internet      0\n",
      "romantic      0\n",
      "famrel        0\n",
      "freetime      0\n",
      "goout         0\n",
      "Dalc          0\n",
      "Walc          0\n",
      "health        0\n",
      "absences      0\n",
      "G1            0\n",
      "G2            0\n",
      "G3            0\n",
      "dtype: int64\n"
     ]
    }
   ],
   "source": [
    "print(data_math.isna().sum())"
   ]
  },
  {
   "cell_type": "code",
   "execution_count": 17,
   "metadata": {},
   "outputs": [
    {
     "name": "stdout",
     "output_type": "stream",
     "text": [
      "school        0\n",
      "sex           0\n",
      "age           0\n",
      "address       0\n",
      "famsize       0\n",
      "Pstatus       0\n",
      "Medu          0\n",
      "Fedu          0\n",
      "Mjob          0\n",
      "Fjob          0\n",
      "reason        0\n",
      "guardian      0\n",
      "traveltime    0\n",
      "studytime     0\n",
      "failures      0\n",
      "schoolsup     0\n",
      "famsup        0\n",
      "paid          0\n",
      "activities    0\n",
      "nursery       0\n",
      "higher        0\n",
      "internet      0\n",
      "romantic      0\n",
      "famrel        0\n",
      "freetime      0\n",
      "goout         0\n",
      "Dalc          0\n",
      "Walc          0\n",
      "health        0\n",
      "absences      0\n",
      "G1            0\n",
      "G2            0\n",
      "G3            0\n",
      "dtype: int64\n"
     ]
    }
   ],
   "source": [
    "print(data_math.isnull().sum())"
   ]
  },
  {
   "cell_type": "markdown",
   "metadata": {},
   "source": [
    "As it is clear we do not have any missing value to be dealt with"
   ]
  },
  {
   "cell_type": "markdown",
   "metadata": {},
   "source": [
    "# Describing the data"
   ]
  },
  {
   "cell_type": "markdown",
   "metadata": {},
   "source": [
    "Here we show some statistics of the categorical and numerical part of the data"
   ]
  },
  {
   "cell_type": "code",
   "execution_count": 18,
   "metadata": {},
   "outputs": [],
   "source": [
    "num_cols = data_math._get_numeric_data().columns\n",
    "cols = data_math.columns\n",
    "cat_cols = set(cols) - set(num_cols)"
   ]
  },
  {
   "cell_type": "code",
   "execution_count": 19,
   "metadata": {},
   "outputs": [
    {
     "name": "stdout",
     "output_type": "stream",
     "text": [
      "count     395\n",
      "unique      2\n",
      "top       yes\n",
      "freq      329\n",
      "Name: internet, dtype: object\n",
      "\n",
      "\n",
      "count     395\n",
      "unique      2\n",
      "top       yes\n",
      "freq      375\n",
      "Name: higher, dtype: object\n",
      "\n",
      "\n",
      "count     395\n",
      "unique      2\n",
      "top       yes\n",
      "freq      242\n",
      "Name: famsup, dtype: object\n",
      "\n",
      "\n",
      "count        395\n",
      "unique         3\n",
      "top       mother\n",
      "freq         273\n",
      "Name: guardian, dtype: object\n",
      "\n",
      "\n",
      "count     395\n",
      "unique      2\n",
      "top       yes\n",
      "freq      201\n",
      "Name: activities, dtype: object\n",
      "\n",
      "\n",
      "count     395\n",
      "unique      2\n",
      "top        no\n",
      "freq      214\n",
      "Name: paid, dtype: object\n",
      "\n",
      "\n",
      "count     395\n",
      "unique      2\n",
      "top        no\n",
      "freq      263\n",
      "Name: romantic, dtype: object\n",
      "\n",
      "\n",
      "count       395\n",
      "unique        5\n",
      "top       other\n",
      "freq        217\n",
      "Name: Fjob, dtype: object\n",
      "\n",
      "\n",
      "count        395\n",
      "unique         4\n",
      "top       course\n",
      "freq         145\n",
      "Name: reason, dtype: object\n",
      "\n",
      "\n",
      "count     395\n",
      "unique      2\n",
      "top        GP\n",
      "freq      349\n",
      "Name: school, dtype: object\n",
      "\n",
      "\n",
      "count     395\n",
      "unique      2\n",
      "top         T\n",
      "freq      354\n",
      "Name: Pstatus, dtype: object\n",
      "\n",
      "\n",
      "count     395\n",
      "unique      2\n",
      "top       GT3\n",
      "freq      281\n",
      "Name: famsize, dtype: object\n",
      "\n",
      "\n",
      "count     395\n",
      "unique      2\n",
      "top         F\n",
      "freq      208\n",
      "Name: sex, dtype: object\n",
      "\n",
      "\n",
      "count     395\n",
      "unique      2\n",
      "top         U\n",
      "freq      307\n",
      "Name: address, dtype: object\n",
      "\n",
      "\n",
      "count       395\n",
      "unique        5\n",
      "top       other\n",
      "freq        141\n",
      "Name: Mjob, dtype: object\n",
      "\n",
      "\n",
      "count     395\n",
      "unique      2\n",
      "top       yes\n",
      "freq      314\n",
      "Name: nursery, dtype: object\n",
      "\n",
      "\n",
      "count     395\n",
      "unique      2\n",
      "top        no\n",
      "freq      344\n",
      "Name: schoolsup, dtype: object\n",
      "\n",
      "\n"
     ]
    }
   ],
   "source": [
    "for h in cat_cols:\n",
    "    print(data_math[h].describe())\n",
    "    print(\"\\n\")"
   ]
  },
  {
   "cell_type": "code",
   "execution_count": 20,
   "metadata": {},
   "outputs": [
    {
     "data": {
      "text/plain": [
       "age         count    395.000000\n",
       "            mean      16.696203\n",
       "            std        1.276043\n",
       "            min       15.000000\n",
       "            25%       16.000000\n",
       "            50%       17.000000\n",
       "            75%       18.000000\n",
       "            max       22.000000\n",
       "Medu        count    395.000000\n",
       "            mean       2.749367\n",
       "            std        1.094735\n",
       "            min        0.000000\n",
       "            25%        2.000000\n",
       "            50%        3.000000\n",
       "            75%        4.000000\n",
       "            max        4.000000\n",
       "Fedu        count    395.000000\n",
       "            mean       2.521519\n",
       "            std        1.088201\n",
       "            min        0.000000\n",
       "            25%        2.000000\n",
       "            50%        2.000000\n",
       "            75%        3.000000\n",
       "            max        4.000000\n",
       "traveltime  count    395.000000\n",
       "            mean       1.448101\n",
       "            std        0.697505\n",
       "            min        1.000000\n",
       "            25%        1.000000\n",
       "            50%        1.000000\n",
       "                        ...    \n",
       "absences    std        8.003096\n",
       "            min        0.000000\n",
       "            25%        0.000000\n",
       "            50%        4.000000\n",
       "            75%        8.000000\n",
       "            max       75.000000\n",
       "G1          count    395.000000\n",
       "            mean      10.908861\n",
       "            std        3.319195\n",
       "            min        3.000000\n",
       "            25%        8.000000\n",
       "            50%       11.000000\n",
       "            75%       13.000000\n",
       "            max       19.000000\n",
       "G2          count    395.000000\n",
       "            mean      10.713924\n",
       "            std        3.761505\n",
       "            min        0.000000\n",
       "            25%        9.000000\n",
       "            50%       11.000000\n",
       "            75%       13.000000\n",
       "            max       19.000000\n",
       "G3          count    395.000000\n",
       "            mean      10.415190\n",
       "            std        4.581443\n",
       "            min        0.000000\n",
       "            25%        8.000000\n",
       "            50%       11.000000\n",
       "            75%       14.000000\n",
       "            max       20.000000\n",
       "Length: 128, dtype: float64"
      ]
     },
     "execution_count": 20,
     "metadata": {},
     "output_type": "execute_result"
    }
   ],
   "source": [
    "data_math[num_cols].describe().unstack()"
   ]
  },
  {
   "cell_type": "markdown",
   "metadata": {},
   "source": [
    "# Converting categorical data"
   ]
  },
  {
   "cell_type": "markdown",
   "metadata": {},
   "source": [
    "Convert the data using onehot enconder method"
   ]
  },
  {
   "cell_type": "code",
   "execution_count": 21,
   "metadata": {},
   "outputs": [],
   "source": [
    "data_math = ConvertToNum_dummies(data_math, cat_cols)\n",
    "cols = data_math.columns"
   ]
  },
  {
   "cell_type": "markdown",
   "metadata": {},
   "source": [
    "# Multivariate outlier detection and removing"
   ]
  },
  {
   "cell_type": "code",
   "execution_count": 22,
   "metadata": {},
   "outputs": [
    {
     "name": "stdout",
     "output_type": "stream",
     "text": [
      "20 rows from variables have been recognised as outlier and was removed\n"
     ]
    }
   ],
   "source": [
    "data_math = Outlier_Detection(data_math)"
   ]
  },
  {
   "cell_type": "markdown",
   "metadata": {},
   "source": [
    "# Drawing some plots"
   ]
  },
  {
   "cell_type": "markdown",
   "metadata": {},
   "source": [
    "Compute average grade of the math student"
   ]
  },
  {
   "cell_type": "code",
   "execution_count": 23,
   "metadata": {},
   "outputs": [],
   "source": [
    "data_math['AG'] = (data_math['G1'] + data_math['G2'] + data_math['G3'])/3.0"
   ]
  },
  {
   "cell_type": "markdown",
   "metadata": {},
   "source": [
    "Drawing pair plot for average grade, weekend alcohol consumption and daily alcohol consumption"
   ]
  },
  {
   "cell_type": "code",
   "execution_count": 24,
   "metadata": {},
   "outputs": [
    {
     "data": {
      "text/plain": [
       "<seaborn.axisgrid.PairGrid at 0x7fe80fee5978>"
      ]
     },
     "execution_count": 24,
     "metadata": {},
     "output_type": "execute_result"
    },
    {
     "data": {
      "image/png": "[encoded data removed]",
      "text/plain": [
       "<Figure size 540x540 with 12 Axes>"
      ]
     },
     "metadata": {},
     "output_type": "display_data"
    }
   ],
   "source": [
    "sns.pairplot(data_math[['AG', 'Walc', 'Dalc']], diag_kind=\"kde\")"
   ]
  },
  {
   "cell_type": "markdown",
   "metadata": {},
   "source": [
    "This plot shows that the average grade of some of the student who has high daily alchol consumption is more than ten.\n",
    "Student who has low daily and weeked usage of alcohol does have different ranges of grades."
   ]
  },
  {
   "cell_type": "markdown",
   "metadata": {},
   "source": [
    "Below we use joint plot as another way of representing the data"
   ]
  },
  {
   "cell_type": "code",
   "execution_count": 25,
   "metadata": {},
   "outputs": [
    {
     "data": {
      "text/plain": [
       "<seaborn.axisgrid.JointGrid at 0x7fe80fa4e0f0>"
      ]
     },
     "execution_count": 25,
     "metadata": {},
     "output_type": "execute_result"
    },
    {
     "data": {
      "image/png": "[encoded data removed]",
      "text/plain": [
       "<Figure size 432x432 with 3 Axes>"
      ]
     },
     "metadata": {},
     "output_type": "display_data"
    },
    {
     "data": {
      "image/png": "[encoded data removed]",
      "text/plain": [
       "<Figure size 432x432 with 3 Axes>"
      ]
     },
     "metadata": {},
     "output_type": "display_data"
    }
   ],
   "source": [
    "sns.jointplot(x=data_math['AG'], y=data_math['Walc'])\n",
    "sns.jointplot(x=data_math['AG'], y=data_math['Dalc'])"
   ]
  },
  {
   "cell_type": "markdown",
   "metadata": {},
   "source": [
    "The distribution of the average grade data for this population comes from a normal population"
   ]
  },
  {
   "cell_type": "markdown",
   "metadata": {},
   "source": [
    "# Merging the data"
   ]
  },
  {
   "cell_type": "markdown",
   "metadata": {},
   "source": [
    "We here employ Mann-Whitney U Test to check if we can merge two data set. The p-value would let us knwo that if two data set are from the same distribtion or not."
   ]
  },
  {
   "cell_type": "code",
   "execution_count": 26,
   "metadata": {},
   "outputs": [
    {
     "data": {
      "text/plain": [
       "MannwhitneyuResult(statistic=115241.5, pvalue=0.47546196169368526)"
      ]
     },
     "execution_count": 26,
     "metadata": {},
     "output_type": "execute_result"
    }
   ],
   "source": [
    "stats.mannwhitneyu(data_por['Walc'], data_math['Walc'])"
   ]
  },
  {
   "cell_type": "markdown",
   "metadata": {},
   "source": [
    "The provided pvalue for comparing weekend alcohol consumption of the students indicate that our initial hypothesis is true and we can combine these data."
   ]
  },
  {
   "cell_type": "code",
   "execution_count": 28,
   "metadata": {},
   "outputs": [
    {
     "data": {
      "text/plain": [
       "MannwhitneyuResult(statistic=114956.5, pvalue=0.4379827769423332)"
      ]
     },
     "execution_count": 28,
     "metadata": {},
     "output_type": "execute_result"
    }
   ],
   "source": [
    "stats.mannwhitneyu(data_por['Dalc'], data_math['Dalc'])"
   ]
  },
  {
   "cell_type": "markdown",
   "metadata": {},
   "source": [
    "The provided pvalue for daily alcohlo consumption indicate the same distribution."
   ]
  },
  {
   "cell_type": "markdown",
   "metadata": {},
   "source": [
    "As Dalc and Walc are considered the most important parameters for this problem we merge the available data from a survey of students math and portuguese language courses in secondary school."
   ]
  },
  {
   "cell_type": "code",
   "execution_count": 29,
   "metadata": {},
   "outputs": [],
   "source": [
    "data_all = pd.concat([data_math, data_por], sort=False)"
   ]
  },
  {
   "cell_type": "markdown",
   "metadata": {},
   "source": [
    "# Some statistics"
   ]
  },
  {
   "cell_type": "markdown",
   "metadata": {},
   "source": [
    "We generate joint plot and pair plot to find the distribution and relationship among average grade and alcohol consumption."
   ]
  },
  {
   "cell_type": "code",
   "execution_count": 30,
   "metadata": {},
   "outputs": [
    {
     "data": {
      "text/plain": [
       "<seaborn.axisgrid.JointGrid at 0x7fe80f839a90>"
      ]
     },
     "execution_count": 30,
     "metadata": {},
     "output_type": "execute_result"
    },
    {
     "data": {
      "image/png": "[encoded data removed]",
      "text/plain": [
       "<Figure size 432x432 with 3 Axes>"
      ]
     },
     "metadata": {},
     "output_type": "display_data"
    },
    {
     "data": {
      "image/png": "[encoded data removed]",
      "text/plain": [
       "<Figure size 432x432 with 3 Axes>"
      ]
     },
     "metadata": {},
     "output_type": "display_data"
    }
   ],
   "source": [
    "sns.jointplot(x=data_all['AG'], y=data_all['Walc'])\n",
    "sns.jointplot(x=data_all['AG'], y=data_all['Dalc'])"
   ]
  },
  {
   "cell_type": "markdown",
   "metadata": {},
   "source": [
    "The distributon of the combined data set is from a mixed normal population."
   ]
  },
  {
   "cell_type": "code",
   "execution_count": 31,
   "metadata": {},
   "outputs": [
    {
     "data": {
      "text/plain": [
       "<seaborn.axisgrid.PairGrid at 0x7fe80f91aac8>"
      ]
     },
     "execution_count": 31,
     "metadata": {},
     "output_type": "execute_result"
    },
    {
     "data": {
      "image/png": "[encoded data removed]",
      "text/plain": [
       "<Figure size 540x540 with 12 Axes>"
      ]
     },
     "metadata": {},
     "output_type": "display_data"
    }
   ],
   "source": [
    "sns.pairplot(data_all[['AG', 'Walc', 'Dalc']], diag_kind=\"kde\")"
   ]
  },
  {
   "cell_type": "markdown",
   "metadata": {},
   "source": [
    "These plots reveal that average grades of the students who has high usage of daily alchol consumption is about average.\n",
    "It also can be inferred that weekend alchol consumption can not have a very important effect on average grades of the students.\n",
    "There is not a robust correlation between weekend alchol consumption and daily consumption.\n",
    "Both daily and weekend alcohol consumptioner are from mixed normal populations."
   ]
  },
  {
   "cell_type": "markdown",
   "metadata": {},
   "source": [
    "We also generate a heat map to show the correlation among different varialbes used in this study"
   ]
  },
  {
   "cell_type": "code",
   "execution_count": 32,
   "metadata": {},
   "outputs": [
    {
     "data": {
      "text/plain": [
       "<matplotlib.axes._subplots.AxesSubplot at 0x7fe80f517978>"
      ]
     },
     "execution_count": 32,
     "metadata": {},
     "output_type": "execute_result"
    },
    {
     "data": {
      "image/png": "[encoded data removed]",
      "text/plain": [
       "<Figure size 432x288 with 2 Axes>"
      ]
     },
     "metadata": {},
     "output_type": "display_data"
    }
   ],
   "source": [
    "sns.heatmap(data = data_all.corr()) "
   ]
  },
  {
   "cell_type": "markdown",
   "metadata": {},
   "source": [
    "The absolute value of the correlation is important. The higher absolute value of the correlation between two varialble indicates that the one of them can have strong effect on the other one."
   ]
  },
  {
   "cell_type": "markdown",
   "metadata": {},
   "source": [
    "# Separating data to training and test subsets"
   ]
  },
  {
   "cell_type": "markdown",
   "metadata": {},
   "source": [
    "In this part we divide the dat into traing and testing part to apply some ML methods on them"
   ]
  },
  {
   "cell_type": "code",
   "execution_count": 33,
   "metadata": {},
   "outputs": [],
   "source": [
    "data_total = data_all.astype('float64')\n",
    "# target dat\n",
    "y = data_total['AG']\n",
    "cols = data_total.columns\n",
    "target_inds = ['AG', 'G1', 'G2', 'G3']\n",
    "cols = cols.drop(target_inds)"
   ]
  },
  {
   "cell_type": "code",
   "execution_count": 34,
   "metadata": {},
   "outputs": [],
   "source": [
    "# input data\n",
    "X = data_total[cols]"
   ]
  },
  {
   "cell_type": "markdown",
   "metadata": {},
   "source": [
    "Dividing training and test data set while keeping index of traing and test"
   ]
  },
  {
   "cell_type": "code",
   "execution_count": 35,
   "metadata": {},
   "outputs": [],
   "source": [
    "# indices of the traing and test\n",
    "indices_data = range(len(data_total))\n",
    "X_train, X_test, y_train, y_test,ind_train, ind_test = train_test_split(X, y, indices_data, test_size=0.2, random_state = 42)"
   ]
  },
  {
   "cell_type": "markdown",
   "metadata": {},
   "source": [
    "# Data preprocessing"
   ]
  },
  {
   "cell_type": "markdown",
   "metadata": {},
   "source": [
    "There are various methods to scale the data.\n",
    "One of the most common method is scale the data by removing the mean and scaling to unit variance"
   ]
  },
  {
   "cell_type": "code",
   "execution_count": 36,
   "metadata": {},
   "outputs": [],
   "source": [
    "# scale input data using StandardScaler from SKlearn\n",
    "XScaler = StandardScaler()\n",
    "XScaler.fit(X_train)\n",
    "X_train = XScaler.transform(X_train)\n",
    "X_test = XScaler.transform(X_test)\n",
    "\n",
    "# scale output data using StandardScaler from SKlearn\n",
    "YScaler = StandardScaler()\n",
    "YScaler.fit(y_train.values.reshape(-1,1))\n",
    "y_train = YScaler.transform(y_train.values.reshape(-1,1))\n",
    "y_test = YScaler.transform(y_test.values.reshape(-1,1))"
   ]
  },
  {
   "cell_type": "markdown",
   "metadata": {},
   "source": [
    "Get the number of samples and features in the training set"
   ]
  },
  {
   "cell_type": "code",
   "execution_count": 37,
   "metadata": {},
   "outputs": [],
   "source": [
    "train_size, train_dim = np.shape(X_train)"
   ]
  },
  {
   "cell_type": "markdown",
   "metadata": {},
   "source": [
    "# Fit a linear model to the data"
   ]
  },
  {
   "cell_type": "markdown",
   "metadata": {},
   "source": [
    "Here we use tensorflow package to fit a linear model as the simplest and basice model for estimating the average grade of the students."
   ]
  },
  {
   "cell_type": "markdown",
   "metadata": {},
   "source": [
    "Defining place holder input variable "
   ]
  },
  {
   "cell_type": "code",
   "execution_count": 38,
   "metadata": {},
   "outputs": [],
   "source": [
    "x = tf.placeholder(tf.float32, [None, train_dim])"
   ]
  },
  {
   "cell_type": "markdown",
   "metadata": {},
   "source": [
    "Defining place holder output varialbe"
   ]
  },
  {
   "cell_type": "code",
   "execution_count": 39,
   "metadata": {},
   "outputs": [],
   "source": [
    "ytrue = tf.placeholder(tf.float32, [None, 1])"
   ]
  },
  {
   "cell_type": "markdown",
   "metadata": {},
   "source": [
    "Make a linear model"
   ]
  },
  {
   "cell_type": "code",
   "execution_count": 40,
   "metadata": {},
   "outputs": [],
   "source": [
    "lm = {'weights': tf.Variable(tf.random_normal([train_dim,1])),\n",
    "                  'biases':tf.Variable(tf.random_normal([1]))}\n",
    "y_pred = tf.add(tf.matmul(x, lm['weights']),lm['biases'])"
   ]
  },
  {
   "cell_type": "markdown",
   "metadata": {},
   "source": [
    "Create a denominator variable for computing mean squarred error of the cost function"
   ]
  },
  {
   "cell_type": "code",
   "execution_count": 41,
   "metadata": {},
   "outputs": [],
   "source": [
    "dnm = tf.Variable(tf.ones([1]), name= 'denom')"
   ]
  },
  {
   "cell_type": "markdown",
   "metadata": {},
   "source": [
    "Mean squarred error is considered as cost function to be optimized"
   ]
  },
  {
   "cell_type": "code",
   "execution_count": 42,
   "metadata": {},
   "outputs": [],
   "source": [
    "cost = tf.reduce_sum(tf.pow(y_pred-ytrue, 2))/(2.0*dnm)"
   ]
  },
  {
   "cell_type": "markdown",
   "metadata": {},
   "source": [
    "We used gradient descend to optimze the parameters of the algorithm"
   ]
  },
  {
   "cell_type": "code",
   "execution_count": 43,
   "metadata": {},
   "outputs": [],
   "source": [
    "optimizer = tf.train.GradientDescentOptimizer(learning_rate=0.1).minimize(cost)"
   ]
  },
  {
   "cell_type": "markdown",
   "metadata": {},
   "source": [
    "Definig numbr of iteration in the algorithm"
   ]
  },
  {
   "cell_type": "code",
   "execution_count": 44,
   "metadata": {},
   "outputs": [],
   "source": [
    "num_itr = 1000\n",
    "display_step = 20"
   ]
  },
  {
   "cell_type": "markdown",
   "metadata": {},
   "source": [
    "# Tensorflow RUN"
   ]
  },
  {
   "cell_type": "markdown",
   "metadata": {},
   "source": [
    "We create a tensorflow session to execute the graph"
   ]
  },
  {
   "cell_type": "code",
   "execution_count": 45,
   "metadata": {},
   "outputs": [],
   "source": [
    "session = tf.Session()"
   ]
  },
  {
   "cell_type": "markdown",
   "metadata": {},
   "source": [
    "Initializing the variables"
   ]
  },
  {
   "cell_type": "code",
   "execution_count": 46,
   "metadata": {},
   "outputs": [],
   "source": [
    "session.run(tf.global_variables_initializer())"
   ]
  },
  {
   "cell_type": "code",
   "execution_count": 47,
   "metadata": {},
   "outputs": [],
   "source": [
    "# optimizing the parameter\n",
    "def optimize(num_itr):\n",
    "    for epoch in range(num_itr):\n",
    "        for (xx,yy) in zip(X_train, y_train):\n",
    "            feed_dict_train = {x: xx.reshape(1, train_dim),\n",
    "                               ytrue: yy.reshape(1, 1)}\n",
    "            # Running the optimizer using feed dict train \n",
    "            session.run(optimizer, feed_dict=feed_dict_train)\n",
    "        if (epoch+1) % display_step == 0:\n",
    "            cost_val = session.run(cost, feed_dict = {x: X_train,\n",
    "                                                      ytrue:y_train,\n",
    "                                                      dnm: np.asarray([train_size])}\n",
    "                                   )\n",
    "            print(\"Epoch:\", '%04d' % (epoch+1), \"cost=\", \"{}\".format(cost_val[0]))\n"
   ]
  },
  {
   "cell_type": "markdown",
   "metadata": {},
   "source": [
    "feed dict for test subset"
   ]
  },
  {
   "cell_type": "code",
   "execution_count": 48,
   "metadata": {},
   "outputs": [],
   "source": [
    "feed_dict_test = {x: X_test,\n",
    "                  ytrue: y_test,\n",
    "                  dnm: np.asarray([len(y_test)])}"
   ]
  },
  {
   "cell_type": "markdown",
   "metadata": {},
   "source": [
    "Initial value of MSE for test subset"
   ]
  },
  {
   "cell_type": "code",
   "execution_count": 49,
   "metadata": {},
   "outputs": [
    {
     "data": {
      "text/plain": [
       "54.829828679384285"
      ]
     },
     "execution_count": 49,
     "metadata": {},
     "output_type": "execute_result"
    }
   ],
   "source": [
    "y_pred_test_LM = session.run(y_pred, feed_dict={x: X_test})\n",
    "metrics.mean_squared_error(y_test, y_pred_test_LM)"
   ]
  },
  {
   "cell_type": "code",
   "execution_count": 51,
   "metadata": {},
   "outputs": [
    {
     "name": "stdout",
     "output_type": "stream",
     "text": [
      "Epoch: 0020 cost= 0.3807584345340729\n",
      "Epoch: 0040 cost= 0.37906888127326965\n",
      "Epoch: 0060 cost= 0.37770524621009827\n",
      "Epoch: 0080 cost= 0.3765740394592285\n",
      "Epoch: 0100 cost= 0.3756154477596283\n",
      "Epoch: 0120 cost= 0.374788373708725\n",
      "Epoch: 0140 cost= 0.37406498193740845\n",
      "Epoch: 0160 cost= 0.3734247088432312\n",
      "Epoch: 0180 cost= 0.3728526830673218\n",
      "Epoch: 0200 cost= 0.37233680486679077\n",
      "Epoch: 0220 cost= 0.37186816334724426\n",
      "Epoch: 0240 cost= 0.3714403808116913\n",
      "Epoch: 0260 cost= 0.37104666233062744\n",
      "Epoch: 0280 cost= 0.3706832230091095\n",
      "Epoch: 0300 cost= 0.3703458309173584\n",
      "Epoch: 0320 cost= 0.3700311779975891\n",
      "Epoch: 0340 cost= 0.36973729729652405\n",
      "Epoch: 0360 cost= 0.3694618344306946\n",
      "Epoch: 0380 cost= 0.36920246481895447\n",
      "Epoch: 0400 cost= 0.3689576983451843\n",
      "Epoch: 0420 cost= 0.36872631311416626\n",
      "Epoch: 0440 cost= 0.36850714683532715\n",
      "Epoch: 0460 cost= 0.3682990074157715\n",
      "Epoch: 0480 cost= 0.3681011497974396\n",
      "Epoch: 0500 cost= 0.3679124414920807\n",
      "Epoch: 0520 cost= 0.3677322268486023\n",
      "Epoch: 0540 cost= 0.3675597906112671\n",
      "Epoch: 0560 cost= 0.3673945665359497\n",
      "Epoch: 0580 cost= 0.3672358989715576\n",
      "Epoch: 0600 cost= 0.36708369851112366\n",
      "Epoch: 0620 cost= 0.3669376075267792\n",
      "Epoch: 0640 cost= 0.36679700016975403\n",
      "Epoch: 0660 cost= 0.36666154861450195\n",
      "Epoch: 0680 cost= 0.36653080582618713\n",
      "Epoch: 0700 cost= 0.36640465259552\n",
      "Epoch: 0720 cost= 0.3662826716899872\n",
      "Epoch: 0740 cost= 0.36616477370262146\n",
      "Epoch: 0760 cost= 0.3660506308078766\n",
      "Epoch: 0780 cost= 0.3659401834011078\n",
      "Epoch: 0800 cost= 0.36583301424980164\n",
      "Epoch: 0820 cost= 0.3657291829586029\n",
      "Epoch: 0840 cost= 0.3656283915042877\n",
      "Epoch: 0860 cost= 0.36553075909614563\n",
      "Epoch: 0880 cost= 0.36543574929237366\n",
      "Epoch: 0900 cost= 0.3653435707092285\n",
      "Epoch: 0920 cost= 0.36525407433509827\n",
      "Epoch: 0940 cost= 0.3651665151119232\n",
      "Epoch: 0960 cost= 0.3650815486907959\n",
      "Epoch: 0980 cost= 0.3649986982345581\n",
      "Epoch: 1000 cost= 0.3649180233478546\n"
     ]
    }
   ],
   "source": [
    "optimize(num_itr=1000)"
   ]
  },
  {
   "cell_type": "markdown",
   "metadata": {},
   "source": [
    "Computing correlation coefficient among real and estimated values"
   ]
  },
  {
   "cell_type": "code",
   "execution_count": 52,
   "metadata": {},
   "outputs": [
    {
     "name": "stdout",
     "output_type": "stream",
     "text": [
      "Correlation coefficient between predicted value and real value is [1.         0.49665187]\n"
     ]
    }
   ],
   "source": [
    "y_pred_test_LM = session.run(y_pred, feed_dict={x: X_test})\n",
    "CC = np.corrcoef(y_test.reshape(1,len(y_test)),y_pred_test_LM.reshape(1,len(y_test)))\n",
    "print(\"Correlation coefficient between predicted value and real value is {}\".format(CC[0]))"
   ]
  },
  {
   "cell_type": "markdown",
   "metadata": {},
   "source": [
    "Computing mset test value after optimization"
   ]
  },
  {
   "cell_type": "code",
   "execution_count": 53,
   "metadata": {},
   "outputs": [
    {
     "data": {
      "text/plain": [
       "0.7228837834199962"
      ]
     },
     "execution_count": 53,
     "metadata": {},
     "output_type": "execute_result"
    }
   ],
   "source": [
    "metrics.mean_squared_error(y_test, y_pred_test_LM)"
   ]
  },
  {
   "cell_type": "markdown",
   "metadata": {},
   "source": [
    "Scatter plot of the estimated grade vs observed grade"
   ]
  },
  {
   "cell_type": "code",
   "execution_count": 54,
   "metadata": {},
   "outputs": [
    {
     "data": {
      "text/plain": [
       "[Text(0, 0.5, 'Estimated Grade'), Text(0.5, 0, 'Real Grade')]"
      ]
     },
     "execution_count": 54,
     "metadata": {},
     "output_type": "execute_result"
    },
    {
     "data": {
      "image/png": "[encoded data removed]",
      "text/plain": [
       "<Figure size 432x288 with 1 Axes>"
      ]
     },
     "metadata": {},
     "output_type": "display_data"
    }
   ],
   "source": [
    "y_pred_test_LM = YScaler.inverse_transform(y_pred_test_LM)\n",
    "y_test_inv = YScaler.inverse_transform(y_test)\n",
    "ax = sns.regplot(x=y_test_inv.reshape(len(y_test),), y=y_pred_test_LM.reshape(len(y_test),))\n",
    "ax.set(xlabel='Real Grade', ylabel='Estimated Grade')"
   ]
  },
  {
   "cell_type": "code",
   "execution_count": 98,
   "metadata": {},
   "outputs": [],
   "source": [
    "session.close()"
   ]
  },
  {
   "cell_type": "markdown",
   "metadata": {},
   "source": [
    "# Nueral network Model"
   ]
  },
  {
   "cell_type": "markdown",
   "metadata": {},
   "source": [
    "We construct a neural network with one hiden layers and one output layer.\n",
    "The network is trained with Adam optimizer and we use cross validation to avoid overfitting."
   ]
  },
  {
   "cell_type": "code",
   "execution_count": 99,
   "metadata": {},
   "outputs": [],
   "source": [
    "#number of hidden nodes in the first layer\n",
    "num_node_hl1 = 4"
   ]
  },
  {
   "cell_type": "markdown",
   "metadata": {},
   "source": [
    "Place holder variable in the input and output"
   ]
  },
  {
   "cell_type": "code",
   "execution_count": 79,
   "metadata": {},
   "outputs": [],
   "source": [
    "x = tf.placeholder(tf.float32, [None, train_dim])\n",
    "ytrue = tf.placeholder(tf.float32, [None, 1], name='y_true')"
   ]
  },
  {
   "cell_type": "markdown",
   "metadata": {},
   "source": [
    "The layers of the neural network are"
   ]
  },
  {
   "cell_type": "code",
   "execution_count": 80,
   "metadata": {},
   "outputs": [],
   "source": [
    "# weight and biases for the first layer\n",
    "layer1 = {'weights': tf.Variable(tf.random_normal([train_dim,num_node_hl1])),\n",
    "                  'biases':tf.Variable(tf.random_normal([num_node_hl1]))}\n",
    "layer_out = {'weights': tf.Variable(tf.random_normal([num_node_hl1,1])),\n",
    "                  'biases':tf.Variable(tf.random_normal([1]))}"
   ]
  },
  {
   "cell_type": "markdown",
   "metadata": {},
   "source": [
    "Constructing the network"
   ]
  },
  {
   "cell_type": "code",
   "execution_count": 81,
   "metadata": {},
   "outputs": [],
   "source": [
    "# first hidden layer\n",
    "l1 = tf.add(tf.matmul(x, layer1['weights']),layer1['biases'])\n",
    "l1 = tf.nn.relu(l1)\n",
    "# output layer\n",
    "y_pred = tf.add(tf.matmul(l1, layer_out['weights']),layer_out['biases'])"
   ]
  },
  {
   "cell_type": "markdown",
   "metadata": {},
   "source": [
    "Cost function and denominator varialbe"
   ]
  },
  {
   "cell_type": "code",
   "execution_count": 82,
   "metadata": {},
   "outputs": [],
   "source": [
    "dnm = tf.Variable(tf.ones([1]), name= 'denom')\n",
    "cost = tf.reduce_sum(tf.pow(y_pred-ytrue, 2))/(2.0*dnm)"
   ]
  },
  {
   "cell_type": "markdown",
   "metadata": {},
   "source": [
    "Add optimizer object to tensorflow graph for later usage"
   ]
  },
  {
   "cell_type": "code",
   "execution_count": 83,
   "metadata": {},
   "outputs": [],
   "source": [
    "optimizer = tf.train.AdamOptimizer(learning_rate=1e-4).minimize(cost)"
   ]
  },
  {
   "cell_type": "markdown",
   "metadata": {},
   "source": [
    "# Save Tensorflow Results"
   ]
  },
  {
   "cell_type": "code",
   "execution_count": 63,
   "metadata": {},
   "outputs": [],
   "source": [
    "saver = tf.train.Saver()\n",
    "save_dir = 'Results/'\n",
    "if not os.path.exists(save_dir):\n",
    "    os.makedirs(save_dir)\n",
    "save_path = os.path.join(save_dir, 'best_valid')"
   ]
  },
  {
   "cell_type": "markdown",
   "metadata": {},
   "source": [
    "# Tensor flow Run"
   ]
  },
  {
   "cell_type": "code",
   "execution_count": 101,
   "metadata": {},
   "outputs": [],
   "source": [
    "session = tf.Session()"
   ]
  },
  {
   "cell_type": "markdown",
   "metadata": {},
   "source": [
    "Initialize tensorflow variables"
   ]
  },
  {
   "cell_type": "code",
   "execution_count": 102,
   "metadata": {},
   "outputs": [],
   "source": [
    "def initialize_variables():\n",
    "    session.run(tf.global_variables_initializer())\n",
    "initialize_variables()"
   ]
  },
  {
   "cell_type": "markdown",
   "metadata": {},
   "source": [
    "Initialize other variables"
   ]
  },
  {
   "cell_type": "code",
   "execution_count": 86,
   "metadata": {},
   "outputs": [],
   "source": [
    "# Counter for total number of iterations performed so far.\n",
    "total_epochs = 0\n",
    "# batch size in training\n",
    "batch_size = 50\n",
    "# best obtained validation result\n",
    "best_validation_mse = 1e10"
   ]
  },
  {
   "cell_type": "markdown",
   "metadata": {},
   "source": [
    "Train the network using mini-batches"
   ]
  },
  {
   "cell_type": "code",
   "execution_count": 87,
   "metadata": {},
   "outputs": [],
   "source": [
    "def train_network(Xtr, Ytr):\n",
    "    # total number of batches\n",
    "    toatl_batch = int(Xtr.shape[0] / batch_size)\n",
    "    for batch in range(toatl_batch):\n",
    "        x_batch = Xtr[batch * batch_size:(batch + 1) * batch_size,]\n",
    "        y_batch = Ytr[batch * batch_size:(batch + 1) * batch_size]\n",
    "        # run tensorflow using the batch of training data\n",
    "        # run the optimizer\n",
    "        session.run(optimizer, feed_dict={x: x_batch,\n",
    "                                          ytrue: y_batch})"
   ]
  },
  {
   "cell_type": "markdown",
   "metadata": {},
   "source": [
    "Optmizing the network using Kfold cross validation"
   ]
  },
  {
   "cell_type": "code",
   "execution_count": 70,
   "metadata": {},
   "outputs": [],
   "source": [
    "def optimize_nn(num_epochs, num_folds):\n",
    "    # Using global variables instead o local ones.\n",
    "    global total_epochs\n",
    "    global best_validation_mse\n",
    "    global last_improvement\n",
    "\n",
    "    # start time\n",
    "    tstart = time.time()\n",
    "\n",
    "    for curr_epoch in range(num_epochs):\n",
    "        # increase number of epochs by one\n",
    "        total_epochs += 1\n",
    "        \n",
    "        # kfold cross validation\n",
    "        kfl = KFold(n_splits = num_folds)\n",
    "\n",
    "        Val_acc = []\n",
    "        \n",
    "        for ind_train, ind_valid in kfl.split(X_train, y_train):\n",
    "            \n",
    "            # training data\n",
    "            Xtrain = X_train[ind_train,]\n",
    "            ytrain = y_train[ind_train]\n",
    "            \n",
    "            # validation data\n",
    "            Xvalid = X_train[ind_valid]\n",
    "            Yvalid = y_train[ind_valid]\n",
    "            \n",
    "            # training the network using train data\n",
    "            train_network(Xtrain, ytrain)\n",
    "            \n",
    "            # compute mse of the validation set\n",
    "            cst = session.run(cost, feed_dict={ x: Xvalid, ytrue: Yvalid,\n",
    "                                                dnm: np.asarray([ len(Yvalid) ]) })\n",
    "            \n",
    "            # adding cst to the Val_acc\n",
    "            Val_acc.append(cst)\n",
    "        \n",
    "        # validation and trianing status\n",
    "        Validation_mse= np.mean(Val_acc)\n",
    "        Train_mse = session.run(cost, feed_dict={x: X_train,ytrue: y_train,\n",
    "                                                 dnm: np.asarray([len(y_train)])})\n",
    "        if Validation_mse < best_validation_mse:\n",
    "            \n",
    "            # update the best validation accuracy\n",
    "            best_validation_mse = Validation_mse\n",
    "            last_improvement = total_epochs\n",
    "            \n",
    "            # save best results obtained so far\n",
    "            saver.save(sess=session, save_path=save_path)\n",
    "\n",
    "            # indicate best value\n",
    "            string_val = \" BestKnown\"\n",
    "        else:\n",
    "            string_val = \"\"\n",
    "        msg = \"Epoch: {0}, Training Accuracy: {1}, Cross Validation Acc: {2} {3}\"\n",
    "        print(msg.format(curr_epoch, Train_mse[0], Validation_mse, string_val))\n",
    "\n",
    "    # final time\n",
    "    tend = time.time()\n",
    "\n",
    "    # Difference between start and end times\n",
    "    time_dif = tend - tstart\n",
    "\n",
    "    # Print the time\n",
    "    print(\"Total execution time: \" + str(timedelta(seconds=int(round(time_dif)))))\n"
   ]
  },
  {
   "cell_type": "markdown",
   "metadata": {},
   "source": [
    "# Optimize NN"
   ]
  },
  {
   "cell_type": "markdown",
   "metadata": {},
   "source": [
    "Compute mse test before optimization"
   ]
  },
  {
   "cell_type": "code",
   "execution_count": 103,
   "metadata": {},
   "outputs": [
    {
     "data": {
      "text/plain": [
       "44.92090522094738"
      ]
     },
     "execution_count": 103,
     "metadata": {},
     "output_type": "execute_result"
    }
   ],
   "source": [
    "y_pred_test_NN = session.run( y_pred, feed_dict={x: X_test})\n",
    "metrics.mean_squared_error(y_test, y_pred_test_NN)"
   ]
  },
  {
   "cell_type": "markdown",
   "metadata": {},
   "source": [
    "Optmizing the network using defined number of iteration and number of folds in cross validation."
   ]
  },
  {
   "cell_type": "code",
   "execution_count": 104,
   "metadata": {},
   "outputs": [
    {
     "name": "stdout",
     "output_type": "stream",
     "text": [
      "Epoch: 0, Training Accuracy: 20.058094024658203, Cross Validation Acc: 20.53072166442871 \n",
      "Epoch: 1, Training Accuracy: 19.062650680541992, Cross Validation Acc: 19.50583267211914 \n",
      "Epoch: 2, Training Accuracy: 18.128957748413086, Cross Validation Acc: 18.544631958007812 \n",
      "Epoch: 3, Training Accuracy: 17.254304885864258, Cross Validation Acc: 17.643911361694336 \n",
      "Epoch: 4, Training Accuracy: 16.434206008911133, Cross Validation Acc: 16.80007553100586 \n",
      "Epoch: 5, Training Accuracy: 15.662596702575684, Cross Validation Acc: 16.00741195678711 \n",
      "Epoch: 6, Training Accuracy: 14.934582710266113, Cross Validation Acc: 15.259651184082031 \n",
      "Epoch: 7, Training Accuracy: 14.249255180358887, Cross Validation Acc: 14.555500984191895 \n",
      "Epoch: 8, Training Accuracy: 13.600502014160156, Cross Validation Acc: 13.890565872192383 \n",
      "Epoch: 9, Training Accuracy: 12.985251426696777, Cross Validation Acc: 13.261419296264648 \n",
      "Epoch: 10, Training Accuracy: 12.403017044067383, Cross Validation Acc: 12.664058685302734 \n",
      "Epoch: 11, Training Accuracy: 11.851959228515625, Cross Validation Acc: 12.09932804107666 \n",
      "Epoch: 12, Training Accuracy: 11.329320907592773, Cross Validation Acc: 11.564104080200195 \n",
      "Epoch: 13, Training Accuracy: 10.833550453186035, Cross Validation Acc: 11.056568145751953 \n",
      "Epoch: 14, Training Accuracy: 10.362903594970703, Cross Validation Acc: 10.574553489685059 \n",
      "Epoch: 15, Training Accuracy: 9.916038513183594, Cross Validation Acc: 10.117143630981445 \n",
      "Epoch: 16, Training Accuracy: 9.490965843200684, Cross Validation Acc: 9.682324409484863 \n",
      "Epoch: 17, Training Accuracy: 9.086172103881836, Cross Validation Acc: 9.268514633178711 \n",
      "Epoch: 18, Training Accuracy: 8.699993133544922, Cross Validation Acc: 8.873995780944824 \n",
      "Epoch: 19, Training Accuracy: 8.332143783569336, Cross Validation Acc: 8.498027801513672 \n",
      "Epoch: 20, Training Accuracy: 7.981490135192871, Cross Validation Acc: 8.139623641967773 \n",
      "Epoch: 21, Training Accuracy: 7.647328853607178, Cross Validation Acc: 7.798128604888916 \n",
      "Epoch: 22, Training Accuracy: 7.328458309173584, Cross Validation Acc: 7.4724225997924805 \n",
      "Epoch: 23, Training Accuracy: 7.024385929107666, Cross Validation Acc: 7.161717414855957 \n",
      "Epoch: 24, Training Accuracy: 6.734092712402344, Cross Validation Acc: 6.86526346206665 \n",
      "Epoch: 25, Training Accuracy: 6.45650577545166, Cross Validation Acc: 6.582037925720215 \n",
      "Epoch: 26, Training Accuracy: 6.190188407897949, Cross Validation Acc: 6.310920715332031 \n",
      "Epoch: 27, Training Accuracy: 5.934566497802734, Cross Validation Acc: 6.050353527069092 \n",
      "Epoch: 28, Training Accuracy: 5.690280914306641, Cross Validation Acc: 5.800975799560547 \n",
      "Epoch: 29, Training Accuracy: 5.456418991088867, Cross Validation Acc: 5.562231063842773 \n",
      "Epoch: 30, Training Accuracy: 5.233478546142578, Cross Validation Acc: 5.334355354309082 \n",
      "Epoch: 31, Training Accuracy: 5.02086067199707, Cross Validation Acc: 5.117116928100586 \n",
      "Epoch: 32, Training Accuracy: 4.81774377822876, Cross Validation Acc: 4.909806728363037 \n",
      "Epoch: 33, Training Accuracy: 4.623688220977783, Cross Validation Acc: 4.71163272857666 \n",
      "Epoch: 34, Training Accuracy: 4.43862771987915, Cross Validation Acc: 4.522523403167725 \n",
      "Epoch: 35, Training Accuracy: 4.2619547843933105, Cross Validation Acc: 4.342131614685059 \n",
      "Epoch: 36, Training Accuracy: 4.093270301818848, Cross Validation Acc: 4.169834613800049 \n",
      "Epoch: 37, Training Accuracy: 3.93198823928833, Cross Validation Acc: 4.005328178405762 \n",
      "Epoch: 38, Training Accuracy: 3.7774875164031982, Cross Validation Acc: 3.8476951122283936 \n",
      "Epoch: 39, Training Accuracy: 3.6294972896575928, Cross Validation Acc: 3.6966896057128906 \n",
      "Epoch: 40, Training Accuracy: 3.488199472427368, Cross Validation Acc: 3.552399158477783 \n",
      "Epoch: 41, Training Accuracy: 3.3531076908111572, Cross Validation Acc: 3.4145445823669434 \n",
      "Epoch: 42, Training Accuracy: 3.2241413593292236, Cross Validation Acc: 3.2828452587127686 \n",
      "Epoch: 43, Training Accuracy: 3.1009488105773926, Cross Validation Acc: 3.156982421875 \n",
      "Epoch: 44, Training Accuracy: 2.983506917953491, Cross Validation Acc: 3.0369670391082764 \n",
      "Epoch: 45, Training Accuracy: 2.871500253677368, Cross Validation Acc: 2.9225692749023438 \n",
      "Epoch: 46, Training Accuracy: 2.7647643089294434, Cross Validation Acc: 2.8134732246398926 \n",
      "Epoch: 47, Training Accuracy: 2.6628105640411377, Cross Validation Acc: 2.709413528442383 \n",
      "Epoch: 48, Training Accuracy: 2.5654237270355225, Cross Validation Acc: 2.60992693901062 \n",
      "Epoch: 49, Training Accuracy: 2.472616672515869, Cross Validation Acc: 2.515092611312866 \n",
      "Epoch: 50, Training Accuracy: 2.383923053741455, Cross Validation Acc: 2.4245781898498535 \n",
      "Epoch: 51, Training Accuracy: 2.2992193698883057, Cross Validation Acc: 2.3381245136260986 \n",
      "Epoch: 52, Training Accuracy: 2.2180440425872803, Cross Validation Acc: 2.255375385284424 \n",
      "Epoch: 53, Training Accuracy: 2.1404733657836914, Cross Validation Acc: 2.1761770248413086 \n",
      "Epoch: 54, Training Accuracy: 2.066394567489624, Cross Validation Acc: 2.1005430221557617 \n",
      "Epoch: 55, Training Accuracy: 1.9956088066101074, Cross Validation Acc: 2.0282692909240723 \n",
      "Epoch: 56, Training Accuracy: 1.927947998046875, Cross Validation Acc: 1.9592136144638062 \n",
      "Epoch: 57, Training Accuracy: 1.8632744550704956, Cross Validation Acc: 1.8931649923324585 \n",
      "Epoch: 58, Training Accuracy: 1.8015429973602295, Cross Validation Acc: 1.830112099647522 \n",
      "Epoch: 59, Training Accuracy: 1.7425878047943115, Cross Validation Acc: 1.7699064016342163 \n",
      "Epoch: 60, Training Accuracy: 1.6862139701843262, Cross Validation Acc: 1.7123628854751587 \n",
      "Epoch: 61, Training Accuracy: 1.6322367191314697, Cross Validation Acc: 1.6572940349578857 \n",
      "Epoch: 62, Training Accuracy: 1.5806070566177368, Cross Validation Acc: 1.6045923233032227 \n",
      "Epoch: 63, Training Accuracy: 1.531204342842102, Cross Validation Acc: 1.5541752576828003 \n",
      "Epoch: 64, Training Accuracy: 1.4838594198226929, Cross Validation Acc: 1.5058672428131104 \n",
      "Epoch: 65, Training Accuracy: 1.438363790512085, Cross Validation Acc: 1.4595032930374146 \n",
      "Epoch: 66, Training Accuracy: 1.3945790529251099, Cross Validation Acc: 1.4149662256240845 \n",
      "Epoch: 67, Training Accuracy: 1.3526644706726074, Cross Validation Acc: 1.372192144393921 \n",
      "Epoch: 68, Training Accuracy: 1.3125152587890625, Cross Validation Acc: 1.331246018409729 \n",
      "Epoch: 69, Training Accuracy: 1.2740012407302856, Cross Validation Acc: 1.2919787168502808 \n",
      "Epoch: 70, Training Accuracy: 1.2371699810028076, Cross Validation Acc: 1.2543810606002808 \n",
      "Epoch: 71, Training Accuracy: 1.2019323110580444, Cross Validation Acc: 1.218409776687622 \n",
      "Epoch: 72, Training Accuracy: 1.1682062149047852, Cross Validation Acc: 1.183974027633667 \n",
      "Epoch: 73, Training Accuracy: 1.1359297037124634, Cross Validation Acc: 1.1510355472564697 \n",
      "Epoch: 74, Training Accuracy: 1.1050139665603638, Cross Validation Acc: 1.1195045709609985 \n",
      "Epoch: 75, Training Accuracy: 1.075394630432129, Cross Validation Acc: 1.089296817779541 \n",
      "Epoch: 76, Training Accuracy: 1.0469698905944824, Cross Validation Acc: 1.0603229999542236 \n",
      "Epoch: 77, Training Accuracy: 1.0197689533233643, Cross Validation Acc: 1.0325454473495483 \n",
      "Epoch: 78, Training Accuracy: 0.9936714768409729, Cross Validation Acc: 1.0059877634048462 \n",
      "Epoch: 79, Training Accuracy: 0.9686861634254456, Cross Validation Acc: 0.9804587364196777 \n",
      "Epoch: 80, Training Accuracy: 0.9448345303535461, Cross Validation Acc: 0.9560810923576355 \n",
      "Epoch: 81, Training Accuracy: 0.922005832195282, Cross Validation Acc: 0.9327688217163086 \n",
      "Epoch: 82, Training Accuracy: 0.9000945687294006, Cross Validation Acc: 0.9104191064834595 \n",
      "Epoch: 83, Training Accuracy: 0.879027247428894, Cross Validation Acc: 0.8889461755752563 \n",
      "Epoch: 84, Training Accuracy: 0.8587936162948608, Cross Validation Acc: 0.8683172464370728 \n",
      "Epoch: 85, Training Accuracy: 0.8393476009368896, Cross Validation Acc: 0.8485063314437866 \n",
      "Epoch: 86, Training Accuracy: 0.8207905888557434, Cross Validation Acc: 0.8295307159423828 \n",
      "Epoch: 87, Training Accuracy: 0.8031123280525208, Cross Validation Acc: 0.8114473223686218 \n",
      "Epoch: 88, Training Accuracy: 0.786249041557312, Cross Validation Acc: 0.7942126989364624 \n",
      "Epoch: 89, Training Accuracy: 0.7700620889663696, Cross Validation Acc: 0.7777326703071594 \n",
      "Epoch: 90, Training Accuracy: 0.7545471787452698, Cross Validation Acc: 0.7618920803070068 \n",
      "Epoch: 91, Training Accuracy: 0.7396323680877686, Cross Validation Acc: 0.7467268705368042 \n"
     ]
    },
    {
     "name": "stdout",
     "output_type": "stream",
     "text": [
      "Epoch: 92, Training Accuracy: 0.7253828048706055, Cross Validation Acc: 0.7321465611457825 \n",
      "Epoch: 93, Training Accuracy: 0.711762547492981, Cross Validation Acc: 0.7182323336601257 \n",
      "Epoch: 94, Training Accuracy: 0.6987762451171875, Cross Validation Acc: 0.7049526572227478 \n",
      "Epoch: 95, Training Accuracy: 0.686348021030426, Cross Validation Acc: 0.6922577023506165 \n",
      "Epoch: 96, Training Accuracy: 0.6744382977485657, Cross Validation Acc: 0.6801027655601501 \n",
      "Epoch: 97, Training Accuracy: 0.6630094051361084, Cross Validation Acc: 0.668449878692627 \n",
      "Epoch: 98, Training Accuracy: 0.65203857421875, Cross Validation Acc: 0.6572540402412415 \n",
      "Epoch: 99, Training Accuracy: 0.6415679454803467, Cross Validation Acc: 0.6465467810630798 \n",
      "Epoch: 100, Training Accuracy: 0.6315423250198364, Cross Validation Acc: 0.6363234519958496 \n",
      "Epoch: 101, Training Accuracy: 0.6218957901000977, Cross Validation Acc: 0.6265045404434204 \n",
      "Epoch: 102, Training Accuracy: 0.6126829981803894, Cross Validation Acc: 0.6170889139175415 \n",
      "Epoch: 103, Training Accuracy: 0.6039032340049744, Cross Validation Acc: 0.6081105470657349 \n",
      "Epoch: 104, Training Accuracy: 0.5955387949943542, Cross Validation Acc: 0.5995520949363708 \n",
      "Epoch: 105, Training Accuracy: 0.5875112414360046, Cross Validation Acc: 0.59137362241745 \n",
      "Epoch: 106, Training Accuracy: 0.5797478556632996, Cross Validation Acc: 0.5834763050079346 \n",
      "Epoch: 107, Training Accuracy: 0.572221577167511, Cross Validation Acc: 0.5758468508720398 \n",
      "Epoch: 108, Training Accuracy: 0.5649728178977966, Cross Validation Acc: 0.5684736967086792 \n",
      "Epoch: 109, Training Accuracy: 0.5579648017883301, Cross Validation Acc: 0.5613536834716797 \n",
      "Epoch: 110, Training Accuracy: 0.5511841177940369, Cross Validation Acc: 0.5544465780258179 \n",
      "Epoch: 111, Training Accuracy: 0.5446808338165283, Cross Validation Acc: 0.5478055477142334 \n",
      "Epoch: 112, Training Accuracy: 0.5384480357170105, Cross Validation Acc: 0.5414430499076843 \n",
      "Epoch: 113, Training Accuracy: 0.5325049757957458, Cross Validation Acc: 0.5353673696517944 \n",
      "Epoch: 114, Training Accuracy: 0.5268090963363647, Cross Validation Acc: 0.529548704624176 \n",
      "Epoch: 115, Training Accuracy: 0.5213543176651001, Cross Validation Acc: 0.5239756107330322 \n",
      "Epoch: 116, Training Accuracy: 0.5160683393478394, Cross Validation Acc: 0.5186148881912231 \n",
      "Epoch: 117, Training Accuracy: 0.5109642148017883, Cross Validation Acc: 0.5133917927742004 \n",
      "Epoch: 118, Training Accuracy: 0.506050705909729, Cross Validation Acc: 0.508378267288208 \n",
      "Epoch: 119, Training Accuracy: 0.5013173222541809, Cross Validation Acc: 0.5035473108291626 \n",
      "Epoch: 120, Training Accuracy: 0.4967362880706787, Cross Validation Acc: 0.4989014267921448 \n",
      "Epoch: 121, Training Accuracy: 0.4923276901245117, Cross Validation Acc: 0.49440211057662964 \n",
      "Epoch: 122, Training Accuracy: 0.4880777895450592, Cross Validation Acc: 0.4900873601436615 \n",
      "Epoch: 123, Training Accuracy: 0.48400625586509705, Cross Validation Acc: 0.48593583703041077 \n",
      "Epoch: 124, Training Accuracy: 0.4800918996334076, Cross Validation Acc: 0.481956422328949 \n",
      "Epoch: 125, Training Accuracy: 0.47634536027908325, Cross Validation Acc: 0.47813305258750916 \n",
      "Epoch: 126, Training Accuracy: 0.4727635681629181, Cross Validation Acc: 0.47448110580444336 \n",
      "Epoch: 127, Training Accuracy: 0.4693215787410736, Cross Validation Acc: 0.47097307443618774 \n",
      "Epoch: 128, Training Accuracy: 0.4660051167011261, Cross Validation Acc: 0.46759477257728577 \n",
      "Epoch: 129, Training Accuracy: 0.4628264307975769, Cross Validation Acc: 0.4643450677394867 \n",
      "Epoch: 130, Training Accuracy: 0.45978692173957825, Cross Validation Acc: 0.4612376093864441 \n",
      "Epoch: 131, Training Accuracy: 0.45686763525009155, Cross Validation Acc: 0.458256334066391 \n",
      "Epoch: 132, Training Accuracy: 0.45405903458595276, Cross Validation Acc: 0.45539459586143494 \n",
      "Epoch: 133, Training Accuracy: 0.4513629078865051, Cross Validation Acc: 0.4526422917842865 \n",
      "Epoch: 134, Training Accuracy: 0.4487774670124054, Cross Validation Acc: 0.45000404119491577 \n",
      "Epoch: 135, Training Accuracy: 0.44623351097106934, Cross Validation Acc: 0.44742894172668457 \n",
      "Epoch: 136, Training Accuracy: 0.443798303604126, Cross Validation Acc: 0.4449431300163269 \n",
      "Epoch: 137, Training Accuracy: 0.44145601987838745, Cross Validation Acc: 0.4425595700740814 \n",
      "Epoch: 138, Training Accuracy: 0.43919581174850464, Cross Validation Acc: 0.4402652680873871 \n",
      "Epoch: 139, Training Accuracy: 0.43700605630874634, Cross Validation Acc: 0.43804508447647095 \n",
      "Epoch: 140, Training Accuracy: 0.43489018082618713, Cross Validation Acc: 0.43589526414871216 \n",
      "Epoch: 141, Training Accuracy: 0.4328567087650299, Cross Validation Acc: 0.43381157517433167 \n",
      "Epoch: 142, Training Accuracy: 0.430897980928421, Cross Validation Acc: 0.43181633949279785 \n",
      "Epoch: 143, Training Accuracy: 0.42900291085243225, Cross Validation Acc: 0.42988935112953186 \n",
      "Epoch: 144, Training Accuracy: 0.42718082666397095, Cross Validation Acc: 0.4280325770378113 \n",
      "Epoch: 145, Training Accuracy: 0.4254550337791443, Cross Validation Acc: 0.42625561356544495 \n",
      "Epoch: 146, Training Accuracy: 0.423784077167511, Cross Validation Acc: 0.4245595932006836 \n",
      "Epoch: 147, Training Accuracy: 0.42219066619873047, Cross Validation Acc: 0.42293184995651245 \n",
      "Epoch: 148, Training Accuracy: 0.4206567704677582, Cross Validation Acc: 0.42137280106544495 \n",
      "Epoch: 149, Training Accuracy: 0.41917237639427185, Cross Validation Acc: 0.4198662340641022 \n",
      "Epoch: 150, Training Accuracy: 0.4177413284778595, Cross Validation Acc: 0.4184083044528961 \n",
      "Epoch: 151, Training Accuracy: 0.4163583815097809, Cross Validation Acc: 0.4170142114162445 \n",
      "Epoch: 152, Training Accuracy: 0.4149913489818573, Cross Validation Acc: 0.41562333703041077 \n",
      "Epoch: 153, Training Accuracy: 0.41366344690322876, Cross Validation Acc: 0.4142756462097168 \n",
      "Epoch: 154, Training Accuracy: 0.41238388419151306, Cross Validation Acc: 0.412977397441864 \n",
      "Epoch: 155, Training Accuracy: 0.41114383935928345, Cross Validation Acc: 0.41172346472740173 \n",
      "Epoch: 156, Training Accuracy: 0.4099181294441223, Cross Validation Acc: 0.4104817807674408 \n",
      "Epoch: 157, Training Accuracy: 0.4087599813938141, Cross Validation Acc: 0.40929508209228516 \n",
      "Epoch: 158, Training Accuracy: 0.40764710307121277, Cross Validation Acc: 0.40816229581832886 \n",
      "Epoch: 159, Training Accuracy: 0.4065723121166229, Cross Validation Acc: 0.4070672392845154 \n",
      "Epoch: 160, Training Accuracy: 0.40554165840148926, Cross Validation Acc: 0.40601739287376404 \n",
      "Epoch: 161, Training Accuracy: 0.4045441746711731, Cross Validation Acc: 0.4050070643424988 \n",
      "Epoch: 162, Training Accuracy: 0.40358906984329224, Cross Validation Acc: 0.404030978679657 \n",
      "Epoch: 163, Training Accuracy: 0.4026409089565277, Cross Validation Acc: 0.40307992696762085 \n",
      "Epoch: 164, Training Accuracy: 0.4016396105289459, Cross Validation Acc: 0.4020940363407135 \n",
      "Epoch: 165, Training Accuracy: 0.40065333247184753, Cross Validation Acc: 0.4010917544364929 \n",
      "Epoch: 166, Training Accuracy: 0.3997018337249756, Cross Validation Acc: 0.4001234173774719 \n",
      "Epoch: 167, Training Accuracy: 0.3987809717655182, Cross Validation Acc: 0.3991917669773102 \n",
      "Epoch: 168, Training Accuracy: 0.39788830280303955, Cross Validation Acc: 0.39828234910964966 \n",
      "Epoch: 169, Training Accuracy: 0.3970150053501129, Cross Validation Acc: 0.39741143584251404 \n",
      "Epoch: 170, Training Accuracy: 0.39616209268569946, Cross Validation Acc: 0.3965495228767395 \n",
      "Epoch: 171, Training Accuracy: 0.3953455984592438, Cross Validation Acc: 0.3957180976867676 \n",
      "Epoch: 172, Training Accuracy: 0.39455878734588623, Cross Validation Acc: 0.3949193060398102 \n",
      "Epoch: 173, Training Accuracy: 0.39378196001052856, Cross Validation Acc: 0.3941492438316345 \n",
      "Epoch: 174, Training Accuracy: 0.39299318194389343, Cross Validation Acc: 0.39337101578712463 \n",
      "Epoch: 175, Training Accuracy: 0.3922152519226074, Cross Validation Acc: 0.39258548617362976 \n",
      "Epoch: 176, Training Accuracy: 0.39145198464393616, Cross Validation Acc: 0.3918079435825348 \n",
      "Epoch: 177, Training Accuracy: 0.3907065987586975, Cross Validation Acc: 0.391055703163147 \n",
      "Epoch: 178, Training Accuracy: 0.38998404145240784, Cross Validation Acc: 0.3903213441371918 \n",
      "Epoch: 179, Training Accuracy: 0.389299601316452, Cross Validation Acc: 0.38961881399154663 \n",
      "Epoch: 180, Training Accuracy: 0.3886844217777252, Cross Validation Acc: 0.38896918296813965 \n"
     ]
    },
    {
     "name": "stdout",
     "output_type": "stream",
     "text": [
      "Epoch: 181, Training Accuracy: 0.38809865713119507, Cross Validation Acc: 0.38837680220603943 \n",
      "Epoch: 182, Training Accuracy: 0.38750025629997253, Cross Validation Acc: 0.3877873122692108 \n",
      "Epoch: 183, Training Accuracy: 0.3868955075740814, Cross Validation Acc: 0.3871772587299347 \n",
      "Epoch: 184, Training Accuracy: 0.3862811028957367, Cross Validation Acc: 0.38656488060951233 \n",
      "Epoch: 185, Training Accuracy: 0.3856813907623291, Cross Validation Acc: 0.38596707582473755 \n",
      "Epoch: 186, Training Accuracy: 0.3850792348384857, Cross Validation Acc: 0.38537269830703735 \n",
      "Epoch: 187, Training Accuracy: 0.384448766708374, Cross Validation Acc: 0.3847718834877014 \n",
      "Epoch: 188, Training Accuracy: 0.38379722833633423, Cross Validation Acc: 0.38409852981567383 \n",
      "Epoch: 189, Training Accuracy: 0.3832080662250519, Cross Validation Acc: 0.38349246978759766 \n",
      "Epoch: 190, Training Accuracy: 0.3826506733894348, Cross Validation Acc: 0.3829197287559509 \n",
      "Epoch: 191, Training Accuracy: 0.3821181058883667, Cross Validation Acc: 0.3823750913143158 \n",
      "Epoch: 192, Training Accuracy: 0.381607323884964, Cross Validation Acc: 0.3818582594394684 \n",
      "Epoch: 193, Training Accuracy: 0.38110050559043884, Cross Validation Acc: 0.3813583254814148 \n",
      "Epoch: 194, Training Accuracy: 0.38060852885246277, Cross Validation Acc: 0.38085970282554626 \n",
      "Epoch: 195, Training Accuracy: 0.3801346719264984, Cross Validation Acc: 0.38038116693496704 \n",
      "Epoch: 196, Training Accuracy: 0.37968090176582336, Cross Validation Acc: 0.379921019077301 \n",
      "Epoch: 197, Training Accuracy: 0.3792496919631958, Cross Validation Acc: 0.3794819116592407 \n",
      "Epoch: 198, Training Accuracy: 0.3788272440433502, Cross Validation Acc: 0.3790580630302429 \n",
      "Epoch: 199, Training Accuracy: 0.3784016966819763, Cross Validation Acc: 0.37863820791244507 \n",
      "Epoch: 200, Training Accuracy: 0.3779910206794739, Cross Validation Acc: 0.3782186508178711 \n",
      "Epoch: 201, Training Accuracy: 0.3775843679904938, Cross Validation Acc: 0.37780964374542236 \n",
      "Epoch: 202, Training Accuracy: 0.3771873116493225, Cross Validation Acc: 0.3774058222770691 \n",
      "Epoch: 203, Training Accuracy: 0.3768002688884735, Cross Validation Acc: 0.37701353430747986 \n",
      "Epoch: 204, Training Accuracy: 0.37641799449920654, Cross Validation Acc: 0.3766350746154785 \n",
      "Epoch: 205, Training Accuracy: 0.37604203820228577, Cross Validation Acc: 0.3762567937374115 \n",
      "Epoch: 206, Training Accuracy: 0.37567371129989624, Cross Validation Acc: 0.37588438391685486 \n",
      "Epoch: 207, Training Accuracy: 0.3753112256526947, Cross Validation Acc: 0.37552133202552795 \n",
      "Epoch: 208, Training Accuracy: 0.3749435842037201, Cross Validation Acc: 0.375153124332428 \n",
      "Epoch: 209, Training Accuracy: 0.3745729923248291, Cross Validation Acc: 0.37478750944137573 \n",
      "Epoch: 210, Training Accuracy: 0.37420979142189026, Cross Validation Acc: 0.3744198679924011 \n",
      "Epoch: 211, Training Accuracy: 0.37384310364723206, Cross Validation Acc: 0.374050498008728 \n",
      "Epoch: 212, Training Accuracy: 0.3734830617904663, Cross Validation Acc: 0.37368547916412354 \n",
      "Epoch: 213, Training Accuracy: 0.3730982840061188, Cross Validation Acc: 0.3733016848564148 \n",
      "Epoch: 214, Training Accuracy: 0.3727209270000458, Cross Validation Acc: 0.37292200326919556 \n",
      "Epoch: 215, Training Accuracy: 0.3723562955856323, Cross Validation Acc: 0.3725460469722748 \n",
      "Epoch: 216, Training Accuracy: 0.371993750333786, Cross Validation Acc: 0.37218180298805237 \n",
      "Epoch: 217, Training Accuracy: 0.3716449439525604, Cross Validation Acc: 0.37183159589767456 \n",
      "Epoch: 218, Training Accuracy: 0.3712948262691498, Cross Validation Acc: 0.37146949768066406 \n",
      "Epoch: 219, Training Accuracy: 0.37093585729599, Cross Validation Acc: 0.37111711502075195 \n",
      "Epoch: 220, Training Accuracy: 0.3705727458000183, Cross Validation Acc: 0.3707544207572937 \n",
      "Epoch: 221, Training Accuracy: 0.3702150583267212, Cross Validation Acc: 0.3703978657722473 \n",
      "Epoch: 222, Training Accuracy: 0.3698735535144806, Cross Validation Acc: 0.37005019187927246 \n",
      "Epoch: 223, Training Accuracy: 0.3695232570171356, Cross Validation Acc: 0.36969834566116333 \n",
      "Epoch: 224, Training Accuracy: 0.36918655037879944, Cross Validation Acc: 0.36935508251190186 \n",
      "Epoch: 225, Training Accuracy: 0.36885425448417664, Cross Validation Acc: 0.3690246045589447 \n",
      "Epoch: 226, Training Accuracy: 0.368529349565506, Cross Validation Acc: 0.36869317293167114 \n",
      "Epoch: 227, Training Accuracy: 0.36821815371513367, Cross Validation Acc: 0.3683796525001526 \n",
      "Epoch: 228, Training Accuracy: 0.36788541078567505, Cross Validation Acc: 0.3680493235588074 \n",
      "Epoch: 229, Training Accuracy: 0.36753371357917786, Cross Validation Acc: 0.3676993250846863 \n",
      "Epoch: 230, Training Accuracy: 0.3671822249889374, Cross Validation Acc: 0.3673385679721832 \n",
      "Epoch: 231, Training Accuracy: 0.3668515682220459, Cross Validation Acc: 0.3670027554035187 \n",
      "Epoch: 232, Training Accuracy: 0.36653074622154236, Cross Validation Acc: 0.36667174100875854 \n",
      "Epoch: 233, Training Accuracy: 0.3661900460720062, Cross Validation Acc: 0.3663361072540283 \n",
      "Epoch: 234, Training Accuracy: 0.36585646867752075, Cross Validation Acc: 0.3659968674182892 \n",
      "Epoch: 235, Training Accuracy: 0.3655265271663666, Cross Validation Acc: 0.36567193269729614 \n",
      "Epoch: 236, Training Accuracy: 0.3651896119117737, Cross Validation Acc: 0.3653384745121002 \n",
      "Epoch: 237, Training Accuracy: 0.3648394048213959, Cross Validation Acc: 0.3649856448173523 \n",
      "Epoch: 238, Training Accuracy: 0.3644939363002777, Cross Validation Acc: 0.3646380305290222 \n",
      "Epoch: 239, Training Accuracy: 0.36414822936058044, Cross Validation Acc: 0.36429253220558167 \n",
      "Epoch: 240, Training Accuracy: 0.3638139069080353, Cross Validation Acc: 0.3639567196369171 \n",
      "Epoch: 241, Training Accuracy: 0.363494873046875, Cross Validation Acc: 0.3636307120323181 \n",
      "Epoch: 242, Training Accuracy: 0.36318063735961914, Cross Validation Acc: 0.3633199632167816 \n",
      "Epoch: 243, Training Accuracy: 0.36287519335746765, Cross Validation Acc: 0.3630087375640869 \n",
      "Epoch: 244, Training Accuracy: 0.36257702112197876, Cross Validation Acc: 0.36270445585250854 \n",
      "Epoch: 245, Training Accuracy: 0.3622848093509674, Cross Validation Acc: 0.3624165654182434 \n",
      "Epoch: 246, Training Accuracy: 0.3619966506958008, Cross Validation Acc: 0.36211666464805603 \n",
      "Epoch: 247, Training Accuracy: 0.36171647906303406, Cross Validation Acc: 0.3618331551551819 \n",
      "Epoch: 248, Training Accuracy: 0.3614352345466614, Cross Validation Acc: 0.3615596890449524 \n",
      "Epoch: 249, Training Accuracy: 0.3611605763435364, Cross Validation Acc: 0.36127540469169617 \n",
      "Epoch: 250, Training Accuracy: 0.36089640855789185, Cross Validation Acc: 0.36101219058036804 \n",
      "Epoch: 251, Training Accuracy: 0.3606392443180084, Cross Validation Acc: 0.3607502281665802 \n",
      "Epoch: 252, Training Accuracy: 0.3603917062282562, Cross Validation Acc: 0.36049872636795044 \n",
      "Epoch: 253, Training Accuracy: 0.3601474165916443, Cross Validation Acc: 0.36025193333625793 \n",
      "Epoch: 254, Training Accuracy: 0.35990914702415466, Cross Validation Acc: 0.3600093722343445 \n",
      "Epoch: 255, Training Accuracy: 0.35967665910720825, Cross Validation Acc: 0.3597724437713623 \n",
      "Epoch: 256, Training Accuracy: 0.35945314168930054, Cross Validation Acc: 0.3595477044582367 \n",
      "Epoch: 257, Training Accuracy: 0.3592334985733032, Cross Validation Acc: 0.35932374000549316 \n",
      "Epoch: 258, Training Accuracy: 0.35901957750320435, Cross Validation Acc: 0.3591076731681824 \n",
      "Epoch: 259, Training Accuracy: 0.3588114380836487, Cross Validation Acc: 0.3588995933532715 \n",
      "Epoch: 260, Training Accuracy: 0.3586025834083557, Cross Validation Acc: 0.35869115591049194 \n",
      "Epoch: 261, Training Accuracy: 0.3583885729312897, Cross Validation Acc: 0.35847875475883484 \n",
      "Epoch: 262, Training Accuracy: 0.3581622838973999, Cross Validation Acc: 0.3582552969455719 \n",
      "Epoch: 263, Training Accuracy: 0.35794201493263245, Cross Validation Acc: 0.35803332924842834 \n",
      "Epoch: 264, Training Accuracy: 0.3577055037021637, Cross Validation Acc: 0.3578052818775177 \n",
      "Epoch: 265, Training Accuracy: 0.3574739992618561, Cross Validation Acc: 0.35757261514663696 \n",
      "Epoch: 266, Training Accuracy: 0.35725003480911255, Cross Validation Acc: 0.35734835267066956 \n",
      "Epoch: 267, Training Accuracy: 0.3570334315299988, Cross Validation Acc: 0.3571194112300873 \n",
      "Epoch: 268, Training Accuracy: 0.3568233847618103, Cross Validation Acc: 0.3569027781486511  BestKnown\n",
      "Epoch: 269, Training Accuracy: 0.3566151261329651, Cross Validation Acc: 0.35669758915901184  BestKnown\n"
     ]
    },
    {
     "name": "stdout",
     "output_type": "stream",
     "text": [
      "Epoch: 270, Training Accuracy: 0.35640886425971985, Cross Validation Acc: 0.35648924112319946  BestKnown\n",
      "Epoch: 271, Training Accuracy: 0.35619816184043884, Cross Validation Acc: 0.3562769591808319  BestKnown\n",
      "Epoch: 272, Training Accuracy: 0.3559900224208832, Cross Validation Acc: 0.3560662865638733  BestKnown\n",
      "Epoch: 273, Training Accuracy: 0.3557860255241394, Cross Validation Acc: 0.3558574318885803  BestKnown\n",
      "Epoch: 274, Training Accuracy: 0.35559821128845215, Cross Validation Acc: 0.35566917061805725  BestKnown\n",
      "Epoch: 275, Training Accuracy: 0.3553936183452606, Cross Validation Acc: 0.3554679751396179  BestKnown\n",
      "Epoch: 276, Training Accuracy: 0.3551813066005707, Cross Validation Acc: 0.35525622963905334  BestKnown\n",
      "Epoch: 277, Training Accuracy: 0.35497424006462097, Cross Validation Acc: 0.35504817962646484  BestKnown\n",
      "Epoch: 278, Training Accuracy: 0.3547755777835846, Cross Validation Acc: 0.35484516620635986  BestKnown\n",
      "Epoch: 279, Training Accuracy: 0.3545754849910736, Cross Validation Acc: 0.3546411395072937  BestKnown\n",
      "Epoch: 280, Training Accuracy: 0.3543848991394043, Cross Validation Acc: 0.35445037484169006  BestKnown\n",
      "Epoch: 281, Training Accuracy: 0.3541915714740753, Cross Validation Acc: 0.3542592525482178  BestKnown\n",
      "Epoch: 282, Training Accuracy: 0.35400405526161194, Cross Validation Acc: 0.3540676534175873  BestKnown\n",
      "Epoch: 283, Training Accuracy: 0.35382115840911865, Cross Validation Acc: 0.3538830876350403  BestKnown\n",
      "Epoch: 284, Training Accuracy: 0.35364028811454773, Cross Validation Acc: 0.35369911789894104  BestKnown\n",
      "Epoch: 285, Training Accuracy: 0.35346508026123047, Cross Validation Acc: 0.353523313999176  BestKnown\n",
      "Epoch: 286, Training Accuracy: 0.35329487919807434, Cross Validation Acc: 0.35335031151771545  BestKnown\n",
      "Epoch: 287, Training Accuracy: 0.35312768816947937, Cross Validation Acc: 0.35318440198898315  BestKnown\n",
      "Epoch: 288, Training Accuracy: 0.35296475887298584, Cross Validation Acc: 0.3530169129371643  BestKnown\n",
      "Epoch: 289, Training Accuracy: 0.35280469059944153, Cross Validation Acc: 0.35285741090774536  BestKnown\n",
      "Epoch: 290, Training Accuracy: 0.35265272855758667, Cross Validation Acc: 0.3527018427848816  BestKnown\n",
      "Epoch: 291, Training Accuracy: 0.3525051474571228, Cross Validation Acc: 0.35255253314971924  BestKnown\n",
      "Epoch: 292, Training Accuracy: 0.35236144065856934, Cross Validation Acc: 0.3524046242237091  BestKnown\n",
      "Epoch: 293, Training Accuracy: 0.3522195518016815, Cross Validation Acc: 0.3522593379020691  BestKnown\n",
      "Epoch: 294, Training Accuracy: 0.3520853817462921, Cross Validation Acc: 0.35212892293930054  BestKnown\n",
      "Epoch: 295, Training Accuracy: 0.35195451974868774, Cross Validation Acc: 0.3519935607910156  BestKnown\n",
      "Epoch: 296, Training Accuracy: 0.35182783007621765, Cross Validation Acc: 0.3518643379211426  BestKnown\n",
      "Epoch: 297, Training Accuracy: 0.3517012596130371, Cross Validation Acc: 0.35173743963241577  BestKnown\n",
      "Epoch: 298, Training Accuracy: 0.35156774520874023, Cross Validation Acc: 0.35161131620407104  BestKnown\n",
      "Epoch: 299, Training Accuracy: 0.35142987966537476, Cross Validation Acc: 0.35148006677627563  BestKnown\n",
      "Epoch: 300, Training Accuracy: 0.3512996435165405, Cross Validation Acc: 0.35134679079055786  BestKnown\n",
      "Epoch: 301, Training Accuracy: 0.3511696755886078, Cross Validation Acc: 0.3512180745601654  BestKnown\n",
      "Epoch: 302, Training Accuracy: 0.3510459065437317, Cross Validation Acc: 0.35109156370162964  BestKnown\n",
      "Epoch: 303, Training Accuracy: 0.35092368721961975, Cross Validation Acc: 0.3509666323661804  BestKnown\n",
      "Epoch: 304, Training Accuracy: 0.35080868005752563, Cross Validation Acc: 0.35085099935531616  BestKnown\n",
      "Epoch: 305, Training Accuracy: 0.35069945454597473, Cross Validation Acc: 0.35073578357696533  BestKnown\n",
      "Epoch: 306, Training Accuracy: 0.35058632493019104, Cross Validation Acc: 0.35062044858932495  BestKnown\n",
      "Epoch: 307, Training Accuracy: 0.35047680139541626, Cross Validation Acc: 0.35051029920578003  BestKnown\n",
      "Epoch: 308, Training Accuracy: 0.3503696620464325, Cross Validation Acc: 0.3504002094268799  BestKnown\n",
      "Epoch: 309, Training Accuracy: 0.3502638041973114, Cross Validation Acc: 0.35029393434524536  BestKnown\n",
      "Epoch: 310, Training Accuracy: 0.35016146302223206, Cross Validation Acc: 0.3501916825771332  BestKnown\n",
      "Epoch: 311, Training Accuracy: 0.35005104541778564, Cross Validation Acc: 0.3500846028327942  BestKnown\n",
      "Epoch: 312, Training Accuracy: 0.34994545578956604, Cross Validation Acc: 0.3499758243560791  BestKnown\n",
      "Epoch: 313, Training Accuracy: 0.3498361110687256, Cross Validation Acc: 0.3498702943325043  BestKnown\n",
      "Epoch: 314, Training Accuracy: 0.349729984998703, Cross Validation Acc: 0.34976065158843994  BestKnown\n",
      "Epoch: 315, Training Accuracy: 0.34961530566215515, Cross Validation Acc: 0.3496497869491577  BestKnown\n",
      "Epoch: 316, Training Accuracy: 0.34950265288352966, Cross Validation Acc: 0.3495355546474457  BestKnown\n",
      "Epoch: 317, Training Accuracy: 0.3493920862674713, Cross Validation Acc: 0.34942302107810974  BestKnown\n",
      "Epoch: 318, Training Accuracy: 0.3492719233036041, Cross Validation Acc: 0.34929972887039185  BestKnown\n",
      "Epoch: 319, Training Accuracy: 0.3491527736186981, Cross Validation Acc: 0.3491777777671814  BestKnown\n",
      "Epoch: 320, Training Accuracy: 0.3490312993526459, Cross Validation Acc: 0.34905877709388733  BestKnown\n",
      "Epoch: 321, Training Accuracy: 0.34891077876091003, Cross Validation Acc: 0.3489393889904022  BestKnown\n",
      "Epoch: 322, Training Accuracy: 0.3487970232963562, Cross Validation Acc: 0.3488229811191559  BestKnown\n",
      "Epoch: 323, Training Accuracy: 0.3486882150173187, Cross Validation Acc: 0.34871146082878113  BestKnown\n",
      "Epoch: 324, Training Accuracy: 0.3485735058784485, Cross Validation Acc: 0.348594605922699  BestKnown\n",
      "Epoch: 325, Training Accuracy: 0.3484608829021454, Cross Validation Acc: 0.34848394989967346  BestKnown\n",
      "Epoch: 326, Training Accuracy: 0.34834960103034973, Cross Validation Acc: 0.34836843609809875  BestKnown\n",
      "Epoch: 327, Training Accuracy: 0.3482385575771332, Cross Validation Acc: 0.3482549786567688  BestKnown\n",
      "Epoch: 328, Training Accuracy: 0.3481254279613495, Cross Validation Acc: 0.3481476306915283  BestKnown\n",
      "Epoch: 329, Training Accuracy: 0.3480151295661926, Cross Validation Acc: 0.3480362296104431  BestKnown\n",
      "Epoch: 330, Training Accuracy: 0.3479078710079193, Cross Validation Acc: 0.34792858362197876  BestKnown\n",
      "Epoch: 331, Training Accuracy: 0.3478027582168579, Cross Validation Acc: 0.34781894087791443  BestKnown\n",
      "Epoch: 332, Training Accuracy: 0.34769994020462036, Cross Validation Acc: 0.34771302342414856  BestKnown\n",
      "Epoch: 333, Training Accuracy: 0.3475992679595947, Cross Validation Acc: 0.34761348366737366  BestKnown\n",
      "Epoch: 334, Training Accuracy: 0.3474976420402527, Cross Validation Acc: 0.3475129008293152  BestKnown\n",
      "Epoch: 335, Training Accuracy: 0.3473980128765106, Cross Validation Acc: 0.34741443395614624  BestKnown\n",
      "Epoch: 336, Training Accuracy: 0.34729844331741333, Cross Validation Acc: 0.3473103642463684  BestKnown\n",
      "Epoch: 337, Training Accuracy: 0.34720075130462646, Cross Validation Acc: 0.3472115695476532  BestKnown\n",
      "Epoch: 338, Training Accuracy: 0.34710609912872314, Cross Validation Acc: 0.3471168279647827  BestKnown\n",
      "Epoch: 339, Training Accuracy: 0.34701475501060486, Cross Validation Acc: 0.3470250964164734  BestKnown\n",
      "Epoch: 340, Training Accuracy: 0.34692487120628357, Cross Validation Acc: 0.3469313085079193  BestKnown\n",
      "Epoch: 341, Training Accuracy: 0.34683674573898315, Cross Validation Acc: 0.3468429148197174  BestKnown\n",
      "Epoch: 342, Training Accuracy: 0.34674227237701416, Cross Validation Acc: 0.3467542231082916  BestKnown\n",
      "Epoch: 343, Training Accuracy: 0.34664878249168396, Cross Validation Acc: 0.3466610312461853  BestKnown\n",
      "Epoch: 344, Training Accuracy: 0.346556156873703, Cross Validation Acc: 0.3465622067451477  BestKnown\n",
      "Epoch: 345, Training Accuracy: 0.34646686911582947, Cross Validation Acc: 0.346475213766098  BestKnown\n",
      "Epoch: 346, Training Accuracy: 0.346379816532135, Cross Validation Acc: 0.34638866782188416  BestKnown\n",
      "Epoch: 347, Training Accuracy: 0.34629571437835693, Cross Validation Acc: 0.3463022708892822  BestKnown\n",
      "Epoch: 348, Training Accuracy: 0.34621429443359375, Cross Validation Acc: 0.34622079133987427  BestKnown\n"
     ]
    },
    {
     "name": "stdout",
     "output_type": "stream",
     "text": [
      "Epoch: 349, Training Accuracy: 0.3461337685585022, Cross Validation Acc: 0.3461375832557678  BestKnown\n",
      "Epoch: 350, Training Accuracy: 0.3460560441017151, Cross Validation Acc: 0.3460608124732971  BestKnown\n",
      "Epoch: 351, Training Accuracy: 0.34597256779670715, Cross Validation Acc: 0.34597527980804443  BestKnown\n",
      "Epoch: 352, Training Accuracy: 0.3458899259567261, Cross Validation Acc: 0.3458959758281708  BestKnown\n",
      "Epoch: 353, Training Accuracy: 0.34580639004707336, Cross Validation Acc: 0.34580644965171814  BestKnown\n",
      "Epoch: 354, Training Accuracy: 0.34572601318359375, Cross Validation Acc: 0.3457290828227997  BestKnown\n",
      "Epoch: 355, Training Accuracy: 0.34564751386642456, Cross Validation Acc: 0.3456469476222992  BestKnown\n",
      "Epoch: 356, Training Accuracy: 0.3455697298049927, Cross Validation Acc: 0.3455673158168793  BestKnown\n",
      "Epoch: 357, Training Accuracy: 0.34549397230148315, Cross Validation Acc: 0.3454934060573578  BestKnown\n",
      "Epoch: 358, Training Accuracy: 0.34541887044906616, Cross Validation Acc: 0.34541434049606323  BestKnown\n",
      "Epoch: 359, Training Accuracy: 0.3453456163406372, Cross Validation Acc: 0.3453424572944641  BestKnown\n",
      "Epoch: 360, Training Accuracy: 0.34527167677879333, Cross Validation Acc: 0.34526586532592773  BestKnown\n",
      "Epoch: 361, Training Accuracy: 0.3451941907405853, Cross Validation Acc: 0.34519070386886597  BestKnown\n",
      "Epoch: 362, Training Accuracy: 0.3451177477836609, Cross Validation Acc: 0.34511640667915344  BestKnown\n",
      "Epoch: 363, Training Accuracy: 0.34504345059394836, Cross Validation Acc: 0.3450379967689514  BestKnown\n",
      "Epoch: 364, Training Accuracy: 0.3449724316596985, Cross Validation Acc: 0.3449682593345642  BestKnown\n",
      "Epoch: 365, Training Accuracy: 0.34489870071411133, Cross Validation Acc: 0.34489190578460693  BestKnown\n",
      "Epoch: 366, Training Accuracy: 0.34482622146606445, Cross Validation Acc: 0.3448191285133362  BestKnown\n",
      "Epoch: 367, Training Accuracy: 0.3447559177875519, Cross Validation Acc: 0.3447491526603699  BestKnown\n",
      "Epoch: 368, Training Accuracy: 0.3446856141090393, Cross Validation Acc: 0.34467798471450806  BestKnown\n",
      "Epoch: 369, Training Accuracy: 0.34461650252342224, Cross Validation Acc: 0.34461385011672974  BestKnown\n",
      "Epoch: 370, Training Accuracy: 0.3445478081703186, Cross Validation Acc: 0.3445413410663605  BestKnown\n",
      "Epoch: 371, Training Accuracy: 0.3444802761077881, Cross Validation Acc: 0.34447038173675537  BestKnown\n",
      "Epoch: 372, Training Accuracy: 0.34441375732421875, Cross Validation Acc: 0.3444039523601532  BestKnown\n",
      "Epoch: 373, Training Accuracy: 0.34434816241264343, Cross Validation Acc: 0.34433919191360474  BestKnown\n",
      "Epoch: 374, Training Accuracy: 0.34428730607032776, Cross Validation Acc: 0.3442800045013428  BestKnown\n",
      "Epoch: 375, Training Accuracy: 0.3442281484603882, Cross Validation Acc: 0.3442205786705017  BestKnown\n",
      "Epoch: 376, Training Accuracy: 0.34416869282722473, Cross Validation Acc: 0.3441595435142517  BestKnown\n",
      "Epoch: 377, Training Accuracy: 0.344110906124115, Cross Validation Acc: 0.3441033661365509  BestKnown\n",
      "Epoch: 378, Training Accuracy: 0.34405508637428284, Cross Validation Acc: 0.3440471291542053  BestKnown\n",
      "Epoch: 379, Training Accuracy: 0.34399980306625366, Cross Validation Acc: 0.3439897298812866  BestKnown\n",
      "Epoch: 380, Training Accuracy: 0.34394675493240356, Cross Validation Acc: 0.3439366817474365  BestKnown\n",
      "Epoch: 381, Training Accuracy: 0.3438967168331146, Cross Validation Acc: 0.3438859283924103  BestKnown\n",
      "Epoch: 382, Training Accuracy: 0.34384840726852417, Cross Validation Acc: 0.34383970499038696  BestKnown\n",
      "Epoch: 383, Training Accuracy: 0.3437994420528412, Cross Validation Acc: 0.34378689527511597  BestKnown\n",
      "Epoch: 384, Training Accuracy: 0.3437521457672119, Cross Validation Acc: 0.3437421917915344  BestKnown\n",
      "Epoch: 385, Training Accuracy: 0.34370386600494385, Cross Validation Acc: 0.3436918556690216  BestKnown\n",
      "Epoch: 386, Training Accuracy: 0.34365710616111755, Cross Validation Acc: 0.3436487317085266  BestKnown\n",
      "Epoch: 387, Training Accuracy: 0.34360742568969727, Cross Validation Acc: 0.3435980975627899  BestKnown\n",
      "Epoch: 388, Training Accuracy: 0.3435586988925934, Cross Validation Acc: 0.3435477912425995  BestKnown\n",
      "Epoch: 389, Training Accuracy: 0.34351086616516113, Cross Validation Acc: 0.34350234270095825  BestKnown\n",
      "Epoch: 390, Training Accuracy: 0.3434639275074005, Cross Validation Acc: 0.34345245361328125  BestKnown\n",
      "Epoch: 391, Training Accuracy: 0.3434184789657593, Cross Validation Acc: 0.34340590238571167  BestKnown\n",
      "Epoch: 392, Training Accuracy: 0.3433723449707031, Cross Validation Acc: 0.3433592915534973  BestKnown\n",
      "Epoch: 393, Training Accuracy: 0.3433258831501007, Cross Validation Acc: 0.34331703186035156  BestKnown\n",
      "Epoch: 394, Training Accuracy: 0.3432697355747223, Cross Validation Acc: 0.3432577848434448  BestKnown\n",
      "Epoch: 395, Training Accuracy: 0.3432063162326813, Cross Validation Acc: 0.3431963324546814  BestKnown\n",
      "Epoch: 396, Training Accuracy: 0.3431377112865448, Cross Validation Acc: 0.34312528371810913  BestKnown\n",
      "Epoch: 397, Training Accuracy: 0.3430711328983307, Cross Validation Acc: 0.34305649995803833  BestKnown\n",
      "Epoch: 398, Training Accuracy: 0.34300270676612854, Cross Validation Acc: 0.3429899513721466  BestKnown\n",
      "Epoch: 399, Training Accuracy: 0.34293612837791443, Cross Validation Acc: 0.3429224491119385  BestKnown\n",
      "Epoch: 400, Training Accuracy: 0.34287014603614807, Cross Validation Acc: 0.34285596013069153  BestKnown\n",
      "Epoch: 401, Training Accuracy: 0.34280720353126526, Cross Validation Acc: 0.34279221296310425  BestKnown\n",
      "Epoch: 402, Training Accuracy: 0.3427450656890869, Cross Validation Acc: 0.3427295386791229  BestKnown\n",
      "Epoch: 403, Training Accuracy: 0.3426836431026459, Cross Validation Acc: 0.34266719222068787  BestKnown\n",
      "Epoch: 404, Training Accuracy: 0.3426242470741272, Cross Validation Acc: 0.3426066040992737  BestKnown\n",
      "Epoch: 405, Training Accuracy: 0.3425658941268921, Cross Validation Acc: 0.34254828095436096  BestKnown\n",
      "Epoch: 406, Training Accuracy: 0.3425089418888092, Cross Validation Acc: 0.342490017414093  BestKnown\n",
      "Epoch: 407, Training Accuracy: 0.34244853258132935, Cross Validation Acc: 0.34243106842041016  BestKnown\n",
      "Epoch: 408, Training Accuracy: 0.3423881232738495, Cross Validation Acc: 0.3423691987991333  BestKnown\n",
      "Epoch: 409, Training Accuracy: 0.3423292338848114, Cross Validation Acc: 0.3423106372356415  BestKnown\n",
      "Epoch: 410, Training Accuracy: 0.3422701954841614, Cross Validation Acc: 0.3422527015209198  BestKnown\n",
      "Epoch: 411, Training Accuracy: 0.3422112762928009, Cross Validation Acc: 0.3421909809112549  BestKnown\n",
      "Epoch: 412, Training Accuracy: 0.34215450286865234, Cross Validation Acc: 0.3421342968940735  BestKnown\n",
      "Epoch: 413, Training Accuracy: 0.34209805727005005, Cross Validation Acc: 0.3420772850513458  BestKnown\n",
      "Epoch: 414, Training Accuracy: 0.3420430123806, Cross Validation Acc: 0.3420209288597107  BestKnown\n",
      "Epoch: 415, Training Accuracy: 0.34198901057243347, Cross Validation Acc: 0.3419671654701233  BestKnown\n",
      "Epoch: 416, Training Accuracy: 0.3419346213340759, Cross Validation Acc: 0.3419109284877777  BestKnown\n",
      "Epoch: 417, Training Accuracy: 0.3418792486190796, Cross Validation Acc: 0.3418560326099396  BestKnown\n",
      "Epoch: 418, Training Accuracy: 0.34182384610176086, Cross Validation Acc: 0.34179943799972534  BestKnown\n",
      "Epoch: 419, Training Accuracy: 0.3417671322822571, Cross Validation Acc: 0.34174126386642456  BestKnown\n",
      "Epoch: 420, Training Accuracy: 0.34170666337013245, Cross Validation Acc: 0.3416828215122223  BestKnown\n",
      "Epoch: 421, Training Accuracy: 0.341644823551178, Cross Validation Acc: 0.34162285923957825  BestKnown\n",
      "Epoch: 422, Training Accuracy: 0.3415830135345459, Cross Validation Acc: 0.341560423374176  BestKnown\n",
      "Epoch: 423, Training Accuracy: 0.3415224850177765, Cross Validation Acc: 0.34149929881095886  BestKnown\n",
      "Epoch: 424, Training Accuracy: 0.3414623737335205, Cross Validation Acc: 0.3414384722709656  BestKnown\n",
      "Epoch: 425, Training Accuracy: 0.3414044678211212, Cross Validation Acc: 0.3413815498352051  BestKnown\n",
      "Epoch: 426, Training Accuracy: 0.3413403332233429, Cross Validation Acc: 0.3413219153881073  BestKnown\n",
      "Epoch: 427, Training Accuracy: 0.34127554297447205, Cross Validation Acc: 0.3412586450576782  BestKnown\n",
      "Epoch: 428, Training Accuracy: 0.34121260046958923, Cross Validation Acc: 0.34119346737861633  BestKnown\n"
     ]
    },
    {
     "name": "stdout",
     "output_type": "stream",
     "text": [
      "Epoch: 429, Training Accuracy: 0.3411513566970825, Cross Validation Acc: 0.34113240242004395  BestKnown\n",
      "Epoch: 430, Training Accuracy: 0.34108981490135193, Cross Validation Acc: 0.34106865525245667  BestKnown\n",
      "Epoch: 431, Training Accuracy: 0.3410310745239258, Cross Validation Acc: 0.34101128578186035  BestKnown\n",
      "Epoch: 432, Training Accuracy: 0.3409729301929474, Cross Validation Acc: 0.34094947576522827  BestKnown\n",
      "Epoch: 433, Training Accuracy: 0.3409161865711212, Cross Validation Acc: 0.34089386463165283  BestKnown\n",
      "Epoch: 434, Training Accuracy: 0.3408627510070801, Cross Validation Acc: 0.34083908796310425  BestKnown\n",
      "Epoch: 435, Training Accuracy: 0.3408110737800598, Cross Validation Acc: 0.34078922867774963  BestKnown\n",
      "Epoch: 436, Training Accuracy: 0.340759813785553, Cross Validation Acc: 0.340736985206604  BestKnown\n",
      "Epoch: 437, Training Accuracy: 0.34070920944213867, Cross Validation Acc: 0.34068620204925537  BestKnown\n",
      "Epoch: 438, Training Accuracy: 0.3406603932380676, Cross Validation Acc: 0.34063857793807983  BestKnown\n",
      "Epoch: 439, Training Accuracy: 0.34061118960380554, Cross Validation Acc: 0.3405851721763611  BestKnown\n",
      "Epoch: 440, Training Accuracy: 0.34056371450424194, Cross Validation Acc: 0.3405410647392273  BestKnown\n",
      "Epoch: 441, Training Accuracy: 0.340516597032547, Cross Validation Acc: 0.34049180150032043  BestKnown\n",
      "Epoch: 442, Training Accuracy: 0.3404708504676819, Cross Validation Acc: 0.3404473066329956  BestKnown\n",
      "Epoch: 443, Training Accuracy: 0.340424120426178, Cross Validation Acc: 0.3403981626033783  BestKnown\n",
      "Epoch: 444, Training Accuracy: 0.3403798043727875, Cross Validation Acc: 0.3403545022010803  BestKnown\n",
      "Epoch: 445, Training Accuracy: 0.34033504128456116, Cross Validation Acc: 0.34031054377555847  BestKnown\n",
      "Epoch: 446, Training Accuracy: 0.34029194712638855, Cross Validation Acc: 0.34026652574539185  BestKnown\n",
      "Epoch: 447, Training Accuracy: 0.3402480185031891, Cross Validation Acc: 0.34022146463394165  BestKnown\n",
      "Epoch: 448, Training Accuracy: 0.3402057886123657, Cross Validation Acc: 0.3401793837547302  BestKnown\n",
      "Epoch: 449, Training Accuracy: 0.34016290307044983, Cross Validation Acc: 0.3401361107826233  BestKnown\n",
      "Epoch: 450, Training Accuracy: 0.34012147784233093, Cross Validation Acc: 0.3400952219963074  BestKnown\n",
      "Epoch: 451, Training Accuracy: 0.34007975459098816, Cross Validation Acc: 0.3400535583496094  BestKnown\n",
      "Epoch: 452, Training Accuracy: 0.3400392532348633, Cross Validation Acc: 0.34000998735427856  BestKnown\n",
      "Epoch: 453, Training Accuracy: 0.339998722076416, Cross Validation Acc: 0.3399713635444641  BestKnown\n",
      "Epoch: 454, Training Accuracy: 0.3399589955806732, Cross Validation Acc: 0.3399307429790497  BestKnown\n",
      "Epoch: 455, Training Accuracy: 0.3399208188056946, Cross Validation Acc: 0.33989372849464417  BestKnown\n",
      "Epoch: 456, Training Accuracy: 0.33988043665885925, Cross Validation Acc: 0.3398522138595581  BestKnown\n",
      "Epoch: 457, Training Accuracy: 0.33983346819877625, Cross Validation Acc: 0.3398095965385437  BestKnown\n",
      "Epoch: 458, Training Accuracy: 0.33978888392448425, Cross Validation Acc: 0.33976489305496216  BestKnown\n",
      "Epoch: 459, Training Accuracy: 0.3397454023361206, Cross Validation Acc: 0.33971938490867615  BestKnown\n",
      "Epoch: 460, Training Accuracy: 0.3397027552127838, Cross Validation Acc: 0.33967843651771545  BestKnown\n",
      "Epoch: 461, Training Accuracy: 0.33966130018234253, Cross Validation Acc: 0.3396349847316742  BestKnown\n",
      "Epoch: 462, Training Accuracy: 0.3396207392215729, Cross Validation Acc: 0.33959224820137024  BestKnown\n",
      "Epoch: 463, Training Accuracy: 0.33957818150520325, Cross Validation Acc: 0.33955246210098267  BestKnown\n",
      "Epoch: 464, Training Accuracy: 0.3395366370677948, Cross Validation Acc: 0.3395088315010071  BestKnown\n",
      "Epoch: 465, Training Accuracy: 0.339495450258255, Cross Validation Acc: 0.33946865797042847  BestKnown\n",
      "Epoch: 466, Training Accuracy: 0.3394552767276764, Cross Validation Acc: 0.33942610025405884  BestKnown\n",
      "Epoch: 467, Training Accuracy: 0.3394160270690918, Cross Validation Acc: 0.33938756585121155  BestKnown\n",
      "Epoch: 468, Training Accuracy: 0.3393767476081848, Cross Validation Acc: 0.3393472731113434  BestKnown\n",
      "Epoch: 469, Training Accuracy: 0.3393388092517853, Cross Validation Acc: 0.33930906653404236  BestKnown\n",
      "Epoch: 470, Training Accuracy: 0.3393021821975708, Cross Validation Acc: 0.33927440643310547  BestKnown\n",
      "Epoch: 471, Training Accuracy: 0.3392651081085205, Cross Validation Acc: 0.33923542499542236  BestKnown\n",
      "Epoch: 472, Training Accuracy: 0.3392288088798523, Cross Validation Acc: 0.339200884103775  BestKnown\n",
      "Epoch: 473, Training Accuracy: 0.3391931653022766, Cross Validation Acc: 0.33916568756103516  BestKnown\n",
      "Epoch: 474, Training Accuracy: 0.3391576409339905, Cross Validation Acc: 0.33912813663482666  BestKnown\n",
      "Epoch: 475, Training Accuracy: 0.33912259340286255, Cross Validation Acc: 0.33909231424331665  BestKnown\n",
      "Epoch: 476, Training Accuracy: 0.3390859067440033, Cross Validation Acc: 0.3390558958053589  BestKnown\n",
      "Epoch: 477, Training Accuracy: 0.3390500247478485, Cross Validation Acc: 0.3390182852745056  BestKnown\n",
      "Epoch: 478, Training Accuracy: 0.33901557326316833, Cross Validation Acc: 0.33898499608039856  BestKnown\n",
      "Epoch: 479, Training Accuracy: 0.33898186683654785, Cross Validation Acc: 0.33895060420036316  BestKnown\n",
      "Epoch: 480, Training Accuracy: 0.33895042538642883, Cross Validation Acc: 0.3389187753200531  BestKnown\n",
      "Epoch: 481, Training Accuracy: 0.33891889452934265, Cross Validation Acc: 0.3388881981372833  BestKnown\n",
      "Epoch: 482, Training Accuracy: 0.33888837695121765, Cross Validation Acc: 0.33885952830314636  BestKnown\n",
      "Epoch: 483, Training Accuracy: 0.3388573229312897, Cross Validation Acc: 0.33882611989974976  BestKnown\n",
      "Epoch: 484, Training Accuracy: 0.3388269245624542, Cross Validation Acc: 0.33879420161247253  BestKnown\n",
      "Epoch: 485, Training Accuracy: 0.33879712224006653, Cross Validation Acc: 0.3387661278247833  BestKnown\n",
      "Epoch: 486, Training Accuracy: 0.33876654505729675, Cross Validation Acc: 0.3387364447116852  BestKnown\n",
      "Epoch: 487, Training Accuracy: 0.3387364447116852, Cross Validation Acc: 0.3387065827846527  BestKnown\n",
      "Epoch: 488, Training Accuracy: 0.3387068808078766, Cross Validation Acc: 0.33867713809013367  BestKnown\n",
      "Epoch: 489, Training Accuracy: 0.33867785334587097, Cross Validation Acc: 0.3386484980583191  BestKnown\n",
      "Epoch: 490, Training Accuracy: 0.3386489450931549, Cross Validation Acc: 0.338618665933609  BestKnown\n",
      "Epoch: 491, Training Accuracy: 0.33861440420150757, Cross Validation Acc: 0.3385907709598541  BestKnown\n",
      "Epoch: 492, Training Accuracy: 0.3385761082172394, Cross Validation Acc: 0.33855104446411133  BestKnown\n",
      "Epoch: 493, Training Accuracy: 0.3385384678840637, Cross Validation Acc: 0.3385147452354431  BestKnown\n",
      "Epoch: 494, Training Accuracy: 0.33850231766700745, Cross Validation Acc: 0.33847764134407043  BestKnown\n",
      "Epoch: 495, Training Accuracy: 0.3384658396244049, Cross Validation Acc: 0.33843985199928284  BestKnown\n",
      "Epoch: 496, Training Accuracy: 0.33843034505844116, Cross Validation Acc: 0.3384036123752594  BestKnown\n",
      "Epoch: 497, Training Accuracy: 0.3383953273296356, Cross Validation Acc: 0.3383702337741852  BestKnown\n",
      "Epoch: 498, Training Accuracy: 0.3383609354496002, Cross Validation Acc: 0.33833664655685425  BestKnown\n",
      "Epoch: 499, Training Accuracy: 0.33832764625549316, Cross Validation Acc: 0.3383043706417084  BestKnown\n",
      "Epoch: 500, Training Accuracy: 0.33829396963119507, Cross Validation Acc: 0.33826854825019836  BestKnown\n",
      "Epoch: 501, Training Accuracy: 0.33826249837875366, Cross Validation Acc: 0.3382381498813629  BestKnown\n",
      "Epoch: 502, Training Accuracy: 0.3382304012775421, Cross Validation Acc: 0.3382062017917633  BestKnown\n",
      "Epoch: 503, Training Accuracy: 0.3381994962692261, Cross Validation Acc: 0.33817431330680847  BestKnown\n",
      "Epoch: 504, Training Accuracy: 0.3381686806678772, Cross Validation Acc: 0.3381432890892029  BestKnown\n",
      "Epoch: 505, Training Accuracy: 0.33813953399658203, Cross Validation Acc: 0.33811521530151367  BestKnown\n",
      "Epoch: 506, Training Accuracy: 0.33810973167419434, Cross Validation Acc: 0.3380836546421051  BestKnown\n",
      "Epoch: 507, Training Accuracy: 0.3380807340145111, Cross Validation Acc: 0.3380551338195801  BestKnown\n",
      "Epoch: 508, Training Accuracy: 0.33805227279663086, Cross Validation Acc: 0.33802610635757446  BestKnown\n"
     ]
    },
    {
     "name": "stdout",
     "output_type": "stream",
     "text": [
      "Epoch: 509, Training Accuracy: 0.3380224108695984, Cross Validation Acc: 0.337997704744339  BestKnown\n",
      "Epoch: 510, Training Accuracy: 0.33799228072166443, Cross Validation Acc: 0.3379683792591095  BestKnown\n",
      "Epoch: 511, Training Accuracy: 0.3379608392715454, Cross Validation Acc: 0.337935209274292  BestKnown\n",
      "Epoch: 512, Training Accuracy: 0.33793139457702637, Cross Validation Acc: 0.3379060626029968  BestKnown\n",
      "Epoch: 513, Training Accuracy: 0.33790138363838196, Cross Validation Acc: 0.33787739276885986  BestKnown\n",
      "Epoch: 514, Training Accuracy: 0.33787211775779724, Cross Validation Acc: 0.3378491997718811  BestKnown\n",
      "Epoch: 515, Training Accuracy: 0.3378426134586334, Cross Validation Acc: 0.33781829476356506  BestKnown\n",
      "Epoch: 516, Training Accuracy: 0.33781278133392334, Cross Validation Acc: 0.33778810501098633  BestKnown\n",
      "Epoch: 517, Training Accuracy: 0.3377835154533386, Cross Validation Acc: 0.33775967359542847  BestKnown\n",
      "Epoch: 518, Training Accuracy: 0.33775147795677185, Cross Validation Acc: 0.3377295136451721  BestKnown\n",
      "Epoch: 519, Training Accuracy: 0.33772045373916626, Cross Validation Acc: 0.3376997411251068  BestKnown\n",
      "Epoch: 520, Training Accuracy: 0.33768779039382935, Cross Validation Acc: 0.3376639187335968  BestKnown\n",
      "Epoch: 521, Training Accuracy: 0.3376550078392029, Cross Validation Acc: 0.3376302719116211  BestKnown\n",
      "Epoch: 522, Training Accuracy: 0.3376225233078003, Cross Validation Acc: 0.33759766817092896  BestKnown\n",
      "Epoch: 523, Training Accuracy: 0.3375900685787201, Cross Validation Acc: 0.3375648856163025  BestKnown\n",
      "Epoch: 524, Training Accuracy: 0.33755409717559814, Cross Validation Acc: 0.33753475546836853  BestKnown\n",
      "Epoch: 525, Training Accuracy: 0.3375178277492523, Cross Validation Acc: 0.33749839663505554  BestKnown\n",
      "Epoch: 526, Training Accuracy: 0.3374831974506378, Cross Validation Acc: 0.3374624252319336  BestKnown\n",
      "Epoch: 527, Training Accuracy: 0.33744996786117554, Cross Validation Acc: 0.3374266028404236  BestKnown\n",
      "Epoch: 528, Training Accuracy: 0.3374158442020416, Cross Validation Acc: 0.33739274740219116  BestKnown\n",
      "Epoch: 529, Training Accuracy: 0.33738309144973755, Cross Validation Acc: 0.3373604118824005  BestKnown\n",
      "Epoch: 530, Training Accuracy: 0.33735033869743347, Cross Validation Acc: 0.33732569217681885  BestKnown\n",
      "Epoch: 531, Training Accuracy: 0.33731842041015625, Cross Validation Acc: 0.33729463815689087  BestKnown\n",
      "Epoch: 532, Training Accuracy: 0.3372882902622223, Cross Validation Acc: 0.33726415038108826  BestKnown\n",
      "Epoch: 533, Training Accuracy: 0.33726030588150024, Cross Validation Acc: 0.33723536133766174  BestKnown\n",
      "Epoch: 534, Training Accuracy: 0.33723318576812744, Cross Validation Acc: 0.33720725774765015  BestKnown\n",
      "Epoch: 535, Training Accuracy: 0.3372064530849457, Cross Validation Acc: 0.3371813893318176  BestKnown\n",
      "Epoch: 536, Training Accuracy: 0.33718040585517883, Cross Validation Acc: 0.3371545672416687  BestKnown\n",
      "Epoch: 537, Training Accuracy: 0.337153822183609, Cross Validation Acc: 0.3371274769306183  BestKnown\n",
      "Epoch: 538, Training Accuracy: 0.3371276557445526, Cross Validation Acc: 0.33710071444511414  BestKnown\n",
      "Epoch: 539, Training Accuracy: 0.3371031880378723, Cross Validation Acc: 0.33707746863365173  BestKnown\n",
      "Epoch: 540, Training Accuracy: 0.33707746863365173, Cross Validation Acc: 0.33705005049705505  BestKnown\n",
      "Epoch: 541, Training Accuracy: 0.3370438516139984, Cross Validation Acc: 0.33702436089515686  BestKnown\n",
      "Epoch: 542, Training Accuracy: 0.3370053768157959, Cross Validation Acc: 0.3369847238063812  BestKnown\n",
      "Epoch: 543, Training Accuracy: 0.3369678556919098, Cross Validation Acc: 0.3369493782520294  BestKnown\n",
      "Epoch: 544, Training Accuracy: 0.3369307816028595, Cross Validation Acc: 0.33691108226776123  BestKnown\n",
      "Epoch: 545, Training Accuracy: 0.3368949890136719, Cross Validation Acc: 0.3368750512599945  BestKnown\n",
      "Epoch: 546, Training Accuracy: 0.3368595540523529, Cross Validation Acc: 0.3368399143218994  BestKnown\n",
      "Epoch: 547, Training Accuracy: 0.3368253707885742, Cross Validation Acc: 0.3368057608604431  BestKnown\n",
      "Epoch: 548, Training Accuracy: 0.33679163455963135, Cross Validation Acc: 0.33677077293395996  BestKnown\n",
      "Epoch: 549, Training Accuracy: 0.336758017539978, Cross Validation Acc: 0.3367384076118469  BestKnown\n",
      "Epoch: 550, Training Accuracy: 0.3367232382297516, Cross Validation Acc: 0.3367060422897339  BestKnown\n",
      "Epoch: 551, Training Accuracy: 0.3366900384426117, Cross Validation Acc: 0.3366702198982239  BestKnown\n",
      "Epoch: 552, Training Accuracy: 0.3366571366786957, Cross Validation Acc: 0.3366378843784332  BestKnown\n",
      "Epoch: 553, Training Accuracy: 0.3366256356239319, Cross Validation Acc: 0.33660662174224854  BestKnown\n",
      "Epoch: 554, Training Accuracy: 0.3365938663482666, Cross Validation Acc: 0.33657482266426086  BestKnown\n",
      "Epoch: 555, Training Accuracy: 0.3365626335144043, Cross Validation Acc: 0.3365415632724762  BestKnown\n",
      "Epoch: 556, Training Accuracy: 0.33653175830841064, Cross Validation Acc: 0.3365113139152527  BestKnown\n",
      "Epoch: 557, Training Accuracy: 0.3364998400211334, Cross Validation Acc: 0.3364807963371277  BestKnown\n",
      "Epoch: 558, Training Accuracy: 0.3364669382572174, Cross Validation Acc: 0.3364470601081848  BestKnown\n",
      "Epoch: 559, Training Accuracy: 0.33643341064453125, Cross Validation Acc: 0.3364127278327942  BestKnown\n",
      "Epoch: 560, Training Accuracy: 0.33640074729919434, Cross Validation Acc: 0.3363814353942871  BestKnown\n",
      "Epoch: 561, Training Accuracy: 0.3363690674304962, Cross Validation Acc: 0.33635008335113525  BestKnown\n",
      "Epoch: 562, Training Accuracy: 0.3363376259803772, Cross Validation Acc: 0.33631783723831177  BestKnown\n",
      "Epoch: 563, Training Accuracy: 0.3363061845302582, Cross Validation Acc: 0.3362853527069092  BestKnown\n",
      "Epoch: 564, Training Accuracy: 0.336276650428772, Cross Validation Acc: 0.3362557888031006  BestKnown\n",
      "Epoch: 565, Training Accuracy: 0.3362460136413574, Cross Validation Acc: 0.3362242579460144  BestKnown\n",
      "Epoch: 566, Training Accuracy: 0.3362143039703369, Cross Validation Acc: 0.3361983895301819  BestKnown\n",
      "Epoch: 567, Training Accuracy: 0.3361830413341522, Cross Validation Acc: 0.3361673653125763  BestKnown\n",
      "Epoch: 568, Training Accuracy: 0.3361523449420929, Cross Validation Acc: 0.3361361622810364  BestKnown\n",
      "Epoch: 569, Training Accuracy: 0.33612310886383057, Cross Validation Acc: 0.3361049294471741  BestKnown\n",
      "Epoch: 570, Training Accuracy: 0.336093544960022, Cross Validation Acc: 0.33607426285743713  BestKnown\n",
      "Epoch: 571, Training Accuracy: 0.336063951253891, Cross Validation Acc: 0.33604222536087036  BestKnown\n",
      "Epoch: 572, Training Accuracy: 0.33603522181510925, Cross Validation Acc: 0.3360128402709961  BestKnown\n",
      "Epoch: 573, Training Accuracy: 0.33600708842277527, Cross Validation Acc: 0.3359838128089905  BestKnown\n",
      "Epoch: 574, Training Accuracy: 0.3359791040420532, Cross Validation Acc: 0.3359546363353729  BestKnown\n",
      "Epoch: 575, Training Accuracy: 0.33594751358032227, Cross Validation Acc: 0.33592545986175537  BestKnown\n",
      "Epoch: 576, Training Accuracy: 0.33591675758361816, Cross Validation Acc: 0.3358948230743408  BestKnown\n",
      "Epoch: 577, Training Accuracy: 0.3358858525753021, Cross Validation Acc: 0.3358631730079651  BestKnown\n",
      "Epoch: 578, Training Accuracy: 0.3358559012413025, Cross Validation Acc: 0.33583348989486694  BestKnown\n",
      "Epoch: 579, Training Accuracy: 0.33582577109336853, Cross Validation Acc: 0.3358035087585449  BestKnown\n",
      "Epoch: 580, Training Accuracy: 0.3357967734336853, Cross Validation Acc: 0.3357750475406647  BestKnown\n",
      "Epoch: 581, Training Accuracy: 0.3357694149017334, Cross Validation Acc: 0.3357461392879486  BestKnown\n",
      "Epoch: 582, Training Accuracy: 0.33574312925338745, Cross Validation Acc: 0.33571991324424744  BestKnown\n",
      "Epoch: 583, Training Accuracy: 0.3357180953025818, Cross Validation Acc: 0.33569401502609253  BestKnown\n",
      "Epoch: 584, Training Accuracy: 0.3356936573982239, Cross Validation Acc: 0.3356674611568451  BestKnown\n",
      "Epoch: 585, Training Accuracy: 0.33566924929618835, Cross Validation Acc: 0.33564281463623047  BestKnown\n",
      "Epoch: 586, Training Accuracy: 0.3356453478336334, Cross Validation Acc: 0.3356190323829651  BestKnown\n",
      "Epoch: 587, Training Accuracy: 0.33562222123146057, Cross Validation Acc: 0.33559685945510864  BestKnown\n",
      "Epoch: 588, Training Accuracy: 0.33559948205947876, Cross Validation Acc: 0.3355727195739746  BestKnown\n"
     ]
    },
    {
     "name": "stdout",
     "output_type": "stream",
     "text": [
      "Epoch: 589, Training Accuracy: 0.33557677268981934, Cross Validation Acc: 0.33554983139038086  BestKnown\n",
      "Epoch: 590, Training Accuracy: 0.3355550169944763, Cross Validation Acc: 0.3355278968811035  BestKnown\n",
      "Epoch: 591, Training Accuracy: 0.33553391695022583, Cross Validation Acc: 0.335505872964859  BestKnown\n",
      "Epoch: 592, Training Accuracy: 0.3355141580104828, Cross Validation Acc: 0.3354858160018921  BestKnown\n",
      "Epoch: 593, Training Accuracy: 0.33549392223358154, Cross Validation Acc: 0.33546558022499084  BestKnown\n",
      "Epoch: 594, Training Accuracy: 0.3354746997356415, Cross Validation Acc: 0.3354453444480896  BestKnown\n",
      "Epoch: 595, Training Accuracy: 0.3354569971561432, Cross Validation Acc: 0.33542945981025696  BestKnown\n",
      "Epoch: 596, Training Accuracy: 0.3354385197162628, Cross Validation Acc: 0.33540937304496765  BestKnown\n",
      "Epoch: 597, Training Accuracy: 0.3354205787181854, Cross Validation Acc: 0.33539116382598877  BestKnown\n",
      "Epoch: 598, Training Accuracy: 0.33540254831314087, Cross Validation Acc: 0.3353725075721741  BestKnown\n",
      "Epoch: 599, Training Accuracy: 0.33538559079170227, Cross Validation Acc: 0.3353572189807892  BestKnown\n",
      "Epoch: 600, Training Accuracy: 0.3353683352470398, Cross Validation Acc: 0.33533889055252075  BestKnown\n",
      "Epoch: 601, Training Accuracy: 0.3353523910045624, Cross Validation Acc: 0.33532246947288513  BestKnown\n",
      "Epoch: 602, Training Accuracy: 0.33533617854118347, Cross Validation Acc: 0.33530622720718384  BestKnown\n",
      "Epoch: 603, Training Accuracy: 0.33532166481018066, Cross Validation Acc: 0.3352915644645691  BestKnown\n",
      "Epoch: 604, Training Accuracy: 0.33530640602111816, Cross Validation Acc: 0.33527857065200806  BestKnown\n",
      "Epoch: 605, Training Accuracy: 0.3352929949760437, Cross Validation Acc: 0.3352632224559784  BestKnown\n",
      "Epoch: 606, Training Accuracy: 0.3352785110473633, Cross Validation Acc: 0.335248738527298  BestKnown\n",
      "Epoch: 607, Training Accuracy: 0.33526480197906494, Cross Validation Acc: 0.33523625135421753  BestKnown\n",
      "Epoch: 608, Training Accuracy: 0.33525094389915466, Cross Validation Acc: 0.3352220058441162  BestKnown\n",
      "Epoch: 609, Training Accuracy: 0.3352372944355011, Cross Validation Acc: 0.33520781993865967  BestKnown\n",
      "Epoch: 610, Training Accuracy: 0.335224986076355, Cross Validation Acc: 0.33519572019577026  BestKnown\n",
      "Epoch: 611, Training Accuracy: 0.33521246910095215, Cross Validation Acc: 0.33518242835998535  BestKnown\n",
      "Epoch: 612, Training Accuracy: 0.3352004587650299, Cross Validation Acc: 0.3351720869541168  BestKnown\n",
      "Epoch: 613, Training Accuracy: 0.3351880609989166, Cross Validation Acc: 0.33515745401382446  BestKnown\n",
      "Epoch: 614, Training Accuracy: 0.33517536520957947, Cross Validation Acc: 0.33514603972435  BestKnown\n",
      "Epoch: 615, Training Accuracy: 0.3351636230945587, Cross Validation Acc: 0.33513540029525757  BestKnown\n",
      "Epoch: 616, Training Accuracy: 0.33515241742134094, Cross Validation Acc: 0.33512386679649353  BestKnown\n",
      "Epoch: 617, Training Accuracy: 0.3351348042488098, Cross Validation Acc: 0.33510521054267883  BestKnown\n",
      "Epoch: 618, Training Accuracy: 0.335115522146225, Cross Validation Acc: 0.335085391998291  BestKnown\n",
      "Epoch: 619, Training Accuracy: 0.33509722352027893, Cross Validation Acc: 0.33506736159324646  BestKnown\n",
      "Epoch: 620, Training Accuracy: 0.3350793123245239, Cross Validation Acc: 0.33504968881607056  BestKnown\n",
      "Epoch: 621, Training Accuracy: 0.33506283164024353, Cross Validation Acc: 0.3350318968296051  BestKnown\n",
      "Epoch: 622, Training Accuracy: 0.3350449502468109, Cross Validation Acc: 0.33501529693603516  BestKnown\n",
      "Epoch: 623, Training Accuracy: 0.33502912521362305, Cross Validation Acc: 0.33499857783317566  BestKnown\n",
      "Epoch: 624, Training Accuracy: 0.3350135087966919, Cross Validation Acc: 0.3349847197532654  BestKnown\n",
      "Epoch: 625, Training Accuracy: 0.33499762415885925, Cross Validation Acc: 0.33496883511543274  BestKnown\n",
      "Epoch: 626, Training Accuracy: 0.3349825441837311, Cross Validation Acc: 0.3349536061286926  BestKnown\n",
      "Epoch: 627, Training Accuracy: 0.3349664807319641, Cross Validation Acc: 0.3349378705024719  BestKnown\n",
      "Epoch: 628, Training Accuracy: 0.3349510729312897, Cross Validation Acc: 0.334922730922699  BestKnown\n",
      "Epoch: 629, Training Accuracy: 0.3349361717700958, Cross Validation Acc: 0.33490368723869324  BestKnown\n",
      "Epoch: 630, Training Accuracy: 0.3349210321903229, Cross Validation Acc: 0.33488959074020386  BestKnown\n",
      "Epoch: 631, Training Accuracy: 0.33490729331970215, Cross Validation Acc: 0.33487552404403687  BestKnown\n",
      "Epoch: 632, Training Accuracy: 0.3348928987979889, Cross Validation Acc: 0.33486229181289673  BestKnown\n",
      "Epoch: 633, Training Accuracy: 0.33487871289253235, Cross Validation Acc: 0.3348488509654999  BestKnown\n",
      "Epoch: 634, Training Accuracy: 0.33486559987068176, Cross Validation Acc: 0.33483389019966125  BestKnown\n",
      "Epoch: 635, Training Accuracy: 0.3348529636859894, Cross Validation Acc: 0.33482447266578674  BestKnown\n",
      "Epoch: 636, Training Accuracy: 0.33484211564064026, Cross Validation Acc: 0.3348124921321869  BestKnown\n",
      "Epoch: 637, Training Accuracy: 0.3348284661769867, Cross Validation Acc: 0.3347976803779602  BestKnown\n",
      "Epoch: 638, Training Accuracy: 0.3348149061203003, Cross Validation Acc: 0.3347831070423126  BestKnown\n",
      "Epoch: 639, Training Accuracy: 0.33480140566825867, Cross Validation Acc: 0.33477160334587097  BestKnown\n",
      "Epoch: 640, Training Accuracy: 0.33478838205337524, Cross Validation Acc: 0.33475762605667114  BestKnown\n",
      "Epoch: 641, Training Accuracy: 0.3347768783569336, Cross Validation Acc: 0.33474650979042053  BestKnown\n",
      "Epoch: 642, Training Accuracy: 0.33476153016090393, Cross Validation Acc: 0.33473268151283264  BestKnown\n",
      "Epoch: 643, Training Accuracy: 0.3347439765930176, Cross Validation Acc: 0.3347157835960388  BestKnown\n",
      "Epoch: 644, Training Accuracy: 0.3347254991531372, Cross Validation Acc: 0.33469879627227783  BestKnown\n",
      "Epoch: 645, Training Accuracy: 0.33470794558525085, Cross Validation Acc: 0.3346788287162781  BestKnown\n",
      "Epoch: 646, Training Accuracy: 0.3346919119358063, Cross Validation Acc: 0.3346656262874603  BestKnown\n",
      "Epoch: 647, Training Accuracy: 0.33467376232147217, Cross Validation Acc: 0.33464640378952026  BestKnown\n",
      "Epoch: 648, Training Accuracy: 0.33465784788131714, Cross Validation Acc: 0.3346317410469055  BestKnown\n",
      "Epoch: 649, Training Accuracy: 0.3346409201622009, Cross Validation Acc: 0.3346133530139923  BestKnown\n",
      "Epoch: 650, Training Accuracy: 0.3346255123615265, Cross Validation Acc: 0.33459630608558655  BestKnown\n",
      "Epoch: 651, Training Accuracy: 0.33461126685142517, Cross Validation Acc: 0.3345828652381897  BestKnown\n",
      "Epoch: 652, Training Accuracy: 0.3345954716205597, Cross Validation Acc: 0.33456656336784363  BestKnown\n",
      "Epoch: 653, Training Accuracy: 0.3345812261104584, Cross Validation Acc: 0.3345528542995453  BestKnown\n",
      "Epoch: 654, Training Accuracy: 0.3345660865306854, Cross Validation Acc: 0.3345376253128052  BestKnown\n",
      "Epoch: 655, Training Accuracy: 0.3345526158809662, Cross Validation Acc: 0.33452337980270386  BestKnown\n",
      "Epoch: 656, Training Accuracy: 0.33453962206840515, Cross Validation Acc: 0.3345112204551697  BestKnown\n",
      "Epoch: 657, Training Accuracy: 0.33452466130256653, Cross Validation Acc: 0.33449479937553406  BestKnown\n",
      "Epoch: 658, Training Accuracy: 0.33451181650161743, Cross Validation Acc: 0.33448144793510437  BestKnown\n",
      "Epoch: 659, Training Accuracy: 0.33449870347976685, Cross Validation Acc: 0.3344704508781433  BestKnown\n",
      "Epoch: 660, Training Accuracy: 0.3344864547252655, Cross Validation Acc: 0.3344570994377136  BestKnown\n",
      "Epoch: 661, Training Accuracy: 0.3344738483428955, Cross Validation Acc: 0.3344454765319824  BestKnown\n",
      "Epoch: 662, Training Accuracy: 0.33446094393730164, Cross Validation Acc: 0.3344312310218811  BestKnown\n",
      "Epoch: 663, Training Accuracy: 0.3344493806362152, Cross Validation Acc: 0.3344212472438812  BestKnown\n",
      "Epoch: 664, Training Accuracy: 0.3344370424747467, Cross Validation Acc: 0.3344082832336426  BestKnown\n",
      "Epoch: 665, Training Accuracy: 0.33442625403404236, Cross Validation Acc: 0.334398478269577  BestKnown\n",
      "Epoch: 666, Training Accuracy: 0.3344153165817261, Cross Validation Acc: 0.33438539505004883  BestKnown\n",
      "Epoch: 667, Training Accuracy: 0.33440515398979187, Cross Validation Acc: 0.3343766927719116  BestKnown\n",
      "Epoch: 668, Training Accuracy: 0.3343955874443054, Cross Validation Acc: 0.33436551690101624  BestKnown\n"
     ]
    },
    {
     "name": "stdout",
     "output_type": "stream",
     "text": [
      "Epoch: 669, Training Accuracy: 0.33438625931739807, Cross Validation Acc: 0.3343553841114044  BestKnown\n",
      "Epoch: 670, Training Accuracy: 0.3343765139579773, Cross Validation Acc: 0.3343479335308075  BestKnown\n",
      "Epoch: 671, Training Accuracy: 0.33436641097068787, Cross Validation Acc: 0.33433619141578674  BestKnown\n",
      "Epoch: 672, Training Accuracy: 0.3343580961227417, Cross Validation Acc: 0.33432888984680176  BestKnown\n",
      "Epoch: 673, Training Accuracy: 0.33434703946113586, Cross Validation Acc: 0.3343179225921631  BestKnown\n",
      "Epoch: 674, Training Accuracy: 0.3343361020088196, Cross Validation Acc: 0.3343068063259125  BestKnown\n",
      "Epoch: 675, Training Accuracy: 0.3343260884284973, Cross Validation Acc: 0.334299236536026  BestKnown\n",
      "Epoch: 676, Training Accuracy: 0.334315687417984, Cross Validation Acc: 0.3342847228050232  BestKnown\n",
      "Epoch: 677, Training Accuracy: 0.3343060314655304, Cross Validation Acc: 0.3342737555503845  BestKnown\n",
      "Epoch: 678, Training Accuracy: 0.3342961072921753, Cross Validation Acc: 0.33426791429519653  BestKnown\n",
      "Epoch: 679, Training Accuracy: 0.33428576588630676, Cross Validation Acc: 0.33425623178482056  BestKnown\n",
      "Epoch: 680, Training Accuracy: 0.33427637815475464, Cross Validation Acc: 0.33424627780914307  BestKnown\n",
      "Epoch: 681, Training Accuracy: 0.3342670500278473, Cross Validation Acc: 0.3342357575893402  BestKnown\n",
      "Epoch: 682, Training Accuracy: 0.3342578709125519, Cross Validation Acc: 0.3342294692993164  BestKnown\n",
      "Epoch: 683, Training Accuracy: 0.3342493176460266, Cross Validation Acc: 0.33422109484672546  BestKnown\n",
      "Epoch: 684, Training Accuracy: 0.3342393934726715, Cross Validation Acc: 0.33421000838279724  BestKnown\n",
      "Epoch: 685, Training Accuracy: 0.334228515625, Cross Validation Acc: 0.33419689536094666  BestKnown\n",
      "Epoch: 686, Training Accuracy: 0.3342152535915375, Cross Validation Acc: 0.33418363332748413  BestKnown\n",
      "Epoch: 687, Training Accuracy: 0.33420300483703613, Cross Validation Acc: 0.3341716229915619  BestKnown\n",
      "Epoch: 688, Training Accuracy: 0.33418983221054077, Cross Validation Acc: 0.3341589868068695  BestKnown\n",
      "Epoch: 689, Training Accuracy: 0.33417758345603943, Cross Validation Acc: 0.33414724469184875  BestKnown\n",
      "Epoch: 690, Training Accuracy: 0.33416566252708435, Cross Validation Acc: 0.334134578704834  BestKnown\n",
      "Epoch: 691, Training Accuracy: 0.3341543674468994, Cross Validation Acc: 0.3341229259967804  BestKnown\n",
      "Epoch: 692, Training Accuracy: 0.33414074778556824, Cross Validation Acc: 0.3341108560562134  BestKnown\n",
      "Epoch: 693, Training Accuracy: 0.3341110050678253, Cross Validation Acc: 0.33409324288368225  BestKnown\n",
      "Epoch: 694, Training Accuracy: 0.3340839743614197, Cross Validation Acc: 0.3340662121772766  BestKnown\n",
      "Epoch: 695, Training Accuracy: 0.3340355455875397, Cross Validation Acc: 0.33401164412498474  BestKnown\n",
      "Epoch: 696, Training Accuracy: 0.3339870870113373, Cross Validation Acc: 0.3339655101299286  BestKnown\n",
      "Epoch: 697, Training Accuracy: 0.33394041657447815, Cross Validation Acc: 0.3339180648326874  BestKnown\n",
      "Epoch: 698, Training Accuracy: 0.3338949680328369, Cross Validation Acc: 0.33387482166290283  BestKnown\n",
      "Epoch: 699, Training Accuracy: 0.33384615182876587, Cross Validation Acc: 0.3338279128074646  BestKnown\n",
      "Epoch: 700, Training Accuracy: 0.3337935507297516, Cross Validation Acc: 0.33377352356910706  BestKnown\n",
      "Epoch: 701, Training Accuracy: 0.33374300599098206, Cross Validation Acc: 0.3337239623069763  BestKnown\n",
      "Epoch: 702, Training Accuracy: 0.33369526267051697, Cross Validation Acc: 0.3336736559867859  BestKnown\n",
      "Epoch: 703, Training Accuracy: 0.3336499035358429, Cross Validation Acc: 0.3336274027824402  BestKnown\n",
      "Epoch: 704, Training Accuracy: 0.33360597491264343, Cross Validation Acc: 0.3335835039615631  BestKnown\n",
      "Epoch: 705, Training Accuracy: 0.3335646092891693, Cross Validation Acc: 0.33354127407073975  BestKnown\n",
      "Epoch: 706, Training Accuracy: 0.33352652192115784, Cross Validation Acc: 0.33350419998168945  BestKnown\n",
      "Epoch: 707, Training Accuracy: 0.3334895372390747, Cross Validation Acc: 0.3334662914276123  BestKnown\n",
      "Epoch: 708, Training Accuracy: 0.33345547318458557, Cross Validation Acc: 0.33343276381492615  BestKnown\n",
      "Epoch: 709, Training Accuracy: 0.33342233300209045, Cross Validation Acc: 0.3333987295627594  BestKnown\n",
      "Epoch: 710, Training Accuracy: 0.33339205384254456, Cross Validation Acc: 0.33336707949638367  BestKnown\n",
      "Epoch: 711, Training Accuracy: 0.3333613872528076, Cross Validation Acc: 0.3333354592323303  BestKnown\n",
      "Epoch: 712, Training Accuracy: 0.33333301544189453, Cross Validation Acc: 0.33330729603767395  BestKnown\n",
      "Epoch: 713, Training Accuracy: 0.33330613374710083, Cross Validation Acc: 0.3332825005054474  BestKnown\n",
      "Epoch: 714, Training Accuracy: 0.3332771062850952, Cross Validation Acc: 0.3332511782646179  BestKnown\n",
      "Epoch: 715, Training Accuracy: 0.3332492411136627, Cross Validation Acc: 0.33322253823280334  BestKnown\n",
      "Epoch: 716, Training Accuracy: 0.33320915699005127, Cross Validation Acc: 0.33318594098091125  BestKnown\n",
      "Epoch: 717, Training Accuracy: 0.33316999673843384, Cross Validation Acc: 0.33314284682273865  BestKnown\n",
      "Epoch: 718, Training Accuracy: 0.33313262462615967, Cross Validation Acc: 0.3331083059310913  BestKnown\n",
      "Epoch: 719, Training Accuracy: 0.33309781551361084, Cross Validation Acc: 0.3330712616443634  BestKnown\n",
      "Epoch: 720, Training Accuracy: 0.33306342363357544, Cross Validation Acc: 0.33304092288017273  BestKnown\n",
      "Epoch: 721, Training Accuracy: 0.33303210139274597, Cross Validation Acc: 0.33300504088401794  BestKnown\n",
      "Epoch: 722, Training Accuracy: 0.3329997956752777, Cross Validation Acc: 0.3329726457595825  BestKnown\n",
      "Epoch: 723, Training Accuracy: 0.33296287059783936, Cross Validation Acc: 0.3329389691352844  BestKnown\n",
      "Epoch: 724, Training Accuracy: 0.33292609453201294, Cross Validation Acc: 0.3329009413719177  BestKnown\n",
      "Epoch: 725, Training Accuracy: 0.3328889012336731, Cross Validation Acc: 0.3328642249107361  BestKnown\n",
      "Epoch: 726, Training Accuracy: 0.33285415172576904, Cross Validation Acc: 0.332826167345047  BestKnown\n",
      "Epoch: 727, Training Accuracy: 0.3328138291835785, Cross Validation Acc: 0.33279186487197876  BestKnown\n",
      "Epoch: 728, Training Accuracy: 0.3327719271183014, Cross Validation Acc: 0.3327499330043793  BestKnown\n",
      "Epoch: 729, Training Accuracy: 0.3327306807041168, Cross Validation Acc: 0.33270812034606934  BestKnown\n",
      "Epoch: 730, Training Accuracy: 0.3326910138130188, Cross Validation Acc: 0.3326699137687683  BestKnown\n",
      "Epoch: 731, Training Accuracy: 0.3326534628868103, Cross Validation Acc: 0.3326283395290375  BestKnown\n",
      "Epoch: 732, Training Accuracy: 0.33261674642562866, Cross Validation Acc: 0.3325948119163513  BestKnown\n",
      "Epoch: 733, Training Accuracy: 0.33258241415023804, Cross Validation Acc: 0.3325565755367279  BestKnown\n",
      "Epoch: 734, Training Accuracy: 0.3325490355491638, Cross Validation Acc: 0.3325245976448059  BestKnown\n",
      "Epoch: 735, Training Accuracy: 0.33251282572746277, Cross Validation Acc: 0.3324909806251526  BestKnown\n",
      "Epoch: 736, Training Accuracy: 0.33247748017311096, Cross Validation Acc: 0.33245447278022766  BestKnown\n",
      "Epoch: 737, Training Accuracy: 0.33244386315345764, Cross Validation Acc: 0.33242255449295044  BestKnown\n",
      "Epoch: 738, Training Accuracy: 0.33240970969200134, Cross Validation Acc: 0.3323856294155121  BestKnown\n",
      "Epoch: 739, Training Accuracy: 0.3323752284049988, Cross Validation Acc: 0.332348108291626  BestKnown\n",
      "Epoch: 740, Training Accuracy: 0.3323429822921753, Cross Validation Acc: 0.33232030272483826  BestKnown\n",
      "Epoch: 741, Training Accuracy: 0.33231207728385925, Cross Validation Acc: 0.3322862684726715  BestKnown\n",
      "Epoch: 742, Training Accuracy: 0.33228129148483276, Cross Validation Acc: 0.3322567939758301  BestKnown\n",
      "Epoch: 743, Training Accuracy: 0.3322526812553406, Cross Validation Acc: 0.33222681283950806  BestKnown\n",
      "Epoch: 744, Training Accuracy: 0.33222368359565735, Cross Validation Acc: 0.33219674229621887  BestKnown\n",
      "Epoch: 745, Training Accuracy: 0.3321963846683502, Cross Validation Acc: 0.3321729302406311  BestKnown\n",
      "Epoch: 746, Training Accuracy: 0.3321692645549774, Cross Validation Acc: 0.332144558429718  BestKnown\n",
      "Epoch: 747, Training Accuracy: 0.33212658762931824, Cross Validation Acc: 0.33210426568984985  BestKnown\n",
      "Epoch: 748, Training Accuracy: 0.33208349347114563, Cross Validation Acc: 0.33206161856651306  BestKnown\n"
     ]
    },
    {
     "name": "stdout",
     "output_type": "stream",
     "text": [
      "Epoch: 749, Training Accuracy: 0.3320413827896118, Cross Validation Acc: 0.332019180059433  BestKnown\n",
      "Epoch: 750, Training Accuracy: 0.331998735666275, Cross Validation Acc: 0.33197468519210815  BestKnown\n",
      "Epoch: 751, Training Accuracy: 0.3319607675075531, Cross Validation Acc: 0.3319387435913086  BestKnown\n",
      "Epoch: 752, Training Accuracy: 0.3319166600704193, Cross Validation Acc: 0.33189576864242554  BestKnown\n",
      "Epoch: 753, Training Accuracy: 0.3318641483783722, Cross Validation Acc: 0.33184289932250977  BestKnown\n",
      "Epoch: 754, Training Accuracy: 0.33180227875709534, Cross Validation Acc: 0.3317864239215851  BestKnown\n",
      "Epoch: 755, Training Accuracy: 0.3317442536354065, Cross Validation Acc: 0.33173030614852905  BestKnown\n",
      "Epoch: 756, Training Accuracy: 0.3316861689090729, Cross Validation Acc: 0.3316701352596283  BestKnown\n",
      "Epoch: 757, Training Accuracy: 0.33163151144981384, Cross Validation Acc: 0.331612765789032  BestKnown\n",
      "Epoch: 758, Training Accuracy: 0.3315783143043518, Cross Validation Acc: 0.33156031370162964  BestKnown\n",
      "Epoch: 759, Training Accuracy: 0.3315267860889435, Cross Validation Acc: 0.331504762172699  BestKnown\n",
      "Epoch: 760, Training Accuracy: 0.33147943019866943, Cross Validation Acc: 0.3314596116542816  BestKnown\n",
      "Epoch: 761, Training Accuracy: 0.3314328193664551, Cross Validation Acc: 0.3314094543457031  BestKnown\n",
      "Epoch: 762, Training Accuracy: 0.33137866854667664, Cross Validation Acc: 0.3313602805137634  BestKnown\n",
      "Epoch: 763, Training Accuracy: 0.3313247263431549, Cross Validation Acc: 0.33130624890327454  BestKnown\n",
      "Epoch: 764, Training Accuracy: 0.33127015829086304, Cross Validation Acc: 0.3312526345252991  BestKnown\n",
      "Epoch: 765, Training Accuracy: 0.3312186002731323, Cross Validation Acc: 0.33119839429855347  BestKnown\n",
      "Epoch: 766, Training Accuracy: 0.3311678469181061, Cross Validation Acc: 0.33114978671073914  BestKnown\n",
      "Epoch: 767, Training Accuracy: 0.3310621380805969, Cross Validation Acc: 0.33107221126556396  BestKnown\n",
      "Epoch: 768, Training Accuracy: 0.33094388246536255, Cross Validation Acc: 0.3309617042541504  BestKnown\n",
      "Epoch: 769, Training Accuracy: 0.3308233320713043, Cross Validation Acc: 0.33083951473236084  BestKnown\n",
      "Epoch: 770, Training Accuracy: 0.330704927444458, Cross Validation Acc: 0.330718457698822  BestKnown\n",
      "Epoch: 771, Training Accuracy: 0.3305916488170624, Cross Validation Acc: 0.3306007385253906  BestKnown\n",
      "Epoch: 772, Training Accuracy: 0.3304840624332428, Cross Validation Acc: 0.3304923176765442  BestKnown\n",
      "Epoch: 773, Training Accuracy: 0.33038315176963806, Cross Validation Acc: 0.3303903639316559  BestKnown\n",
      "Epoch: 774, Training Accuracy: 0.3302859663963318, Cross Validation Acc: 0.3302918076515198  BestKnown\n",
      "Epoch: 775, Training Accuracy: 0.3301895558834076, Cross Validation Acc: 0.33019429445266724  BestKnown\n",
      "Epoch: 776, Training Accuracy: 0.3300930857658386, Cross Validation Acc: 0.33009466528892517  BestKnown\n",
      "Epoch: 777, Training Accuracy: 0.33000195026397705, Cross Validation Acc: 0.330003947019577  BestKnown\n",
      "Epoch: 778, Training Accuracy: 0.3299142122268677, Cross Validation Acc: 0.3299161493778229  BestKnown\n",
      "Epoch: 779, Training Accuracy: 0.32982689142227173, Cross Validation Acc: 0.32982534170150757  BestKnown\n",
      "Epoch: 780, Training Accuracy: 0.32974252104759216, Cross Validation Acc: 0.3297421932220459  BestKnown\n",
      "Epoch: 781, Training Accuracy: 0.32965999841690063, Cross Validation Acc: 0.329659104347229  BestKnown\n",
      "Epoch: 782, Training Accuracy: 0.32955673336982727, Cross Validation Acc: 0.32956138253211975  BestKnown\n",
      "Epoch: 783, Training Accuracy: 0.32944461703300476, Cross Validation Acc: 0.32944104075431824  BestKnown\n",
      "Epoch: 784, Training Accuracy: 0.32932454347610474, Cross Validation Acc: 0.3293216824531555  BestKnown\n",
      "Epoch: 785, Training Accuracy: 0.32920756936073303, Cross Validation Acc: 0.3292023837566376  BestKnown\n",
      "Epoch: 786, Training Accuracy: 0.32909804582595825, Cross Validation Acc: 0.32909244298934937  BestKnown\n",
      "Epoch: 787, Training Accuracy: 0.3289915919303894, Cross Validation Acc: 0.3289850354194641  BestKnown\n",
      "Epoch: 788, Training Accuracy: 0.32888898253440857, Cross Validation Acc: 0.32888320088386536  BestKnown\n",
      "Epoch: 789, Training Accuracy: 0.32878848910331726, Cross Validation Acc: 0.3287811279296875  BestKnown\n",
      "Epoch: 790, Training Accuracy: 0.3286900520324707, Cross Validation Acc: 0.3286851942539215  BestKnown\n",
      "Epoch: 791, Training Accuracy: 0.3285799026489258, Cross Validation Acc: 0.32857900857925415  BestKnown\n",
      "Epoch: 792, Training Accuracy: 0.32847216725349426, Cross Validation Acc: 0.3284744620323181  BestKnown\n",
      "Epoch: 793, Training Accuracy: 0.32836729288101196, Cross Validation Acc: 0.32836753129959106  BestKnown\n",
      "Epoch: 794, Training Accuracy: 0.328267365694046, Cross Validation Acc: 0.32826367020606995  BestKnown\n",
      "Epoch: 795, Training Accuracy: 0.32816722989082336, Cross Validation Acc: 0.3281642198562622  BestKnown\n",
      "Epoch: 796, Training Accuracy: 0.32805031538009644, Cross Validation Acc: 0.32805001735687256  BestKnown\n",
      "Epoch: 797, Training Accuracy: 0.32793673872947693, Cross Validation Acc: 0.3279362618923187  BestKnown\n",
      "Epoch: 798, Training Accuracy: 0.3278238773345947, Cross Validation Acc: 0.3278200626373291  BestKnown\n",
      "Epoch: 799, Training Accuracy: 0.3277137875556946, Cross Validation Acc: 0.3277070224285126  BestKnown\n",
      "Epoch: 800, Training Accuracy: 0.3276090621948242, Cross Validation Acc: 0.32760581374168396  BestKnown\n",
      "Epoch: 801, Training Accuracy: 0.32749465107917786, Cross Validation Acc: 0.3274911046028137  BestKnown\n",
      "Epoch: 802, Training Accuracy: 0.3273828327655792, Cross Validation Acc: 0.3273777365684509  BestKnown\n",
      "Epoch: 803, Training Accuracy: 0.3272772431373596, Cross Validation Acc: 0.32727333903312683  BestKnown\n",
      "Epoch: 804, Training Accuracy: 0.32717567682266235, Cross Validation Acc: 0.3271716237068176  BestKnown\n",
      "Epoch: 805, Training Accuracy: 0.327073872089386, Cross Validation Acc: 0.32707303762435913  BestKnown\n",
      "Epoch: 806, Training Accuracy: 0.32697343826293945, Cross Validation Acc: 0.3269692659378052  BestKnown\n",
      "Epoch: 807, Training Accuracy: 0.326873779296875, Cross Validation Acc: 0.32686978578567505  BestKnown\n",
      "Epoch: 808, Training Accuracy: 0.32675981521606445, Cross Validation Acc: 0.3267700970172882  BestKnown\n",
      "Epoch: 809, Training Accuracy: 0.3266200125217438, Cross Validation Acc: 0.3266320824623108  BestKnown\n",
      "Epoch: 810, Training Accuracy: 0.32648810744285583, Cross Validation Acc: 0.32650142908096313  BestKnown\n",
      "Epoch: 811, Training Accuracy: 0.3263602554798126, Cross Validation Acc: 0.3263731002807617  BestKnown\n",
      "Epoch: 812, Training Accuracy: 0.32623159885406494, Cross Validation Acc: 0.3262438178062439  BestKnown\n",
      "Epoch: 813, Training Accuracy: 0.3261065185070038, Cross Validation Acc: 0.3261200487613678  BestKnown\n",
      "Epoch: 814, Training Accuracy: 0.3259866237640381, Cross Validation Acc: 0.32599717378616333  BestKnown\n",
      "Epoch: 815, Training Accuracy: 0.3258703947067261, Cross Validation Acc: 0.3258761465549469  BestKnown\n",
      "Epoch: 816, Training Accuracy: 0.3257584869861603, Cross Validation Acc: 0.32576507329940796  BestKnown\n",
      "Epoch: 817, Training Accuracy: 0.3256475329399109, Cross Validation Acc: 0.32565486431121826  BestKnown\n",
      "Epoch: 818, Training Accuracy: 0.3255408704280853, Cross Validation Acc: 0.32554617524147034  BestKnown\n",
      "Epoch: 819, Training Accuracy: 0.32543906569480896, Cross Validation Acc: 0.3254472017288208  BestKnown\n",
      "Epoch: 820, Training Accuracy: 0.3253396153450012, Cross Validation Acc: 0.32534533739089966  BestKnown\n",
      "Epoch: 821, Training Accuracy: 0.3252403140068054, Cross Validation Acc: 0.32524508237838745  BestKnown\n",
      "Epoch: 822, Training Accuracy: 0.32514429092407227, Cross Validation Acc: 0.32514792680740356  BestKnown\n",
      "Epoch: 823, Training Accuracy: 0.3250502049922943, Cross Validation Acc: 0.32505345344543457  BestKnown\n",
      "Epoch: 824, Training Accuracy: 0.32495447993278503, Cross Validation Acc: 0.32495689392089844  BestKnown\n",
      "Epoch: 825, Training Accuracy: 0.3248543441295624, Cross Validation Acc: 0.32485347986221313  BestKnown\n",
      "Epoch: 826, Training Accuracy: 0.32475346326828003, Cross Validation Acc: 0.32475370168685913  BestKnown\n",
      "Epoch: 827, Training Accuracy: 0.3246535360813141, Cross Validation Acc: 0.3246549367904663  BestKnown\n",
      "Epoch: 828, Training Accuracy: 0.3245536684989929, Cross Validation Acc: 0.32455313205718994  BestKnown\n"
     ]
    },
    {
     "name": "stdout",
     "output_type": "stream",
     "text": [
      "Epoch: 829, Training Accuracy: 0.32445228099823, Cross Validation Acc: 0.32445091009140015  BestKnown\n",
      "Epoch: 830, Training Accuracy: 0.32434314489364624, Cross Validation Acc: 0.3243372440338135  BestKnown\n",
      "Epoch: 831, Training Accuracy: 0.3242359459400177, Cross Validation Acc: 0.32422852516174316  BestKnown\n",
      "Epoch: 832, Training Accuracy: 0.32413342595100403, Cross Validation Acc: 0.3241245448589325  BestKnown\n",
      "Epoch: 833, Training Accuracy: 0.3240363299846649, Cross Validation Acc: 0.3240280747413635  BestKnown\n",
      "Epoch: 834, Training Accuracy: 0.3239142596721649, Cross Validation Acc: 0.32391121983528137  BestKnown\n",
      "Epoch: 835, Training Accuracy: 0.3237767517566681, Cross Validation Acc: 0.3237842917442322  BestKnown\n",
      "Epoch: 836, Training Accuracy: 0.3236267864704132, Cross Validation Acc: 0.3236355185508728  BestKnown\n",
      "Epoch: 837, Training Accuracy: 0.32348373532295227, Cross Validation Acc: 0.32349252700805664  BestKnown\n",
      "Epoch: 838, Training Accuracy: 0.323345810174942, Cross Validation Acc: 0.32335251569747925  BestKnown\n",
      "Epoch: 839, Training Accuracy: 0.32321491837501526, Cross Validation Acc: 0.32322096824645996  BestKnown\n",
      "Epoch: 840, Training Accuracy: 0.32308897376060486, Cross Validation Acc: 0.32309168577194214  BestKnown\n",
      "Epoch: 841, Training Accuracy: 0.32296085357666016, Cross Validation Acc: 0.32296550273895264  BestKnown\n",
      "Epoch: 842, Training Accuracy: 0.32281166315078735, Cross Validation Acc: 0.32282310724258423  BestKnown\n",
      "Epoch: 843, Training Accuracy: 0.32266339659690857, Cross Validation Acc: 0.3226737082004547  BestKnown\n",
      "Epoch: 844, Training Accuracy: 0.3225206434726715, Cross Validation Acc: 0.3225306570529938  BestKnown\n",
      "Epoch: 845, Training Accuracy: 0.3223819434642792, Cross Validation Acc: 0.32239043712615967  BestKnown\n",
      "Epoch: 846, Training Accuracy: 0.322249174118042, Cross Validation Acc: 0.32225480675697327  BestKnown\n",
      "Epoch: 847, Training Accuracy: 0.32211899757385254, Cross Validation Acc: 0.3221254348754883  BestKnown\n",
      "Epoch: 848, Training Accuracy: 0.321991503238678, Cross Validation Acc: 0.32199376821517944  BestKnown\n",
      "Epoch: 849, Training Accuracy: 0.3218694031238556, Cross Validation Acc: 0.32187166810035706  BestKnown\n",
      "Epoch: 850, Training Accuracy: 0.32174795866012573, Cross Validation Acc: 0.321748822927475  BestKnown\n",
      "Epoch: 851, Training Accuracy: 0.3216363787651062, Cross Validation Acc: 0.3216334879398346  BestKnown\n",
      "Epoch: 852, Training Accuracy: 0.3215324282646179, Cross Validation Acc: 0.32152658700942993  BestKnown\n",
      "Epoch: 853, Training Accuracy: 0.32142654061317444, Cross Validation Acc: 0.32142430543899536  BestKnown\n",
      "Epoch: 854, Training Accuracy: 0.321306973695755, Cross Validation Acc: 0.3213070034980774  BestKnown\n",
      "Epoch: 855, Training Accuracy: 0.3211918771266937, Cross Validation Acc: 0.3211889863014221  BestKnown\n",
      "Epoch: 856, Training Accuracy: 0.32108059525489807, Cross Validation Acc: 0.3210788369178772  BestKnown\n",
      "Epoch: 857, Training Accuracy: 0.320971816778183, Cross Validation Acc: 0.3209710121154785  BestKnown\n",
      "Epoch: 858, Training Accuracy: 0.32086601853370667, Cross Validation Acc: 0.32086479663848877  BestKnown\n",
      "Epoch: 859, Training Accuracy: 0.3207615613937378, Cross Validation Acc: 0.3207595646381378  BestKnown\n",
      "Epoch: 860, Training Accuracy: 0.3206629753112793, Cross Validation Acc: 0.3206590712070465  BestKnown\n",
      "Epoch: 861, Training Accuracy: 0.32056453824043274, Cross Validation Acc: 0.3205578923225403  BestKnown\n",
      "Epoch: 862, Training Accuracy: 0.32047030329704285, Cross Validation Acc: 0.320467084646225  BestKnown\n",
      "Epoch: 863, Training Accuracy: 0.32037481665611267, Cross Validation Acc: 0.3203763961791992  BestKnown\n",
      "Epoch: 864, Training Accuracy: 0.3202751874923706, Cross Validation Acc: 0.32027843594551086  BestKnown\n",
      "Epoch: 865, Training Accuracy: 0.32018256187438965, Cross Validation Acc: 0.32018113136291504  BestKnown\n",
      "Epoch: 866, Training Accuracy: 0.3200957477092743, Cross Validation Acc: 0.320091187953949  BestKnown\n",
      "Epoch: 867, Training Accuracy: 0.32001155614852905, Cross Validation Acc: 0.32000604271888733  BestKnown\n",
      "Epoch: 868, Training Accuracy: 0.31992772221565247, Cross Validation Acc: 0.3199222981929779  BestKnown\n",
      "Epoch: 869, Training Accuracy: 0.31984686851501465, Cross Validation Acc: 0.3198390603065491  BestKnown\n",
      "Epoch: 870, Training Accuracy: 0.3197646737098694, Cross Validation Acc: 0.3197573125362396  BestKnown\n",
      "Epoch: 871, Training Accuracy: 0.3196757733821869, Cross Validation Acc: 0.31967678666114807  BestKnown\n",
      "Epoch: 872, Training Accuracy: 0.3195897936820984, Cross Validation Acc: 0.31958910822868347  BestKnown\n",
      "Epoch: 873, Training Accuracy: 0.3195059895515442, Cross Validation Acc: 0.3195039927959442  BestKnown\n",
      "Epoch: 874, Training Accuracy: 0.3194243311882019, Cross Validation Acc: 0.31941863894462585  BestKnown\n",
      "Epoch: 875, Training Accuracy: 0.3193416893482208, Cross Validation Acc: 0.31933632493019104  BestKnown\n",
      "Epoch: 876, Training Accuracy: 0.3192623555660248, Cross Validation Acc: 0.31925317645072937  BestKnown\n",
      "Epoch: 877, Training Accuracy: 0.31918659806251526, Cross Validation Acc: 0.3191794455051422  BestKnown\n",
      "Epoch: 878, Training Accuracy: 0.3191104531288147, Cross Validation Acc: 0.319099098443985  BestKnown\n",
      "Epoch: 879, Training Accuracy: 0.3190348744392395, Cross Validation Acc: 0.31902819871902466  BestKnown\n",
      "Epoch: 880, Training Accuracy: 0.31896495819091797, Cross Validation Acc: 0.3189536929130554  BestKnown\n",
      "Epoch: 881, Training Accuracy: 0.31889456510543823, Cross Validation Acc: 0.3188799023628235  BestKnown\n",
      "Epoch: 882, Training Accuracy: 0.3188283443450928, Cross Validation Acc: 0.31881624460220337  BestKnown\n",
      "Epoch: 883, Training Accuracy: 0.31876370310783386, Cross Validation Acc: 0.31875333189964294  BestKnown\n",
      "Epoch: 884, Training Accuracy: 0.3187006115913391, Cross Validation Acc: 0.31868404150009155  BestKnown\n",
      "Epoch: 885, Training Accuracy: 0.31864091753959656, Cross Validation Acc: 0.3186274468898773  BestKnown\n",
      "Epoch: 886, Training Accuracy: 0.3185821771621704, Cross Validation Acc: 0.31856709718704224  BestKnown\n",
      "Epoch: 887, Training Accuracy: 0.3185253441333771, Cross Validation Acc: 0.31851065158843994  BestKnown\n",
      "Epoch: 888, Training Accuracy: 0.3184700906276703, Cross Validation Acc: 0.31845492124557495  BestKnown\n",
      "Epoch: 889, Training Accuracy: 0.31841152906417847, Cross Validation Acc: 0.3183946907520294  BestKnown\n",
      "Epoch: 890, Training Accuracy: 0.3183518648147583, Cross Validation Acc: 0.318337619304657  BestKnown\n",
      "Epoch: 891, Training Accuracy: 0.31829410791397095, Cross Validation Acc: 0.3182789087295532  BestKnown\n",
      "Epoch: 892, Training Accuracy: 0.3182365894317627, Cross Validation Acc: 0.31821921467781067  BestKnown\n",
      "Epoch: 893, Training Accuracy: 0.3181803226470947, Cross Validation Acc: 0.31816408038139343  BestKnown\n",
      "Epoch: 894, Training Accuracy: 0.31812652945518494, Cross Validation Acc: 0.3181072473526001  BestKnown\n",
      "Epoch: 895, Training Accuracy: 0.3180737793445587, Cross Validation Acc: 0.3180525004863739  BestKnown\n",
      "Epoch: 896, Training Accuracy: 0.31802311539649963, Cross Validation Acc: 0.31800058484077454  BestKnown\n",
      "Epoch: 897, Training Accuracy: 0.3179728388786316, Cross Validation Acc: 0.3179473280906677  BestKnown\n",
      "Epoch: 898, Training Accuracy: 0.3179232180118561, Cross Validation Acc: 0.3179014325141907  BestKnown\n",
      "Epoch: 899, Training Accuracy: 0.31787511706352234, Cross Validation Acc: 0.3178512454032898  BestKnown\n",
      "Epoch: 900, Training Accuracy: 0.3178273141384125, Cross Validation Acc: 0.317801833152771  BestKnown\n",
      "Epoch: 901, Training Accuracy: 0.31777894496917725, Cross Validation Acc: 0.3177529573440552  BestKnown\n",
      "Epoch: 902, Training Accuracy: 0.3177299201488495, Cross Validation Acc: 0.317700058221817  BestKnown\n",
      "Epoch: 903, Training Accuracy: 0.3176831305027008, Cross Validation Acc: 0.31765490770339966  BestKnown\n",
      "Epoch: 904, Training Accuracy: 0.3176347017288208, Cross Validation Acc: 0.31760352849960327  BestKnown\n",
      "Epoch: 905, Training Accuracy: 0.3175891935825348, Cross Validation Acc: 0.3175625801086426  BestKnown\n",
      "Epoch: 906, Training Accuracy: 0.31754446029663086, Cross Validation Acc: 0.3175128996372223  BestKnown\n",
      "Epoch: 907, Training Accuracy: 0.3175007700920105, Cross Validation Acc: 0.3174719214439392  BestKnown\n",
      "Epoch: 908, Training Accuracy: 0.3174552321434021, Cross Validation Acc: 0.31742846965789795  BestKnown\n",
      "Epoch: 909, Training Accuracy: 0.31740906834602356, Cross Validation Acc: 0.3173803687095642  BestKnown\n"
     ]
    },
    {
     "name": "stdout",
     "output_type": "stream",
     "text": [
      "Epoch: 910, Training Accuracy: 0.31736427545547485, Cross Validation Acc: 0.3173372447490692  BestKnown\n",
      "Epoch: 911, Training Accuracy: 0.3173196315765381, Cross Validation Acc: 0.31728893518447876  BestKnown\n",
      "Epoch: 912, Training Accuracy: 0.31727585196495056, Cross Validation Acc: 0.31724706292152405  BestKnown\n",
      "Epoch: 913, Training Accuracy: 0.3172335624694824, Cross Validation Acc: 0.31720322370529175  BestKnown\n",
      "Epoch: 914, Training Accuracy: 0.3171907961368561, Cross Validation Acc: 0.3171613812446594  BestKnown\n",
      "Epoch: 915, Training Accuracy: 0.3171449601650238, Cross Validation Acc: 0.31711846590042114  BestKnown\n",
      "Epoch: 916, Training Accuracy: 0.31709763407707214, Cross Validation Acc: 0.3170689642429352  BestKnown\n",
      "Epoch: 917, Training Accuracy: 0.31704431772232056, Cross Validation Acc: 0.31701546907424927  BestKnown\n",
      "Epoch: 918, Training Accuracy: 0.3169938325881958, Cross Validation Acc: 0.3169666528701782  BestKnown\n",
      "Epoch: 919, Training Accuracy: 0.3169419765472412, Cross Validation Acc: 0.31691649556159973  BestKnown\n",
      "Epoch: 920, Training Accuracy: 0.3168898820877075, Cross Validation Acc: 0.3168615996837616  BestKnown\n",
      "Epoch: 921, Training Accuracy: 0.31683796644210815, Cross Validation Acc: 0.31681105494499207  BestKnown\n",
      "Epoch: 922, Training Accuracy: 0.31678688526153564, Cross Validation Acc: 0.3167610466480255  BestKnown\n",
      "Epoch: 923, Training Accuracy: 0.3167392909526825, Cross Validation Acc: 0.3167116641998291  BestKnown\n",
      "Epoch: 924, Training Accuracy: 0.31669411063194275, Cross Validation Acc: 0.3166663646697998  BestKnown\n",
      "Epoch: 925, Training Accuracy: 0.3166519105434418, Cross Validation Acc: 0.3166221082210541  BestKnown\n",
      "Epoch: 926, Training Accuracy: 0.31660813093185425, Cross Validation Acc: 0.3165827989578247  BestKnown\n",
      "Epoch: 927, Training Accuracy: 0.316567063331604, Cross Validation Acc: 0.31653887033462524  BestKnown\n",
      "Epoch: 928, Training Accuracy: 0.3165262043476105, Cross Validation Acc: 0.3165007531642914  BestKnown\n",
      "Epoch: 929, Training Accuracy: 0.3164864778518677, Cross Validation Acc: 0.31645774841308594  BestKnown\n",
      "Epoch: 930, Training Accuracy: 0.31644758582115173, Cross Validation Acc: 0.31641730666160583  BestKnown\n",
      "Epoch: 931, Training Accuracy: 0.31640973687171936, Cross Validation Acc: 0.31638023257255554  BestKnown\n",
      "Epoch: 932, Training Accuracy: 0.3163716495037079, Cross Validation Acc: 0.31634074449539185  BestKnown\n",
      "Epoch: 933, Training Accuracy: 0.31633493304252625, Cross Validation Acc: 0.3163057565689087  BestKnown\n",
      "Epoch: 934, Training Accuracy: 0.3162992596626282, Cross Validation Acc: 0.3162679076194763  BestKnown\n",
      "Epoch: 935, Training Accuracy: 0.316263347864151, Cross Validation Acc: 0.31623366475105286  BestKnown\n",
      "Epoch: 936, Training Accuracy: 0.31622418761253357, Cross Validation Acc: 0.31619036197662354  BestKnown\n",
      "Epoch: 937, Training Accuracy: 0.3161858320236206, Cross Validation Acc: 0.31615501642227173  BestKnown\n",
      "Epoch: 938, Training Accuracy: 0.31615105271339417, Cross Validation Acc: 0.31611689925193787  BestKnown\n",
      "Epoch: 939, Training Accuracy: 0.3161173164844513, Cross Validation Acc: 0.31608226895332336  BestKnown\n",
      "Epoch: 940, Training Accuracy: 0.31608423590660095, Cross Validation Acc: 0.31604892015457153  BestKnown\n",
      "Epoch: 941, Training Accuracy: 0.3160533010959625, Cross Validation Acc: 0.3160160481929779  BestKnown\n",
      "Epoch: 942, Training Accuracy: 0.31602218747138977, Cross Validation Acc: 0.31598585844039917  BestKnown\n",
      "Epoch: 943, Training Accuracy: 0.3159911632537842, Cross Validation Acc: 0.31595903635025024  BestKnown\n",
      "Epoch: 944, Training Accuracy: 0.31596094369888306, Cross Validation Acc: 0.3159239888191223  BestKnown\n",
      "Epoch: 945, Training Accuracy: 0.31593313813209534, Cross Validation Acc: 0.31589698791503906  BestKnown\n",
      "Epoch: 946, Training Accuracy: 0.3159043788909912, Cross Validation Acc: 0.3158709406852722  BestKnown\n",
      "Epoch: 947, Training Accuracy: 0.3158765137195587, Cross Validation Acc: 0.3158414959907532  BestKnown\n",
      "Epoch: 948, Training Accuracy: 0.31584933400154114, Cross Validation Acc: 0.31581446528434753  BestKnown\n",
      "Epoch: 949, Training Accuracy: 0.31582173705101013, Cross Validation Acc: 0.31578558683395386  BestKnown\n",
      "Epoch: 950, Training Accuracy: 0.3157948851585388, Cross Validation Acc: 0.3157607614994049  BestKnown\n",
      "Epoch: 951, Training Accuracy: 0.31576552987098694, Cross Validation Acc: 0.3157311975955963  BestKnown\n",
      "Epoch: 952, Training Accuracy: 0.31572771072387695, Cross Validation Acc: 0.3156892657279968  BestKnown\n",
      "Epoch: 953, Training Accuracy: 0.3156919479370117, Cross Validation Acc: 0.31565338373184204  BestKnown\n",
      "Epoch: 954, Training Accuracy: 0.31565821170806885, Cross Validation Acc: 0.3156193196773529  BestKnown\n",
      "Epoch: 955, Training Accuracy: 0.31562426686286926, Cross Validation Acc: 0.3155853748321533  BestKnown\n",
      "Epoch: 956, Training Accuracy: 0.31559085845947266, Cross Validation Acc: 0.315553218126297  BestKnown\n",
      "Epoch: 957, Training Accuracy: 0.3155590891838074, Cross Validation Acc: 0.3155204653739929  BestKnown\n",
      "Epoch: 958, Training Accuracy: 0.3155287206172943, Cross Validation Acc: 0.3154902756214142  BestKnown\n",
      "Epoch: 959, Training Accuracy: 0.31549927592277527, Cross Validation Acc: 0.31546059250831604  BestKnown\n",
      "Epoch: 960, Training Accuracy: 0.3154706060886383, Cross Validation Acc: 0.31543076038360596  BestKnown\n",
      "Epoch: 961, Training Accuracy: 0.3154415488243103, Cross Validation Acc: 0.31540387868881226  BestKnown\n",
      "Epoch: 962, Training Accuracy: 0.31541380286216736, Cross Validation Acc: 0.3153764605522156  BestKnown\n",
      "Epoch: 963, Training Accuracy: 0.3153866231441498, Cross Validation Acc: 0.3153492510318756  BestKnown\n",
      "Epoch: 964, Training Accuracy: 0.3153611123561859, Cross Validation Acc: 0.3153228461742401  BestKnown\n",
      "Epoch: 965, Training Accuracy: 0.315334677696228, Cross Validation Acc: 0.3152981996536255  BestKnown\n",
      "Epoch: 966, Training Accuracy: 0.3153088390827179, Cross Validation Acc: 0.315273255109787  BestKnown\n",
      "Epoch: 967, Training Accuracy: 0.31528252363204956, Cross Validation Acc: 0.3152470588684082  BestKnown\n",
      "Epoch: 968, Training Accuracy: 0.3152554929256439, Cross Validation Acc: 0.31522297859191895  BestKnown\n",
      "Epoch: 969, Training Accuracy: 0.31522905826568604, Cross Validation Acc: 0.31519195437431335  BestKnown\n",
      "Epoch: 970, Training Accuracy: 0.3152041435241699, Cross Validation Acc: 0.3151651918888092  BestKnown\n",
      "Epoch: 971, Training Accuracy: 0.31517651677131653, Cross Validation Acc: 0.3151419162750244  BestKnown\n",
      "Epoch: 972, Training Accuracy: 0.31514808535575867, Cross Validation Acc: 0.3151111602783203  BestKnown\n",
      "Epoch: 973, Training Accuracy: 0.31512001156806946, Cross Validation Acc: 0.3150877356529236  BestKnown\n",
      "Epoch: 974, Training Accuracy: 0.3150896728038788, Cross Validation Acc: 0.31505727767944336  BestKnown\n",
      "Epoch: 975, Training Accuracy: 0.31505924463272095, Cross Validation Acc: 0.3150276839733124  BestKnown\n",
      "Epoch: 976, Training Accuracy: 0.3150297999382019, Cross Validation Acc: 0.3149980902671814  BestKnown\n",
      "Epoch: 977, Training Accuracy: 0.31500044465065, Cross Validation Acc: 0.31496816873550415  BestKnown\n",
      "Epoch: 978, Training Accuracy: 0.31497249007225037, Cross Validation Acc: 0.31494036316871643  BestKnown\n",
      "Epoch: 979, Training Accuracy: 0.3149432837963104, Cross Validation Acc: 0.3149130940437317  BestKnown\n",
      "Epoch: 980, Training Accuracy: 0.3149145543575287, Cross Validation Acc: 0.31488364934921265  BestKnown\n",
      "Epoch: 981, Training Accuracy: 0.3148860037326813, Cross Validation Acc: 0.3148537874221802  BestKnown\n",
      "Epoch: 982, Training Accuracy: 0.3148593008518219, Cross Validation Acc: 0.3148266673088074  BestKnown\n",
      "Epoch: 983, Training Accuracy: 0.31483063101768494, Cross Validation Acc: 0.3147974908351898  BestKnown\n",
      "Epoch: 984, Training Accuracy: 0.31480446457862854, Cross Validation Acc: 0.3147698640823364  BestKnown\n",
      "Epoch: 985, Training Accuracy: 0.31477928161621094, Cross Validation Acc: 0.31474432349205017  BestKnown\n",
      "Epoch: 986, Training Accuracy: 0.314753919839859, Cross Validation Acc: 0.31471797823905945  BestKnown\n",
      "Epoch: 987, Training Accuracy: 0.3147289454936981, Cross Validation Acc: 0.31469452381134033  BestKnown\n",
      "Epoch: 988, Training Accuracy: 0.3147037923336029, Cross Validation Acc: 0.3146701753139496  BestKnown\n",
      "Epoch: 989, Training Accuracy: 0.31468042731285095, Cross Validation Acc: 0.31464406847953796  BestKnown\n"
     ]
    },
    {
     "name": "stdout",
     "output_type": "stream",
     "text": [
      "Epoch: 990, Training Accuracy: 0.3146555721759796, Cross Validation Acc: 0.314620703458786  BestKnown\n",
      "Epoch: 991, Training Accuracy: 0.31463125348091125, Cross Validation Acc: 0.31459951400756836  BestKnown\n",
      "Epoch: 992, Training Accuracy: 0.3146086633205414, Cross Validation Acc: 0.3145759403705597  BestKnown\n",
      "Epoch: 993, Training Accuracy: 0.3145848512649536, Cross Validation Acc: 0.31455111503601074  BestKnown\n",
      "Epoch: 994, Training Accuracy: 0.31456270813941956, Cross Validation Acc: 0.3145250380039215  BestKnown\n",
      "Epoch: 995, Training Accuracy: 0.31453150510787964, Cross Validation Acc: 0.3144972324371338  BestKnown\n",
      "Epoch: 996, Training Accuracy: 0.31449565291404724, Cross Validation Acc: 0.31446248292922974  BestKnown\n",
      "Epoch: 997, Training Accuracy: 0.31446295976638794, Cross Validation Acc: 0.31442922353744507  BestKnown\n",
      "Epoch: 998, Training Accuracy: 0.3144317865371704, Cross Validation Acc: 0.31439629197120667  BestKnown\n",
      "Epoch: 999, Training Accuracy: 0.3144005239009857, Cross Validation Acc: 0.3143651485443115  BestKnown\n",
      "Total execution time: 0:02:27\n"
     ]
    }
   ],
   "source": [
    "optimize_nn(num_epochs=1000, num_folds=10)"
   ]
  },
  {
   "cell_type": "markdown",
   "metadata": {},
   "source": [
    "Computing the test mse"
   ]
  },
  {
   "cell_type": "code",
   "execution_count": 105,
   "metadata": {},
   "outputs": [
    {
     "data": {
      "text/plain": [
       "0.6886393023997621"
      ]
     },
     "execution_count": 105,
     "metadata": {},
     "output_type": "execute_result"
    }
   ],
   "source": [
    "y_pred_test_NN = session.run( y_pred, feed_dict={x: X_test})\n",
    "metrics.mean_squared_error(y_test, y_pred_test_NN)"
   ]
  },
  {
   "cell_type": "code",
   "execution_count": 107,
   "metadata": {},
   "outputs": [
    {
     "name": "stdout",
     "output_type": "stream",
     "text": [
      "Correlation coefficient between predicted value and real value is [1.         0.52624735]\n"
     ]
    }
   ],
   "source": [
    "CC = np.corrcoef(y_test.reshape(1,len(y_test)),y_pred_test_NN.reshape(1,len(y_test)))\n",
    "print(\"Correlation coefficient between predicted value and real value is {}\".format(CC[0]))"
   ]
  },
  {
   "cell_type": "markdown",
   "metadata": {},
   "source": [
    "Scatter plot of the estimated grade vs observed one "
   ]
  },
  {
   "cell_type": "code",
   "execution_count": 108,
   "metadata": {},
   "outputs": [
    {
     "data": {
      "text/plain": [
       "[Text(0, 0.5, 'Estimated Grade'), Text(0.5, 0, 'Real Grade')]"
      ]
     },
     "execution_count": 108,
     "metadata": {},
     "output_type": "execute_result"
    },
    {
     "data": {
      "image/png": "[encoded data removed]",
      "text/plain": [
       "<Figure size 432x288 with 1 Axes>"
      ]
     },
     "metadata": {},
     "output_type": "display_data"
    }
   ],
   "source": [
    "y_pred_test_NN_inv = YScaler.inverse_transform(y_pred_test_NN)\n",
    "y_test_inv = YScaler.inverse_transform(y_test)\n",
    "ax = sns.regplot(x=y_test_inv.reshape(len(y_test),), y=y_pred_test_NN_inv.reshape(len(y_test),))\n",
    "ax.set(xlabel='Real Grade', ylabel='Estimated Grade')"
   ]
  },
  {
   "cell_type": "code",
   "execution_count": 109,
   "metadata": {},
   "outputs": [],
   "source": [
    "session.close()"
   ]
  },
  {
   "cell_type": "markdown",
   "metadata": {},
   "source": [
    "# Random Forest"
   ]
  },
  {
   "cell_type": "markdown",
   "metadata": {},
   "source": [
    "We also use random forest regression with number of trees equal to 200"
   ]
  },
  {
   "cell_type": "code",
   "execution_count": 110,
   "metadata": {},
   "outputs": [],
   "source": [
    "regressor = RandomForestRegressor(n_estimators=50, random_state=0)"
   ]
  },
  {
   "cell_type": "markdown",
   "metadata": {},
   "source": [
    "Fit a model to RF"
   ]
  },
  {
   "cell_type": "code",
   "execution_count": 111,
   "metadata": {},
   "outputs": [],
   "source": [
    "model_RF =regressor.fit(X_train, y_train.reshape(len(y_train),))"
   ]
  },
  {
   "cell_type": "markdown",
   "metadata": {},
   "source": [
    "Compute the prediction values"
   ]
  },
  {
   "cell_type": "code",
   "execution_count": 112,
   "metadata": {},
   "outputs": [],
   "source": [
    "y_pred_test_RF = regressor.predict(X_test)"
   ]
  },
  {
   "cell_type": "markdown",
   "metadata": {},
   "source": [
    "Compute mean squarred error of the prediction"
   ]
  },
  {
   "cell_type": "code",
   "execution_count": 113,
   "metadata": {},
   "outputs": [
    {
     "data": {
      "text/plain": [
       "0.658930504404581"
      ]
     },
     "execution_count": 113,
     "metadata": {},
     "output_type": "execute_result"
    }
   ],
   "source": [
    "metrics.mean_squared_error(y_test, y_pred_test_RF)"
   ]
  },
  {
   "cell_type": "markdown",
   "metadata": {},
   "source": [
    "Computing the correlation between estimated and observed values"
   ]
  },
  {
   "cell_type": "code",
   "execution_count": 114,
   "metadata": {},
   "outputs": [
    {
     "name": "stdout",
     "output_type": "stream",
     "text": [
      "Correlation coefficient between predicted value and real value is [1.         0.55022674]\n"
     ]
    }
   ],
   "source": [
    "CC = np.corrcoef(y_test.reshape(1,len(y_test)),y_pred_test_RF.reshape(1,len(y_test)))\n",
    "print(\"Correlation coefficient between predicted value and real value is {}\".format(CC[0]))"
   ]
  },
  {
   "cell_type": "code",
   "execution_count": 115,
   "metadata": {},
   "outputs": [
    {
     "data": {
      "text/plain": [
       "[Text(0, 0.5, 'Estimated Grade'), Text(0.5, 0, 'Real Grade')]"
      ]
     },
     "execution_count": 115,
     "metadata": {},
     "output_type": "execute_result"
    },
    {
     "data": {
      "image/png": "[encoded data removed]",
      "text/plain": [
       "<Figure size 432x288 with 1 Axes>"
      ]
     },
     "metadata": {},
     "output_type": "display_data"
    }
   ],
   "source": [
    "y_pred_test_RF_inv = YScaler.inverse_transform(y_pred_test_RF)\n",
    "y_test_inv = YScaler.inverse_transform(y_test)\n",
    "ax = sns.regplot(x=y_test_inv.reshape(len(y_test),), y=y_pred_test_RF_inv.reshape(len(y_test),))\n",
    "ax.set(xlabel='Real Grade', ylabel='Estimated Grade')"
   ]
  },
  {
   "cell_type": "markdown",
   "metadata": {},
   "source": [
    "Compute the important features for regression using RF"
   ]
  },
  {
   "cell_type": "code",
   "execution_count": 116,
   "metadata": {},
   "outputs": [
    {
     "name": "stdout",
     "output_type": "stream",
     "text": [
      "name                    score\n",
      "failures           0.166237\n",
      "absences           0.103127\n",
      "studytime          0.0479753\n",
      "age                0.0432216\n",
      "health             0.0396054\n",
      "Fedu               0.0377412\n",
      "Walc               0.036108\n",
      "Medu               0.0355863\n",
      "goout              0.0340623\n",
      "freetime           0.0328874\n",
      "traveltime         0.0259936\n",
      "famrel             0.0235977\n",
      "Dalc               0.0168667\n",
      "famsup_no          0.0161\n",
      "guardian_mother    0.0144874\n",
      "Fjob_other         0.0143783\n",
      "Mjob_other         0.0137988\n",
      "Fjob_services      0.013139\n",
      "reason_course      0.0129687\n",
      "famsize_LE3        0.0123296\n",
      "Pstatus_T          0.0116911\n",
      "guardian_father    0.0111954\n",
      "schoolsup_no       0.0107195\n",
      "paid_no            0.0105825\n",
      "Mjob_services      0.00985858\n",
      "nursery_no         0.00943838\n",
      "famsup_yes         0.00872518\n",
      "Mjob_at_home       0.00859977\n",
      "Fjob_at_home       0.00830482\n",
      "school_GP          0.00806324\n",
      "guardian_other     0.00801152\n",
      "G1                 0.00793026\n",
      "Pstatus_A          0.00787475\n",
      "higher_yes         0.00787382\n",
      "paid_yes           0.00779092\n",
      "G2                 0.00750723\n",
      "Fjob_health        0.00749705\n",
      "activities_yes     0.00716549\n",
      "G3                 0.00714083\n",
      "Mjob_teacher       0.00713621\n",
      "reason_other       0.00696616\n",
      "higher_no          0.00689423\n",
      "internet_no        0.00675372\n",
      "Mjob_health        0.00669343\n",
      "schoolsup_yes      0.00659639\n",
      "sex_F              0.00613926\n",
      "school_MS          0.00596938\n",
      "nursery_yes        0.00558244\n",
      "activities_no      0.00539584\n",
      "address_U          0.00535146\n",
      "sex_M              0.00516072\n",
      "reason_reputation  0.00495222\n",
      "reason_home        0.00464699\n",
      "famsize_GT3        0.00389913\n",
      "address_R          0.00348656\n",
      "Fjob_teacher       0.00219498\n"
     ]
    }
   ],
   "source": [
    "# Feature Importances\n",
    "headers = [\"name\", \"score\"]\n",
    "values = sorted(zip(data_all.head(), model_RF.feature_importances_), key=lambda x: x[1] * -1)\n",
    "print(tabulate(values, headers, tablefmt=\"plain\"))"
   ]
  },
  {
   "cell_type": "markdown",
   "metadata": {},
   "source": [
    "# Conclusion"
   ]
  },
  {
   "cell_type": "markdown",
   "metadata": {},
   "source": [
    "* Feature importance results indicates that alcohol consumption is not very helpful in the average grade of the students.\n",
    "\n",
    "* Number of past classes failure is the most important variable. After it the number of absences is the effective feature for estimating average grade value.\n",
    "\n",
    "* According to the obtained accuracy random forest is the best method among two others to estimate average grade of the students.\n",
    "\n",
    "* The higher accuracy of the RF may rely in the number of features in the input space, where RF can more accurately separate the data using the availabe features.\n",
    "\n",
    "* The main soruces of error are high and low grade values that raise the mse value of the test subset.\n",
    "\n",
    "* Different method of preprocessing the data, choosing optimal number of hidden node in neural networks and also changing the way of presenting data to the algorithms can change the obtained accuracy.\n",
    "\n",
    "* According to statistics of the data and also importance of the feature daily and weekend alcohol consumption are not the main criteria for forcasting average grade of the student.\n"
   ]
  }
 ],
 "metadata": {
  "kernelspec": {
   "display_name": "Python 3",
   "language": "python",
   "name": "python3"
  },
  "language_info": {
   "codemirror_mode": {
    "name": "ipython",
    "version": 3
   },
   "file_extension": ".py",
   "mimetype": "text/x-python",
   "name": "python",
   "nbconvert_exporter": "python",
   "pygments_lexer": "ipython3",
   "version": "3.6.9"
  }
 },
 "nbformat": 4,
 "nbformat_minor": 2
}
